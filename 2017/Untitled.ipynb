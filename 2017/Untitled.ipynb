{
 "cells": [
  {
   "cell_type": "code",
   "execution_count": 30,
   "id": "7768f2a4-26e2-47c8-aad4-0210e26ec680",
   "metadata": {
    "tags": []
   },
   "outputs": [],
   "source": [
    "import re\n",
    "from dataclasses import dataclass, field\n",
    "from collections import defaultdict\n",
    "from operator import ge, gt, le, lt, add, sub, eq, ne"
   ]
  },
  {
   "cell_type": "code",
   "execution_count": 47,
   "id": "4bc1bc97-aad4-4f5c-bfb2-c57b9ba90e49",
   "metadata": {
    "tags": []
   },
   "outputs": [],
   "source": [
    "pattern = r'^(\\w+) (dec|inc) (-?\\d+) if (\\w+) (<|<=|==|!=|>|>=) (-?\\d+)$'\n",
    "\n",
    "direction_mapper = {'dec':sub, 'inc':add}\n",
    "operation_mapper = {'>=':ge, '>':gt, '==':eq, '!=':ne, '<=':le, '<':lt}\n",
    "\n",
    "@dataclass\n",
    "class Instruction:\n",
    "    target: str\n",
    "    direction: any\n",
    "    amount: int\n",
    "    condition_register: str\n",
    "    condition_check: any\n",
    "    condition_value: int\n",
    "    \n",
    "    def __post_init__(self):\n",
    "        self.direction = direction_mapper[self.direction]\n",
    "        self.amount = int(self.amount)\n",
    "        self.condition_value = int(self.condition_value)\n",
    "        self.condition_check = operation_mapper[self.condition_check]\n",
    "        \n",
    "def parse(raw:str) -> list[Instruction]:\n",
    "    lines = raw.split('\\n')\n",
    "    relevant_instructions = [re.match(pattern, line).groups() for line in lines]\n",
    "    return [Instruction(*instruction) for instruction in relevant_instructions]\n",
    "\n",
    "with open('inputs/day08.txt') as f:\n",
    "    INSTRUCTIONS = parse(f.read())\n",
    "    \n",
    "register_values = defaultdict(int)"
   ]
  },
  {
   "cell_type": "code",
   "execution_count": 48,
   "id": "d142382d-3cbb-4d7b-9e79-a65f29c75126",
   "metadata": {
    "tags": []
   },
   "outputs": [
    {
     "name": "stdout",
     "output_type": "stream",
     "text": [
      "The largest value in any register after completing the instructions is 5221.\n",
      "The highest value held in any register during the process is 7491.\n"
     ]
    }
   ],
   "source": [
    "highest_value_held = 0\n",
    "\n",
    "for instruction in INSTRUCTIONS:\n",
    "    check_value = register_values[instruction.condition_register]\n",
    "    condition_met = instruction.condition_check(check_value, instruction.condition_value)\n",
    "    \n",
    "    if condition_met:\n",
    "        register_values[instruction.target] = instruction.direction(register_values[instruction.target], instruction.amount)\n",
    "        highest_value_held = max(highest_value_held, register_values[instruction.target])\n",
    "        \n",
    "print(f'The largest value in any register after completing the instructions is {max(register_values.values())}.')\n",
    "print(f'The highest value held in any register during the process is {highest_value_held}.')"
   ]
  },
  {
   "cell_type": "code",
   "execution_count": 39,
   "id": "cb8c1d02-a023-4f76-b9c1-92e270b69534",
   "metadata": {
    "tags": []
   },
   "outputs": [
    {
     "data": {
      "text/plain": [
       "5221"
      ]
     },
     "execution_count": 39,
     "metadata": {},
     "output_type": "execute_result"
    }
   ],
   "source": [
    "max(register_values.values())"
   ]
  },
  {
   "cell_type": "code",
   "execution_count": 2,
   "id": "2e4b5d4f-d75c-4dff-a82d-20bbcfabc0eb",
   "metadata": {},
   "outputs": [
    {
     "data": {
      "text/plain": [
       "<re.Match object; span=(0, 1), match='t'>"
      ]
     },
     "execution_count": 2,
     "metadata": {},
     "output_type": "execute_result"
    }
   ],
   "source": [
    "    import re\n",
    "\n",
    "    pattern = r'[^ab]'\n",
    "\n",
    "    invalid_characters = re.compile(pattern)\n",
    "\n",
    "invalid_characters.match('test')"
   ]
  },
  {
   "cell_type": "code",
   "execution_count": null,
   "id": "08e33501-3674-4817-9435-6ece3aae6bba",
   "metadata": {},
   "outputs": [],
   "source": []
  }
 ],
 "metadata": {
  "kernelspec": {
   "display_name": "Python 3 (ipykernel)",
   "language": "python",
   "name": "python3"
  },
  "language_info": {
   "codemirror_mode": {
    "name": "ipython",
    "version": 3
   },
   "file_extension": ".py",
   "mimetype": "text/x-python",
   "name": "python",
   "nbconvert_exporter": "python",
   "pygments_lexer": "ipython3",
   "version": "3.9.18"
  }
 },
 "nbformat": 4,
 "nbformat_minor": 5
}
