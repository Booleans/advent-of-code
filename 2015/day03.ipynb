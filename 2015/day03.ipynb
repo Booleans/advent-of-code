{
 "cells": [
  {
   "cell_type": "code",
   "execution_count": 4,
   "metadata": {},
   "outputs": [],
   "source": [
    "import re\n",
    "\n",
    "with open('inputs/day03.txt') as f:\n",
    "    inputs = f.read()\n",
    "    inputs = re.sub(r'[^\\^v<>]', '', inputs)"
   ]
  },
  {
   "cell_type": "code",
   "execution_count": 7,
   "metadata": {},
   "outputs": [],
   "source": [
    "translator = str.maketrans('^v><', 'NSEW')"
   ]
  },
  {
   "cell_type": "code",
   "execution_count": 11,
   "metadata": {},
   "outputs": [],
   "source": [
    "directions = inputs.translate(translator)\n",
    "x_pos = 0\n",
    "y_pos = 0\n",
    "\n",
    "coordinates = (x_pos, y_pos)\n",
    "\n",
    "house_locations = [(0, 0)]\n",
    "\n",
    "for direction in directions:\n",
    "    if direction == 'N':\n",
    "        y_pos += 1\n",
    "    elif direction == 'S':\n",
    "        y_pos -= 1\n",
    "    elif direction == 'E':\n",
    "        x_pos += 1\n",
    "    else:\n",
    "        x_pos -= 1\n",
    "    position = (x_pos, y_pos)\n",
    "\n",
    "    house_locations.append(position)"
   ]
  },
  {
   "cell_type": "code",
   "execution_count": 14,
   "metadata": {},
   "outputs": [
    {
     "data": {
      "text/plain": [
       "2592"
      ]
     },
     "execution_count": 14,
     "metadata": {},
     "output_type": "execute_result"
    }
   ],
   "source": [
    "len(set(house_locations))"
   ]
  },
  {
   "cell_type": "code",
   "execution_count": 18,
   "metadata": {},
   "outputs": [],
   "source": [
    "santas_directions = directions[::2]\n",
    "robo_santas_directions = directions[1::2]"
   ]
  },
  {
   "cell_type": "code",
   "execution_count": 23,
   "metadata": {},
   "outputs": [],
   "source": [
    "house_locations = [(0, 0), (0, 0)]\n",
    "x_pos = 0\n",
    "y_pos = 0\n",
    "for direction in santas_directions:\n",
    "    if direction == 'N':\n",
    "        y_pos += 1\n",
    "    elif direction == 'S':\n",
    "        y_pos -= 1\n",
    "    elif direction == 'E':\n",
    "        x_pos += 1\n",
    "    else:\n",
    "        x_pos -= 1\n",
    "    position = (x_pos, y_pos)\n",
    "\n",
    "    house_locations.append(position)\n",
    "\n",
    "x_pos = 0\n",
    "y_pos = 0\n",
    "for direction in robo_santas_directions:\n",
    "    if direction == 'N':\n",
    "        y_pos += 1\n",
    "    elif direction == 'S':\n",
    "        y_pos -= 1\n",
    "    elif direction == 'E':\n",
    "        x_pos += 1\n",
    "    else:\n",
    "        x_pos -= 1\n",
    "    position = (x_pos, y_pos)\n",
    "\n",
    "    house_locations.append(position)"
   ]
  },
  {
   "cell_type": "code",
   "execution_count": 26,
   "metadata": {},
   "outputs": [
    {
     "data": {
      "text/plain": [
       "2360"
      ]
     },
     "execution_count": 26,
     "metadata": {},
     "output_type": "execute_result"
    }
   ],
   "source": [
    "len(set(house_locations))"
   ]
  },
  {
   "cell_type": "code",
   "execution_count": null,
   "metadata": {},
   "outputs": [],
   "source": []
  }
 ],
 "metadata": {
  "interpreter": {
   "hash": "a91bc8a063c3c2ea66956a02b877c5d73840bc36afc8b1449b0f86f6d67fc53a"
  },
  "kernelspec": {
   "display_name": "Python 3.9.7 64-bit",
   "language": "python",
   "name": "python3"
  },
  "language_info": {
   "codemirror_mode": {
    "name": "ipython",
    "version": 3
   },
   "file_extension": ".py",
   "mimetype": "text/x-python",
   "name": "python",
   "nbconvert_exporter": "python",
   "pygments_lexer": "ipython3",
   "version": "3.9.7"
  },
  "orig_nbformat": 4
 },
 "nbformat": 4,
 "nbformat_minor": 2
}
