{
 "cells": [
  {
   "cell_type": "code",
   "execution_count": 1,
   "metadata": {},
   "outputs": [
    {
     "data": {
      "text/plain": [
       "['mxmkjvgsdzfhseightonetwoeight7',\n",
       " '3five4s84four9rtbzllggz',\n",
       " '75sevenzdrpkv1onetwo',\n",
       " '3q7ctkghhqkpb5four',\n",
       " 'ccxpblrgrjxcgrhjxfmtwonine8eightzzrdn4']"
      ]
     },
     "execution_count": 1,
     "metadata": {},
     "output_type": "execute_result"
    }
   ],
   "source": [
    "with open(\"inputs/day01.txt\") as f:\n",
    "    instructions = f.read().split()\n",
    "\n",
    "instructions[:5]"
   ]
  },
  {
   "cell_type": "code",
   "execution_count": 2,
   "metadata": {},
   "outputs": [
    {
     "data": {
      "text/plain": [
       "['3', '4', '8', '4', '9']"
      ]
     },
     "execution_count": 2,
     "metadata": {},
     "output_type": "execute_result"
    }
   ],
   "source": [
    "import re\n",
    "\n",
    "pattern = r'(\\d)'\n",
    "\n",
    "digits = re.compile(pattern)\n",
    "\n",
    "digits.findall(instructions[1])"
   ]
  },
  {
   "cell_type": "code",
   "execution_count": 3,
   "metadata": {},
   "outputs": [],
   "source": [
    "total = 0\n",
    "\n",
    "for instruction in instructions:\n",
    "    numbers = digits.findall(instruction)\n",
    "    total += int(f'{numbers[0]}{numbers[-1]}')"
   ]
  },
  {
   "cell_type": "code",
   "execution_count": 4,
   "metadata": {},
   "outputs": [
    {
     "data": {
      "text/plain": [
       "'mxmkjvgsdzfhseightonetwoeight7'"
      ]
     },
     "execution_count": 4,
     "metadata": {},
     "output_type": "execute_result"
    }
   ],
   "source": [
    "instructions[0]"
   ]
  },
  {
   "cell_type": "code",
   "execution_count": 18,
   "metadata": {},
   "outputs": [
    {
     "data": {
      "text/plain": [
       "['eight', 'one', 'two', 'eight', '7']"
      ]
     },
     "execution_count": 18,
     "metadata": {},
     "output_type": "execute_result"
    }
   ],
   "source": [
    "pattern = r'(?=(\\d|zero|one|two|three|four|five|six|seven|eight|nine))'\n",
    "\n",
    "digits = re.compile(pattern)\n",
    "\n",
    "digits.findall(instructions[0])"
   ]
  },
  {
   "cell_type": "code",
   "execution_count": 19,
   "metadata": {},
   "outputs": [
    {
     "data": {
      "text/plain": [
       "53592"
      ]
     },
     "execution_count": 19,
     "metadata": {},
     "output_type": "execute_result"
    }
   ],
   "source": [
    "mapper = {'zero':0, 'one':1, 'two':2, 'three':3, 'four':4, 'five':5, 'six':6, 'seven':7, 'eight':8, 'nine':9}\n",
    "total = 0\n",
    "\n",
    "for instruction in instructions:\n",
    "    numbers = digits.findall(instruction)\n",
    "    first = numbers[0]\n",
    "    last = numbers[-1]\n",
    "\n",
    "    if first in mapper:\n",
    "        first = mapper[first]\n",
    "    if last in mapper:\n",
    "        last = mapper[last]\n",
    "\n",
    "    total += int(f'{first}{last}')\n",
    "total"
   ]
  },
  {
   "cell_type": "code",
   "execution_count": 17,
   "metadata": {},
   "outputs": [
    {
     "data": {
      "text/plain": [
       "['one', 'eight']"
      ]
     },
     "execution_count": 17,
     "metadata": {},
     "output_type": "execute_result"
    }
   ],
   "source": [
    "pattern = r'(?=(\\d|zero|one|two|three|four|five|six|seven|eight|nine))'\n",
    "\n",
    "digits = re.compile(pattern)\n",
    "\n",
    "digits.findall('oneight')"
   ]
  },
  {
   "cell_type": "code",
   "execution_count": null,
   "metadata": {},
   "outputs": [],
   "source": []
  }
 ],
 "metadata": {
  "kernelspec": {
   "display_name": "Python 3",
   "language": "python",
   "name": "python3"
  },
  "language_info": {
   "codemirror_mode": {
    "name": "ipython",
    "version": 3
   },
   "file_extension": ".py",
   "mimetype": "text/x-python",
   "name": "python",
   "nbconvert_exporter": "python",
   "pygments_lexer": "ipython3",
   "version": "3.11.5"
  },
  "orig_nbformat": 4
 },
 "nbformat": 4,
 "nbformat_minor": 2
}
