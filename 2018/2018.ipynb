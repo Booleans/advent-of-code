{
 "cells": [
  {
   "cell_type": "code",
   "execution_count": 3,
   "id": "e63298df-f76f-468b-aa74-3e1ba4ee3902",
   "metadata": {},
   "outputs": [],
   "source": [
    "import re\n",
    "\n",
    "letter_twice = re.compile(r'^\\w*(\\w)\\w*\\1\\w*$')\n",
    "letter_thrice = re.compile(r'^\\w*(\\w)\\w*\\1\\w*\\1\\w*$')\n",
    "\n",
    "with open('inputs/day02.txt') as f:\n",
    "    words = f.read().split('\\n')"
   ]
  },
  {
   "cell_type": "code",
   "execution_count": 4,
   "id": "056fc3d0-9aa9-4276-a76e-4a36c03b5588",
   "metadata": {},
   "outputs": [],
   "source": [
    "letter_twice_only = {word for word in words if letter_twice.match(word) and not letter_thrice.match(word)}"
   ]
  },
  {
   "cell_type": "code",
   "execution_count": 5,
   "id": "49621919-0997-4a6a-9e28-bbba85d9f65a",
   "metadata": {},
   "outputs": [],
   "source": [
    "letter_thrice_only = {word for word in words if letter_thrice.match(word) and word not in letter_twice_only}"
   ]
  },
  {
   "cell_type": "code",
   "execution_count": 6,
   "id": "24d29e81-ce6c-4147-9293-daa4cfa9b3b7",
   "metadata": {},
   "outputs": [],
   "source": [
    "letter_twice_and_thrice = {word for word in words if letter_twice.match(word) and letter_thrice.match(word)}"
   ]
  },
  {
   "cell_type": "code",
   "execution_count": 1,
   "id": "1aeccf8c-e973-46d1-b808-8668c76b6049",
   "metadata": {},
   "outputs": [
    {
     "data": {
      "text/plain": [
       "30"
      ]
     },
     "execution_count": 1,
     "metadata": {},
     "output_type": "execute_result"
    }
   ],
   "source": [
    "sum(range(2, 11, 2))"
   ]
  },
  {
   "cell_type": "code",
   "execution_count": 4,
   "id": "78dc74e3-7579-4757-bfb2-68a0da174997",
   "metadata": {},
   "outputs": [
    {
     "data": {
      "text/plain": [
       "['', '25.00']"
      ]
     },
     "execution_count": 4,
     "metadata": {},
     "output_type": "execute_result"
    }
   ],
   "source": [
    "x = '$25.00'\n",
    "\n",
    "x.replace('$', '')\n",
    "x.split(\"$\")"
   ]
  },
  {
   "cell_type": "code",
   "execution_count": 8,
   "id": "58c6de47-ab0e-4037-85aa-d9271d0f3a30",
   "metadata": {},
   "outputs": [
    {
     "data": {
      "text/plain": [
       "224"
      ]
     },
     "execution_count": 8,
     "metadata": {},
     "output_type": "execute_result"
    }
   ],
   "source": [
    "len(letter_twice_only) "
   ]
  },
  {
   "cell_type": "code",
   "execution_count": 9,
   "id": "260ec360-d20e-46d4-a484-bac96faec5e3",
   "metadata": {},
   "outputs": [
    {
     "data": {
      "text/plain": [
       "26"
      ]
     },
     "execution_count": 9,
     "metadata": {},
     "output_type": "execute_result"
    }
   ],
   "source": [
    "len(letter_thrice_only)"
   ]
  },
  {
   "cell_type": "code",
   "execution_count": 10,
   "id": "4bd1072d-eef1-4a56-a41d-d2c0cc49071a",
   "metadata": {},
   "outputs": [
    {
     "data": {
      "text/plain": [
       "5824"
      ]
     },
     "execution_count": 10,
     "metadata": {},
     "output_type": "execute_result"
    }
   ],
   "source": [
    "224*26"
   ]
  },
  {
   "cell_type": "code",
   "execution_count": 11,
   "id": "fee3b981-99b3-4898-8d8c-0f657d59929e",
   "metadata": {},
   "outputs": [
    {
     "data": {
      "text/plain": [
       "'myhposlqgeauywfikztndcvrqr'"
      ]
     },
     "execution_count": 11,
     "metadata": {},
     "output_type": "execute_result"
    }
   ],
   "source": [
    "x = words[0]\n",
    "x"
   ]
  },
  {
   "cell_type": "code",
   "execution_count": 12,
   "id": "e504db8c-31fa-4ed3-9966-9eacb740a66c",
   "metadata": {},
   "outputs": [],
   "source": [
    "from collections import Counter"
   ]
  },
  {
   "cell_type": "code",
   "execution_count": 13,
   "id": "7fce3e23-df71-41c6-8a88-038be6c01ef3",
   "metadata": {},
   "outputs": [],
   "source": [
    "letter_twice = {word for word in words if 2 in Counter(word).values()}\n",
    "letter_thrice = {word for word in words if 3 in Counter(word).values()}"
   ]
  },
  {
   "cell_type": "code",
   "execution_count": 14,
   "id": "64631914-ff1e-441a-9615-131232240e81",
   "metadata": {},
   "outputs": [
    {
     "data": {
      "text/plain": [
       "249"
      ]
     },
     "execution_count": 14,
     "metadata": {},
     "output_type": "execute_result"
    }
   ],
   "source": [
    "len(letter_twice)"
   ]
  },
  {
   "cell_type": "code",
   "execution_count": 15,
   "id": "79922d53-ed00-44f3-9175-c06c75335627",
   "metadata": {},
   "outputs": [
    {
     "data": {
      "text/plain": [
       "26"
      ]
     },
     "execution_count": 15,
     "metadata": {},
     "output_type": "execute_result"
    }
   ],
   "source": [
    "len(letter_thrice)"
   ]
  },
  {
   "cell_type": "code",
   "execution_count": 16,
   "id": "b0c983d9-7165-4f92-a0c3-3306851b84d6",
   "metadata": {},
   "outputs": [
    {
     "data": {
      "text/plain": [
       "6474"
      ]
     },
     "execution_count": 16,
     "metadata": {},
     "output_type": "execute_result"
    }
   ],
   "source": [
    "249*26"
   ]
  },
  {
   "cell_type": "code",
   "execution_count": 17,
   "id": "99d1501a-fda0-4295-9733-e501b1b84601",
   "metadata": {},
   "outputs": [],
   "source": [
    "from itertools import combinations"
   ]
  },
  {
   "cell_type": "code",
   "execution_count": 18,
   "id": "bc125733-9eba-44ea-b866-f0ba8ce169c0",
   "metadata": {},
   "outputs": [],
   "source": [
    "box_pairs = list(combinations(words, 2))"
   ]
  },
  {
   "cell_type": "code",
   "execution_count": 19,
   "id": "a98d855a-2ed1-448c-a4ec-628bf05f6eca",
   "metadata": {},
   "outputs": [
    {
     "ename": "NameError",
     "evalue": "name 'word_pairs' is not defined",
     "output_type": "error",
     "traceback": [
      "\u001b[1;31m---------------------------------------------------------------------------\u001b[0m",
      "\u001b[1;31mNameError\u001b[0m                                 Traceback (most recent call last)",
      "Cell \u001b[1;32mIn [19], line 1\u001b[0m\n\u001b[1;32m----> 1\u001b[0m \u001b[38;5;28;01mfor\u001b[39;00m box1, box2 \u001b[38;5;129;01min\u001b[39;00m \u001b[43mword_pairs\u001b[49m:\n\u001b[0;32m      2\u001b[0m     num_differences \u001b[38;5;241m=\u001b[39m \u001b[38;5;28msum\u001b[39m(box_1_letter \u001b[38;5;241m!=\u001b[39m box_2_letter \u001b[38;5;28;01mfor\u001b[39;00m box_1_letter, box_2_letter \u001b[38;5;129;01min\u001b[39;00m \u001b[38;5;28mzip\u001b[39m(box1, box2))\n\u001b[0;32m      3\u001b[0m     \u001b[38;5;28;01mif\u001b[39;00m num_differences \u001b[38;5;241m==\u001b[39m \u001b[38;5;241m1\u001b[39m:\n",
      "\u001b[1;31mNameError\u001b[0m: name 'word_pairs' is not defined"
     ]
    }
   ],
   "source": [
    "for box1, box2 in word_pairs:\n",
    "    num_differences = sum(box_1_letter != box_2_letter for box_1_letter, box_2_letter in zip(box1, box2))\n",
    "    if num_differences == 1:\n",
    "        matching_letters = [box_1_letter for box_1_letter, box_2_letter in zip(box1, box2) if box_1_letter == box_2_letter]\n",
    "        print(''.join(matching_letters))"
   ]
  },
  {
   "cell_type": "code",
   "execution_count": null,
   "id": "754ceee2-d112-4414-ac9b-d08733592bf2",
   "metadata": {},
   "outputs": [],
   "source": [
    "range(2, 4) in range(1, 4)"
   ]
  },
  {
   "cell_type": "code",
   "execution_count": null,
   "id": "a54e4f14-5062-459f-9140-32aeec5660eb",
   "metadata": {},
   "outputs": [],
   "source": [
    "set(range(0, 4)) & set(range(2, 5))"
   ]
  },
  {
   "cell_type": "code",
   "execution_count": null,
   "id": "25e87d21-f5d1-4a16-93ea-c63dbe922cc2",
   "metadata": {},
   "outputs": [],
   "source": [
    "set.intersection(range(0, 4), range(2, 5))"
   ]
  },
  {
   "cell_type": "code",
   "execution_count": null,
   "id": "f31af866-06d9-4f93-a031-b33cb60141fd",
   "metadata": {},
   "outputs": [],
   "source": [
    "@dataclass\n",
    "class Spaceship:\n",
    "    claim: str\n",
    "    mass: int\n",
    "    fuel_for_mass: int = field(init=False)\n",
    "    fuel_for_fuel: int = field(init=False)\n",
    "    fuel_total:    int = field(init=False)\n",
    "\n",
    "    def __post_init__(self):\n",
    "        self.fuel_for_mass = self.mass//3 - 2\n",
    "        self.fuel_for_fuel = 0\n",
    "        fuel_added = self.fuel_for_mass\n",
    "        while fuel_added > 0:\n",
    "            additional_fuel_needed = fuel_added//3 - 2\n",
    "            fuel_added = additional_fuel_needed\n",
    "            if additional_fuel_needed > 0:\n",
    "                self.fuel_for_fuel += additional_fuel_needed\n",
    "        \n",
    "        self.fuel_total = self.fuel_for_mass + self.fuel_for_fuel\n"
   ]
  },
  {
   "cell_type": "code",
   "execution_count": null,
   "id": "3496985b-7295-4494-9cca-4b1f23acfb86",
   "metadata": {},
   "outputs": [],
   "source": [
    "from dataclasses import dataclass, field"
   ]
  },
  {
   "cell_type": "code",
   "execution_count": null,
   "id": "ca8820eb-854d-43a2-ae89-621b7b32b46b",
   "metadata": {},
   "outputs": [],
   "source": [
    "@dataclass\n",
    "class Rectangle:\n",
    "    claim: str\n",
    "    ID: str = field(init=False)\n",
    "    inches_from_left: int = field(init=False)\n",
    "    inches_from_top: int = field(init=False)\n",
    "    width: int = field(init=False)\n",
    "    height: int = field(init=False)\n",
    "    x_min: int = field(init=False)\n",
    "    x_max: int = field(init=False)\n",
    "    y_min: int = field(init=False)\n",
    "    y_max: int = field(init=False)\n",
    "    coordinates: set((int, int)) = field(init=False)\n",
    "    \n",
    "    def __post_init__(self):\n",
    "        claim_components = self.claim.split()\n",
    "        self.ID = claim_components[0]\n",
    "        inches_from_left, inches_from_top = claim_components[2][:-1].split(',')\n",
    "        self.inches_from_left = int(inches_from_left)\n",
    "        self.inches_from_top = int(inches_from_top)\n",
    "        width, height = claim_components[3].split('x')\n",
    "        self.width = int(width)\n",
    "        self.height = int(height)\n",
    "        self.x_min = self.inches_from_left\n",
    "        self.x_max = self.x_min + self.width\n",
    "        self.y_min = self.inches_from_top\n",
    "        self.y_max = self.y_min + self.height\n",
    "        self.coordinates = {(x, y) for x in range(self.x_min, self.x_max)\n",
    "                                   for y in range(self.y_min, self.y_max)}"
   ]
  },
  {
   "cell_type": "code",
   "execution_count": null,
   "id": "4f0a1298-ad69-4165-b808-0b505f526158",
   "metadata": {},
   "outputs": [],
   "source": [
    "# #23 @ 559,307: 26x22"
   ]
  },
  {
   "cell_type": "code",
   "execution_count": null,
   "id": "13f90436-c608-4a72-8797-958763154b6c",
   "metadata": {},
   "outputs": [],
   "source": [
    "Rectangle('#123 @ 3,2: 5x4')"
   ]
  },
  {
   "cell_type": "code",
   "execution_count": null,
   "id": "fd6a4484-6166-419c-8a6e-752149f29359",
   "metadata": {},
   "outputs": [],
   "source": [
    "with open('inputs/day03.txt') as f:\n",
    "    rectangles = [Rectangle(line) for line in f.read().split('\\n')]"
   ]
  },
  {
   "cell_type": "code",
   "execution_count": null,
   "id": "13f14e05-0b32-421c-984b-efee43897271",
   "metadata": {},
   "outputs": [],
   "source": [
    "rectangles[0]"
   ]
  },
  {
   "cell_type": "code",
   "execution_count": null,
   "id": "ab6ab5ad-6f2f-4e0c-90b8-6f532440c2a1",
   "metadata": {},
   "outputs": [],
   "source": [
    "coordinates_occupied = set()\n",
    "overlapping_coordinates = set()\n",
    "\n",
    "for rectangle in rectangles:\n",
    "    for coordinate in rectangle.coordinates:\n",
    "        if coordinate in coordinates_occupied:    \n",
    "            overlapping_coordinates.add(coordinate)\n",
    "        else:\n",
    "            coordinates_occupied.add(coordinate)\n",
    "            \n",
    "len(overlapping_coordinates)"
   ]
  },
  {
   "cell_type": "code",
   "execution_count": null,
   "id": "e5c6a6c7-ecbd-4525-8b63-dc4a27abcf3c",
   "metadata": {},
   "outputs": [],
   "source": [
    "for rectangle in rectangles:\n",
    "    if overlap_found(rectangles[35], rectangle):\n",
    "        print('Yay!')"
   ]
  },
  {
   "cell_type": "code",
   "execution_count": null,
   "id": "e5fb4bd0-f8f5-4d8a-81a6-2df4789b2c13",
   "metadata": {},
   "outputs": [],
   "source": [
    "rectangle_with_no_overlap = None\n",
    "\n",
    "for i, rectangle1 in enumerate(rectangles):\n",
    "    for rectangle2 in rectangles[:i] + rectangles[i+1:]:\n",
    "        if overlap_found(rectangle1, rectangle2):\n",
    "            break\n",
    "    else:\n",
    "        rectangle_with_no_overlap = rectangle1\n",
    "        break\n",
    "        \n",
    "print(rectangle_with_no_overlap.ID)"
   ]
  },
  {
   "cell_type": "code",
   "execution_count": null,
   "id": "29bd7731-83fd-4d1a-a919-0c27fe590fba",
   "metadata": {},
   "outputs": [],
   "source": [
    "rectangles[:0] + rectangles[1:3]"
   ]
  },
  {
   "cell_type": "code",
   "execution_count": null,
   "id": "934fa762-6211-4851-a25b-aca9aeae2369",
   "metadata": {},
   "outputs": [],
   "source": [
    "set.intersection(rectangles[0].coordinates, rectangles[3].coordinates)"
   ]
  },
  {
   "cell_type": "code",
   "execution_count": null,
   "id": "40978112-817d-47bb-a1c9-bd9a73106d98",
   "metadata": {},
   "outputs": [],
   "source": [
    "for i, rectangle1 in enumerate(rectangles):\n",
    "    all_other_rectangles = rectangles[:i] + rectangles[i+1:]\n",
    "    if not any(set.intersection(rectangle1.coordinates, rectangle2.coordinates) for rectangle2 in all_other_rectangles):\n",
    "        print(rectangle1.ID)\n",
    "        break\n",
    "print(rectangle1.ID)"
   ]
  },
  {
   "cell_type": "code",
   "execution_count": null,
   "id": "d8a7eee6-53fa-4930-a8ac-1168eabdf814",
   "metadata": {},
   "outputs": [],
   "source": [
    "x = {1, 2, 3, 4}\n",
    "y = {4, 5, 6}"
   ]
  },
  {
   "cell_type": "code",
   "execution_count": null,
   "id": "88d953a4-5f7a-47d9-b108-8924cbfeb681",
   "metadata": {},
   "outputs": [],
   "source": [
    "x.update(y)"
   ]
  },
  {
   "cell_type": "code",
   "execution_count": null,
   "id": "6d40414c-338a-41cc-b9f4-a371bee1a188",
   "metadata": {},
   "outputs": [],
   "source": [
    "x"
   ]
  },
  {
   "cell_type": "code",
   "execution_count": 20,
   "id": "e4b9a75f-684f-475f-873e-b22c7f9611f7",
   "metadata": {},
   "outputs": [],
   "source": [
    "from datetime import datetime\n",
    "\n",
    "with open('inputs/day04.txt') as f:\n",
    "    records = [line for line in f.read().split('\\n')]"
   ]
  },
  {
   "cell_type": "code",
   "execution_count": 21,
   "id": "11f267cb-d522-4e07-9e9b-8add9b01366c",
   "metadata": {},
   "outputs": [
    {
     "ename": "NameError",
     "evalue": "name 'guards_history' is not defined",
     "output_type": "error",
     "traceback": [
      "\u001b[1;31m---------------------------------------------------------------------------\u001b[0m",
      "\u001b[1;31mNameError\u001b[0m                                 Traceback (most recent call last)",
      "Cell \u001b[1;32mIn [21], line 1\u001b[0m\n\u001b[1;32m----> 1\u001b[0m x \u001b[38;5;241m=\u001b[39m \u001b[43mguards_history\u001b[49m[\u001b[38;5;241m0\u001b[39m]\n\u001b[0;32m      2\u001b[0m x\n",
      "\u001b[1;31mNameError\u001b[0m: name 'guards_history' is not defined"
     ]
    }
   ],
   "source": [
    "x = guards_history[0]\n",
    "x"
   ]
  },
  {
   "cell_type": "code",
   "execution_count": 23,
   "id": "59db31e0-ada9-425f-9fa7-c8cb153c6515",
   "metadata": {},
   "outputs": [
    {
     "data": {
      "text/plain": [
       "datetime.datetime(1518, 10, 28, 0, 23)"
      ]
     },
     "execution_count": 23,
     "metadata": {},
     "output_type": "execute_result"
    }
   ],
   "source": [
    "datetime.fromisoformat('1518-10-28 00:23')"
   ]
  },
  {
   "cell_type": "code",
   "execution_count": 24,
   "id": "71bd2269-2a73-412b-b4cc-fffa305d4146",
   "metadata": {},
   "outputs": [
    {
     "ename": "ValueError",
     "evalue": "Invalid isoformat string: '1518-06-12 00:00] Guard #3359 begins shif'",
     "output_type": "error",
     "traceback": [
      "\u001b[1;31m---------------------------------------------------------------------------\u001b[0m",
      "\u001b[1;31mValueError\u001b[0m                                Traceback (most recent call last)",
      "Cell \u001b[1;32mIn [24], line 1\u001b[0m\n\u001b[1;32m----> 1\u001b[0m [datetime\u001b[38;5;241m.\u001b[39mfromisoformat(record[\u001b[38;5;241m1\u001b[39m:\u001b[38;5;241m-\u001b[39m\u001b[38;5;241m1\u001b[39m]) \u001b[38;5;28;01mfor\u001b[39;00m record \u001b[38;5;129;01min\u001b[39;00m records]\n",
      "Cell \u001b[1;32mIn [24], line 1\u001b[0m, in \u001b[0;36m<listcomp>\u001b[1;34m(.0)\u001b[0m\n\u001b[1;32m----> 1\u001b[0m [\u001b[43mdatetime\u001b[49m\u001b[38;5;241;43m.\u001b[39;49m\u001b[43mfromisoformat\u001b[49m\u001b[43m(\u001b[49m\u001b[43mrecord\u001b[49m\u001b[43m[\u001b[49m\u001b[38;5;241;43m1\u001b[39;49m\u001b[43m:\u001b[49m\u001b[38;5;241;43m-\u001b[39;49m\u001b[38;5;241;43m1\u001b[39;49m\u001b[43m]\u001b[49m\u001b[43m)\u001b[49m \u001b[38;5;28;01mfor\u001b[39;00m record \u001b[38;5;129;01min\u001b[39;00m records]\n",
      "\u001b[1;31mValueError\u001b[0m: Invalid isoformat string: '1518-06-12 00:00] Guard #3359 begins shif'"
     ]
    }
   ],
   "source": [
    "[datetime.fromisoformat(record[1:-1]) for record in records]"
   ]
  },
  {
   "cell_type": "code",
   "execution_count": 3,
   "id": "0f7d4e24-f1c7-44eb-9a50-b57dec341f38",
   "metadata": {},
   "outputs": [],
   "source": [
    "from dataclasses import dataclass, field\n",
    "from datetime import datetime\n",
    "\n",
    "@dataclass\n",
    "class Record:\n",
    "    log: int\n",
    "    time: datetime = field(init=False)\n",
    "    guard_id: str = field(init=False)\n",
    "    action: str = field(init=False)\n",
    "    \n",
    "    def __post_init__(self):\n",
    "        log_components = self.log.split()\n",
    "        self.time = datetime.fromisoformat(self.log[1:17])\n",
    "        self.guard_id = log_components[3]\n",
    "        self.action = f'{log_components[4]}'"
   ]
  },
  {
   "cell_type": "code",
   "execution_count": 27,
   "id": "b80553e5-46db-440c-9986-cced1cea2863",
   "metadata": {
    "tags": []
   },
   "outputs": [
    {
     "data": {
      "text/plain": [
       "['[1518-02-25 23:56] Guard #1201 begins shift',\n",
       " '[1518-02-26 00:14] falls asleep',\n",
       " '[1518-02-26 00:30] wakes up',\n",
       " '[1518-02-26 00:37] falls asleep',\n",
       " '[1518-02-26 00:42] wakes up',\n",
       " '[1518-02-26 00:50] falls asleep',\n",
       " '[1518-02-26 00:53] wakes up',\n",
       " '[1518-02-26 23:52] Guard #3359 begins shift',\n",
       " '[1518-02-27 00:05] falls asleep',\n",
       " '[1518-02-27 00:12] wakes up']"
      ]
     },
     "execution_count": 27,
     "metadata": {},
     "output_type": "execute_result"
    }
   ],
   "source": [
    "logs[:10]"
   ]
  },
  {
   "cell_type": "code",
   "execution_count": 26,
   "id": "ef1eaf8c-ab98-433e-948c-b282861aac67",
   "metadata": {},
   "outputs": [
    {
     "name": "stdout",
     "output_type": "stream",
     "text": [
      "1201\n",
      "1201\n",
      "1201\n",
      "3359\n",
      "3359\n",
      "1973\n",
      "1279\n",
      "1973\n",
      "1973\n",
      "181\n",
      "2591\n",
      "1201\n",
      "277\n",
      "277\n",
      "1153\n",
      "1279\n",
      "593\n",
      "593\n",
      "593\n",
      "3359\n",
      "593\n",
      "593\n",
      "607\n",
      "97\n",
      "97\n",
      "1069\n",
      "593\n",
      "593\n",
      "181\n",
      "181\n",
      "2591\n",
      "461\n",
      "3019\n",
      "3019\n",
      "1009\n",
      "1009\n",
      "1231\n",
      "277\n",
      "277\n",
      "277\n",
      "421\n",
      "197\n",
      "2591\n",
      "2591\n",
      "181\n",
      "2521\n",
      "2521\n",
      "421\n",
      "421\n",
      "421\n",
      "1973\n",
      "3359\n",
      "3019\n",
      "3019\n",
      "1279\n",
      "1201\n",
      "1201\n",
      "593\n",
      "1069\n",
      "421\n",
      "421\n",
      "2591\n",
      "197\n",
      "197\n",
      "461\n",
      "461\n",
      "607\n",
      "3359\n",
      "3359\n",
      "3019\n",
      "3019\n",
      "3019\n",
      "3019\n",
      "1973\n",
      "1009\n",
      "2591\n",
      "1069\n",
      "1069\n",
      "1069\n",
      "1069\n",
      "97\n",
      "97\n",
      "97\n",
      "593\n",
      "593\n",
      "607\n",
      "607\n",
      "607\n",
      "3019\n",
      "607\n",
      "607\n",
      "2339\n",
      "1231\n",
      "1231\n",
      "1231\n",
      "1069\n",
      "421\n",
      "1973\n",
      "1973\n",
      "461\n",
      "421\n",
      "1231\n",
      "1153\n",
      "1201\n",
      "1201\n",
      "1201\n",
      "1153\n",
      "421\n",
      "421\n",
      "1153\n",
      "197\n",
      "1279\n",
      "1279\n",
      "2339\n",
      "1279\n",
      "1279\n",
      "1279\n",
      "1973\n",
      "593\n",
      "593\n",
      "593\n",
      "1279\n",
      "1153\n",
      "2521\n",
      "2521\n",
      "1009\n",
      "2339\n",
      "2339\n",
      "3019\n",
      "1231\n",
      "1231\n",
      "2339\n",
      "2339\n",
      "197\n",
      "197\n",
      "197\n",
      "1009\n",
      "1009\n",
      "197\n",
      "197\n",
      "1153\n",
      "1153\n",
      "277\n",
      "277\n",
      "1973\n",
      "97\n",
      "3019\n",
      "3019\n",
      "3019\n",
      "1279\n",
      "1279\n",
      "3019\n",
      "3019\n",
      "1279\n",
      "1279\n",
      "181\n",
      "181\n",
      "1201\n",
      "1201\n",
      "3359\n",
      "3359\n",
      "97\n",
      "97\n",
      "1201\n",
      "1231\n",
      "1231\n",
      "181\n",
      "97\n",
      "97\n",
      "97\n",
      "593\n",
      "593\n",
      "3019\n",
      "181\n",
      "1069\n",
      "3359\n",
      "1009\n",
      "1009\n",
      "181\n",
      "3019\n",
      "607\n",
      "1153\n",
      "1153\n",
      "1153\n",
      "1201\n",
      "1201\n",
      "1973\n",
      "1973\n",
      "461\n",
      "607\n",
      "2339\n",
      "2339\n",
      "97\n",
      "1153\n",
      "1153\n",
      "1153\n",
      "421\n",
      "97\n",
      "1069\n",
      "1069\n",
      "421\n",
      "2339\n",
      "3359\n",
      "3359\n",
      "3359\n",
      "2521\n",
      "421\n",
      "607\n",
      "461\n",
      "593\n",
      "2591\n",
      "421\n",
      "277\n",
      "1069\n",
      "1069\n",
      "461\n",
      "461\n",
      "607\n",
      "607\n",
      "1973\n",
      "2591\n",
      "2591\n",
      "197\n",
      "1201\n",
      "1201\n",
      "421\n",
      "421\n",
      "3019\n",
      "1069\n",
      "2339\n",
      "1231\n",
      "1009\n",
      "197\n",
      "2591\n",
      "2591\n",
      "1973\n",
      "1973\n",
      "1279\n",
      "181\n",
      "181\n",
      "3019\n",
      "3019\n",
      "1153\n",
      "2591\n",
      "2591\n",
      "1231\n",
      "2339\n",
      "1201\n",
      "2339\n",
      "421\n",
      "277\n",
      "1973\n",
      "2521\n",
      "2521\n",
      "1231\n",
      "1231\n",
      "1231\n",
      "593\n",
      "593\n",
      "2521\n",
      "2521\n",
      "1153\n",
      "2591\n",
      "1153\n",
      "1069\n",
      "1201\n",
      "1201\n",
      "421\n",
      "421\n",
      "1153\n",
      "1153\n",
      "97\n",
      "97\n",
      "1069\n",
      "2521\n",
      "2521\n",
      "2591\n",
      "1153\n",
      "1153\n",
      "2591\n",
      "2339\n",
      "2339\n",
      "1153\n",
      "181\n",
      "181\n",
      "181\n",
      "181\n",
      "1231\n",
      "1069\n",
      "1201\n",
      "97\n",
      "97\n",
      "421\n",
      "421\n",
      "1153\n",
      "1153\n",
      "421\n",
      "2521\n",
      "607\n",
      "607\n",
      "1201\n",
      "1201\n",
      "1973\n",
      "421\n",
      "3019\n",
      "607\n",
      "607\n",
      "3359\n",
      "2521\n",
      "2521\n",
      "2521\n",
      "1201\n",
      "1201\n",
      "1201\n",
      "1973\n",
      "1231\n",
      "181\n",
      "181\n",
      "181\n",
      "2591\n",
      "2521\n",
      "1973\n",
      "1973\n",
      "1069\n",
      "1069\n",
      "1069\n",
      "2591\n",
      "1201\n",
      "1201\n",
      "97\n",
      "277\n",
      "277\n",
      "1201\n",
      "1231\n",
      "3019\n",
      "3019\n",
      "1009\n",
      "1009\n",
      "1069\n",
      "1069\n",
      "2591\n",
      "2591\n",
      "461\n",
      "1973\n",
      "1973\n",
      "461\n",
      "97\n",
      "277\n",
      "277\n",
      "2339\n",
      "421\n",
      "421\n",
      "277\n",
      "1231\n",
      "1973\n",
      "1973\n",
      "2521\n",
      "2591\n",
      "197\n",
      "1069\n",
      "2339\n",
      "2339\n",
      "1069\n",
      "2339\n",
      "3359\n",
      "1153\n",
      "1069\n",
      "461\n",
      "421\n",
      "97\n",
      "1069\n",
      "1231\n",
      "1279\n",
      "1279\n",
      "97\n",
      "1201\n",
      "2591\n",
      "2591\n",
      "2591\n",
      "3019\n",
      "3019\n"
     ]
    }
   ],
   "source": [
    "from datetime import datetime\n",
    "import re\n",
    "\n",
    "with open('inputs/day04.txt') as f:\n",
    "    logs = [line for line in f.read().split('\\n')]\n",
    "    logs.sort(key=lambda val: datetime.fromisoformat(val[1:17]))\n",
    "    \n",
    "pattern = f'^.*#(\\d+).*$'\n",
    "\n",
    "guard_id = re.compile(pattern)\n",
    "\n",
    "active_guard = None\n",
    "falls_asleep_at = None\n",
    "wakes_up_at = None\n",
    "\n",
    "for log in logs:\n",
    "    if log[-12:] == 'falls asleep':\n",
    "        falls_asleep_at = int(log[15:17])\n",
    "    elif log[-8:] == 'wakes up':\n",
    "        wakes_up_at = int(log[15:17])\n",
    "    else:\n",
    "        active_guard = guard_id.match(log).groups()[0]\n",
    "        \n",
    "    if falls_asleep_at and wakes_up_at:\n",
    "        print(active_guard)\n",
    "        falls_asleep_at = None\n",
    "        wakes_up_at = None"
   ]
  },
  {
   "cell_type": "code",
   "execution_count": 25,
   "id": "60d42f6e-b569-4946-9a5b-0335992ef728",
   "metadata": {},
   "outputs": [
    {
     "data": {
      "text/plain": [
       "'[1518-02-26 00:14] falls asleep'"
      ]
     },
     "execution_count": 25,
     "metadata": {},
     "output_type": "execute_result"
    }
   ],
   "source": [
    "logs[1]"
   ]
  },
  {
   "cell_type": "code",
   "execution_count": 28,
   "id": "b5e1b5ff-991a-4f9a-8a13-0a90022e3c6a",
   "metadata": {},
   "outputs": [
    {
     "data": {
      "text/plain": [
       "'yhposlqgeauywfik'"
      ]
     },
     "execution_count": 28,
     "metadata": {},
     "output_type": "execute_result"
    }
   ],
   "source": [
    "x[1:17]"
   ]
  },
  {
   "cell_type": "code",
   "execution_count": 10,
   "id": "dd9173be-63f7-4fae-9e17-93953136a90a",
   "metadata": {},
   "outputs": [
    {
     "data": {
      "text/plain": [
       "'#1201'"
      ]
     },
     "execution_count": 10,
     "metadata": {},
     "output_type": "execute_result"
    }
   ],
   "source": [
    "import re\n",
    "\n",
    "re.match(r'^.*(#\\d+).*$', logs[0]).groups()[0]"
   ]
  },
  {
   "cell_type": "code",
   "execution_count": 11,
   "id": "a7853905-fc18-42f4-8b91-b986f3569035",
   "metadata": {},
   "outputs": [],
   "source": [
    "guards = dict()\n",
    "\n",
    "active_guard = None\n",
    "\n",
    "for log in logs:\n",
    "    if re.match(r'^.*(#\\d+).*$', log):\n",
    "        guard_id = re.match(r'^.*(#\\d+).*$', log).groups()[0]\n",
    "    "
   ]
  },
  {
   "cell_type": "code",
   "execution_count": 12,
   "id": "893b5137-0174-4d62-b49d-6de18208206c",
   "metadata": {},
   "outputs": [
    {
     "data": {
      "text/plain": [
       "'#3019'"
      ]
     },
     "execution_count": 12,
     "metadata": {},
     "output_type": "execute_result"
    }
   ],
   "source": [
    "guard_id"
   ]
  },
  {
   "cell_type": "code",
   "execution_count": null,
   "id": "9fb82268-9f31-483b-9c16-5dd065ad61e3",
   "metadata": {},
   "outputs": [],
   "source": [
    "class Guard("
   ]
  }
 ],
 "metadata": {
  "kernelspec": {
   "display_name": "Python 3 (ipykernel)",
   "language": "python",
   "name": "python3"
  },
  "language_info": {
   "codemirror_mode": {
    "name": "ipython",
    "version": 3
   },
   "file_extension": ".py",
   "mimetype": "text/x-python",
   "name": "python",
   "nbconvert_exporter": "python",
   "pygments_lexer": "ipython3",
   "version": "3.9.18"
  }
 },
 "nbformat": 4,
 "nbformat_minor": 5
}
