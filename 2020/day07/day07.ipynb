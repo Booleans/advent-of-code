{
 "cells": [
  {
   "cell_type": "code",
   "execution_count": 1,
   "id": "therapeutic-toronto",
   "metadata": {},
   "outputs": [],
   "source": [
    "import re"
   ]
  },
  {
   "cell_type": "code",
   "execution_count": 3,
   "id": "competent-harassment",
   "metadata": {},
   "outputs": [],
   "source": [
    "parent_bag_pattern = r'^(\\w+ \\w+) (?:bags.+)$'\n",
    "child_bag_pattern = r'(\\d \\w+ \\w+)'"
   ]
  },
  {
   "cell_type": "code",
   "execution_count": 4,
   "id": "focused-lighting",
   "metadata": {},
   "outputs": [],
   "source": [
    "with open('input.txt') as f:\n",
    "    rules = [line.strip() for line in f]"
   ]
  },
  {
   "cell_type": "code",
   "execution_count": 6,
   "id": "virgin-blast",
   "metadata": {},
   "outputs": [
    {
     "data": {
      "text/plain": [
       "'light beige bags contain 5 dark green bags, 5 light gray bags, 3 faded indigo bags, 2 vibrant aqua bags.'"
      ]
     },
     "execution_count": 6,
     "metadata": {},
     "output_type": "execute_result"
    }
   ],
   "source": [
    "rules[0]"
   ]
  },
  {
   "cell_type": "code",
   "execution_count": 44,
   "id": "generous-species",
   "metadata": {},
   "outputs": [
    {
     "data": {
      "text/plain": [
       "'light beige'"
      ]
     },
     "execution_count": 44,
     "metadata": {},
     "output_type": "execute_result"
    }
   ],
   "source": [
    "re.findall(parent_bag_pattern, rules[0])[0]"
   ]
  },
  {
   "cell_type": "code",
   "execution_count": 43,
   "id": "moving-complaint",
   "metadata": {},
   "outputs": [],
   "source": [
    "parents = dict()\n",
    "children = dict()"
   ]
  },
  {
   "cell_type": "code",
   "execution_count": 47,
   "id": "proved-blowing",
   "metadata": {},
   "outputs": [],
   "source": [
    "for rule in rules:\n",
    "    parent_color = re.findall(parent_bag_pattern, rule)[0]\n",
    "    parents[parent_color] = dict()\n",
    "\n",
    "    for child_bag in re.findall(child_bag_pattern, rule):\n",
    "        number = int(child_bag[:2])\n",
    "        color = child_bag[2:]\n",
    "\n",
    "        parents[parent_color][color] = number\n",
    "\n",
    "        if color not in children:\n",
    "            children[color] = set([parent_color])\n",
    "        else:\n",
    "            children[color].add(parent_color)"
   ]
  },
  {
   "cell_type": "code",
   "execution_count": 54,
   "id": "cellular-nelson",
   "metadata": {},
   "outputs": [
    {
     "data": {
      "text/plain": [
       "{'mirrored gold': 5, 'faded bronze': 2, 'faded coral': 2, 'vibrant maroon': 1}"
      ]
     },
     "execution_count": 54,
     "metadata": {},
     "output_type": "execute_result"
    }
   ],
   "source": [
    "parents['posh fuchsia']"
   ]
  },
  {
   "cell_type": "code",
   "execution_count": 57,
   "id": "local-founder",
   "metadata": {},
   "outputs": [
    {
     "data": {
      "text/plain": [
       "{'clear tan',\n",
       " 'dotted brown',\n",
       " 'dotted gray',\n",
       " 'drab turquoise',\n",
       " 'faded green',\n",
       " 'vibrant fuchsia',\n",
       " 'vibrant white'}"
      ]
     },
     "execution_count": 57,
     "metadata": {},
     "output_type": "execute_result"
    }
   ],
   "source": [
    "children['shiny gold']"
   ]
  },
  {
   "cell_type": "code",
   "execution_count": 65,
   "id": "decimal-suggestion",
   "metadata": {},
   "outputs": [
    {
     "data": {
      "text/plain": [
       "{'bright plum',\n",
       " 'dark tomato',\n",
       " 'dim crimson',\n",
       " 'dim lavender',\n",
       " 'dim plum',\n",
       " 'dotted purple',\n",
       " 'drab brown',\n",
       " 'drab silver',\n",
       " 'dull yellow',\n",
       " 'faded beige',\n",
       " 'faded black',\n",
       " 'faded plum',\n",
       " 'faded red',\n",
       " 'light turquoise',\n",
       " 'light violet',\n",
       " 'mirrored indigo',\n",
       " 'mirrored teal',\n",
       " 'muted blue',\n",
       " 'muted yellow',\n",
       " 'pale blue',\n",
       " 'pale lime',\n",
       " 'posh beige',\n",
       " 'posh maroon',\n",
       " 'posh turquoise',\n",
       " 'posh yellow',\n",
       " 'shiny violet',\n",
       " 'striped beige',\n",
       " 'striped orange',\n",
       " 'vibrant orange',\n",
       " 'vibrant tan',\n",
       " 'wavy coral',\n",
       " 'wavy gray',\n",
       " 'wavy green'}"
      ]
     },
     "execution_count": 65,
     "metadata": {},
     "output_type": "execute_result"
    }
   ],
   "source": [
    "search_stack = ['shiny gold']\n",
    "can_contain_gold = set()\n",
    "\n",
    "while search_stack:\n",
    "    searching = search_stack.pop()\n",
    "    parent_bags = parents[searching]\n",
    "    \n",
    "    for parent in parent_bags:\n",
    "        if parent not in can_contain_gold:\n",
    "            can_contain_gold.add(parent)\n",
    "            search_stack.append(parent)\n",
    "\n",
    "can_contain_gold"
   ]
  },
  {
   "cell_type": "code",
   "execution_count": 64,
   "id": "seasonal-training",
   "metadata": {},
   "outputs": [
    {
     "data": {
      "text/plain": [
       "33"
      ]
     },
     "execution_count": 64,
     "metadata": {},
     "output_type": "execute_result"
    }
   ],
   "source": [
    "len(can_contain_gold)"
   ]
  },
  {
   "cell_type": "code",
   "execution_count": null,
   "id": "baking-occurrence",
   "metadata": {},
   "outputs": [],
   "source": []
  }
 ],
 "metadata": {
  "kernelspec": {
   "display_name": "Python 3",
   "language": "python",
   "name": "python3"
  },
  "language_info": {
   "codemirror_mode": {
    "name": "ipython",
    "version": 3
   },
   "file_extension": ".py",
   "mimetype": "text/x-python",
   "name": "python",
   "nbconvert_exporter": "python",
   "pygments_lexer": "ipython3",
   "version": "3.8.5"
  }
 },
 "nbformat": 4,
 "nbformat_minor": 5
}
