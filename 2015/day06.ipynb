{
 "cells": [
  {
   "cell_type": "code",
   "execution_count": 10,
   "metadata": {},
   "outputs": [],
   "source": [
    "import numpy as np\n",
    "import re\n",
    "\n",
    "with open('inputs/day06.txt') as f:\n",
    "    instructions = tuple(line.strip() for line in f)"
   ]
  },
  {
   "cell_type": "code",
   "execution_count": 11,
   "metadata": {},
   "outputs": [
    {
     "data": {
      "text/plain": [
       "array([[0., 0., 0., ..., 0., 0., 0.],\n",
       "       [0., 0., 0., ..., 0., 0., 0.],\n",
       "       [0., 0., 0., ..., 0., 0., 0.],\n",
       "       ...,\n",
       "       [0., 0., 0., ..., 0., 0., 0.],\n",
       "       [0., 0., 0., ..., 0., 0., 0.],\n",
       "       [0., 0., 0., ..., 0., 0., 0.]])"
      ]
     },
     "execution_count": 11,
     "metadata": {},
     "output_type": "execute_result"
    }
   ],
   "source": [
    "grid = np.zeros(shape=(1000, 1000))\n",
    "grid"
   ]
  },
  {
   "cell_type": "code",
   "execution_count": 13,
   "metadata": {},
   "outputs": [],
   "source": [
    "for instruction in instructions:\n",
    "    command = re.search(r'toggle|on|off', instruction).group()\n",
    "    matches = [int(match) for match in re.findall(r'(\\d{1,3})', instruction)]\n",
    "    x_start, y_start, x_end, y_end = matches\n",
    "\n",
    "    x_range = range(x_start, x_end+1)\n",
    "    y_range = range(y_start, y_end+1)\n",
    "\n",
    "    if command == 'toggle':\n",
    "        grid[x_start:x_end+1, y_start:y_end+1] = np.logical_not(grid[x_start:x_end+1, y_start:y_end+1])\n",
    "    elif command == 'on':\n",
    "        grid[x_start:x_end+1, y_start:y_end+1] = 1\n",
    "    elif command == 'off':\n",
    "        grid[x_start:x_end+1, y_start:y_end+1] = 0\n",
    "    \n",
    "    "
   ]
  },
  {
   "cell_type": "code",
   "execution_count": 14,
   "metadata": {},
   "outputs": [
    {
     "data": {
      "text/plain": [
       "543903.0"
      ]
     },
     "execution_count": 14,
     "metadata": {},
     "output_type": "execute_result"
    }
   ],
   "source": [
    "np.sum(grid)"
   ]
  },
  {
   "cell_type": "code",
   "execution_count": 17,
   "metadata": {},
   "outputs": [
    {
     "data": {
      "text/plain": [
       "2"
      ]
     },
     "execution_count": 17,
     "metadata": {},
     "output_type": "execute_result"
    }
   ],
   "source": [
    "5 >> 1"
   ]
  },
  {
   "cell_type": "code",
   "execution_count": 19,
   "metadata": {},
   "outputs": [
    {
     "ename": "IndentationError",
     "evalue": "expected an indented block (3500216369.py, line 15)",
     "output_type": "error",
     "traceback": [
      "\u001b[0;36m  File \u001b[0;32m\"/var/folders/xj/nzqltm7164d32jx69q54f4w00000gn/T/ipykernel_13466/3500216369.py\"\u001b[0;36m, line \u001b[0;32m15\u001b[0m\n\u001b[0;31m    elif command == 'off':\u001b[0m\n\u001b[0m                          ^\u001b[0m\n\u001b[0;31mIndentationError\u001b[0m\u001b[0;31m:\u001b[0m expected an indented block\n"
     ]
    }
   ],
   "source": [
    "grid = np.zeros(shape=(1000, 1000))\n",
    "\n",
    "for instruction in instructions:\n",
    "    command = re.search(r'toggle|on|off', instruction).group()\n",
    "    matches = [int(match) for match in re.findall(r'(\\d{1,3})', instruction)]\n",
    "    x_start, y_start, x_end, y_end = matches\n",
    "\n",
    "    x_range = range(x_start, x_end+1)\n",
    "    y_range = range(y_start, y_end+1)\n",
    "\n",
    "    if command == 'toggle':\n",
    "        grid[x_start:x_end+1, y_start:y_end+1] += 2\n",
    "    elif command == 'on':\n",
    "        grid[x_start:x_end+1, y_start:y_end+1] += 1\n",
    "    elif command == 'off':\n",
    "        grid[x_start:x_end+1, y_start:y_end+1] -= 1"
   ]
  },
  {
   "cell_type": "code",
   "execution_count": 24,
   "metadata": {},
   "outputs": [],
   "source": [
    "grid[3:5, 3:5] -= 1"
   ]
  },
  {
   "cell_type": "code",
   "execution_count": 29,
   "metadata": {},
   "outputs": [],
   "source": [
    "grid[3:4, 3:4] = 5"
   ]
  },
  {
   "cell_type": "code",
   "execution_count": 32,
   "metadata": {},
   "outputs": [],
   "source": [
    "grid[3:5, 3:5][grid[3:5, 3:5] < 0] = 0"
   ]
  },
  {
   "cell_type": "code",
   "execution_count": 33,
   "metadata": {},
   "outputs": [
    {
     "data": {
      "text/plain": [
       "array([[5., 0.],\n",
       "       [0., 0.]])"
      ]
     },
     "execution_count": 33,
     "metadata": {},
     "output_type": "execute_result"
    }
   ],
   "source": [
    "grid[3:5, 3:5]"
   ]
  },
  {
   "cell_type": "code",
   "execution_count": null,
   "metadata": {},
   "outputs": [],
   "source": []
  }
 ],
 "metadata": {
  "interpreter": {
   "hash": "a91bc8a063c3c2ea66956a02b877c5d73840bc36afc8b1449b0f86f6d67fc53a"
  },
  "kernelspec": {
   "display_name": "Python 3 (ipykernel)",
   "language": "python",
   "name": "python3"
  },
  "language_info": {
   "codemirror_mode": {
    "name": "ipython",
    "version": 3
   },
   "file_extension": ".py",
   "mimetype": "text/x-python",
   "name": "python",
   "nbconvert_exporter": "python",
   "pygments_lexer": "ipython3",
   "version": "3.9.7"
  }
 },
 "nbformat": 4,
 "nbformat_minor": 4
}
