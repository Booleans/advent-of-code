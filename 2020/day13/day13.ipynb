{
 "cells": [
  {
   "cell_type": "code",
   "execution_count": 1,
   "id": "native-black",
   "metadata": {},
   "outputs": [],
   "source": [
    "from math import ceil\n",
    "\n",
    "start_time = 1000066\n",
    "busses = '13,x,x,41,x,x,x,37,x,x,x,x,x,659,x,x,x,x,x,x,x,x,x,x,x,x,x,x,x,x,x,x,19,x,x,x,23,x,x,x,x,x,29,x,409,x,x,x,x,x,x,x,x,x,x,x,x,x,x,x,x,17'"
   ]
  },
  {
   "cell_type": "code",
   "execution_count": 2,
   "id": "adaptive-standard",
   "metadata": {},
   "outputs": [
    {
     "data": {
      "text/plain": [
       "[13, 41, 37, 659, 19, 23, 29, 409, 17]"
      ]
     },
     "execution_count": 2,
     "metadata": {},
     "output_type": "execute_result"
    }
   ],
   "source": [
    "bus_numbers = [int(number) for number in busses.split(',') if number != 'x']\n",
    "bus_numbers"
   ]
  },
  {
   "cell_type": "code",
   "execution_count": 3,
   "id": "satellite-hello",
   "metadata": {},
   "outputs": [
    {
     "data": {
      "text/plain": [
       "(41, 1000072)"
      ]
     },
     "execution_count": 3,
     "metadata": {},
     "output_type": "execute_result"
    }
   ],
   "source": [
    "next_arrival = []\n",
    "closest_bus = None\n",
    "closest_arrival = float('inf')\n",
    "\n",
    "for number in bus_numbers:\n",
    "    next_arrival_time = ceil(start_time/number)*number\n",
    "    \n",
    "    if next_arrival_time < closest_arrival:\n",
    "        closest_arrival = next_arrival_time\n",
    "        closest_bus = number\n",
    "\n",
    "closest_bus, closest_arrival"
   ]
  },
  {
   "cell_type": "code",
   "execution_count": 4,
   "id": "clinical-assistant",
   "metadata": {},
   "outputs": [
    {
     "data": {
      "text/plain": [
       "246"
      ]
     },
     "execution_count": 4,
     "metadata": {},
     "output_type": "execute_result"
    }
   ],
   "source": [
    "time_waited = closest_arrival - start_time\n",
    "time_waited * closest_bus"
   ]
  },
  {
   "cell_type": "code",
   "execution_count": 5,
   "id": "exposed-pierre",
   "metadata": {},
   "outputs": [
    {
     "data": {
      "text/plain": [
       "[(0, 13),\n",
       " (3, 41),\n",
       " (7, 37),\n",
       " (13, 659),\n",
       " (32, 19),\n",
       " (36, 23),\n",
       " (42, 29),\n",
       " (44, 409),\n",
       " (61, 17)]"
      ]
     },
     "execution_count": 5,
     "metadata": {},
     "output_type": "execute_result"
    }
   ],
   "source": [
    "bus_numbers = [(i, int(number)) for i, number in enumerate(busses.split(',')) if number != 'x']\n",
    "bus_numbers"
   ]
  },
  {
   "cell_type": "code",
   "execution_count": 11,
   "id": "rural-candidate",
   "metadata": {},
   "outputs": [
    {
     "data": {
      "text/plain": [
       "939490236001486"
      ]
     },
     "execution_count": 11,
     "metadata": {},
     "output_type": "execute_result"
    }
   ],
   "source": [
    "num = 108569591\n",
    "\n",
    "while not all((\n",
    "(num - 13) % 13 == 0,\n",
    "(num - 10) % 41 == 0,\n",
    "(num - 6)  % 37 == 0,\n",
    "(num + 19) % 19 == 0,\n",
    "(num + 23) % 23 == 0,\n",
    "(num + 29) % 29 == 0,\n",
    "(num + 31) % 409 == 0,\n",
    "(num + 48) % 17 == 0,\n",
    ")):\n",
    "    num += 108569591\n",
    "\n",
    "print(num - 13)"
   ]
  },
  {
   "cell_type": "code",
   "execution_count": 7,
   "id": "steady-boutique",
   "metadata": {},
   "outputs": [
    {
     "data": {
      "text/plain": [
       "1486"
      ]
     },
     "execution_count": 7,
     "metadata": {},
     "output_type": "execute_result"
    }
   ],
   "source": [
    "939490236001486 % (41*37)"
   ]
  },
  {
   "cell_type": "code",
   "execution_count": 10,
   "id": "recovered-syndication",
   "metadata": {},
   "outputs": [
    {
     "data": {
      "text/plain": [
       "108569591"
      ]
     },
     "execution_count": 10,
     "metadata": {},
     "output_type": "execute_result"
    }
   ],
   "source": [
    "13*19*23*29*659"
   ]
  },
  {
   "cell_type": "code",
   "execution_count": 9,
   "id": "medical-stability",
   "metadata": {},
   "outputs": [
    {
     "name": "stdout",
     "output_type": "stream",
     "text": [
      "939490236001473\n"
     ]
    }
   ],
   "source": [
    "num = 13*19*23*29*659 # 108569591\n",
    "\n",
    "while not all((\n",
    "(num - 10) % 41 == 0,\n",
    "(num - 6)  % 37 == 0,\n",
    "(num + 31) % 409 == 0,\n",
    "(num + 48) % 17 == 0,\n",
    ")):\n",
    "    num += 108569591\n",
    "\n",
    "print(num - 13)"
   ]
  },
  {
   "cell_type": "code",
   "execution_count": null,
   "id": "frank-advisory",
   "metadata": {},
   "outputs": [],
   "source": [
    "(num + 0)  % 13 == 0,\n",
    "(num + 3)  % 41 == 0,\n",
    "(num + 7)  % 37 == 0,\n",
    "(num + 13) % 659 == 0,\n",
    "(num + 32) % 19 == 0,\n",
    "(num + 36) % 23 == 0,\n",
    "(num + 42) % 29 == 0,\n",
    "(num + 44) % 409 == 0,\n",
    "(num + 61) % 17 == 0,"
   ]
  }
 ],
 "metadata": {
  "kernelspec": {
   "display_name": "Python 3",
   "language": "python",
   "name": "python3"
  },
  "language_info": {
   "codemirror_mode": {
    "name": "ipython",
    "version": 3
   },
   "file_extension": ".py",
   "mimetype": "text/x-python",
   "name": "python",
   "nbconvert_exporter": "python",
   "pygments_lexer": "ipython3",
   "version": "3.8.8"
  }
 },
 "nbformat": 4,
 "nbformat_minor": 5
}
