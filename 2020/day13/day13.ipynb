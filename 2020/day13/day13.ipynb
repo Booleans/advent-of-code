{
 "cells": [
  {
   "cell_type": "code",
   "execution_count": 6,
   "id": "wrong-fraud",
   "metadata": {},
   "outputs": [],
   "source": [
    "from math import ceil\n",
    "\n",
    "start_time = 1000066\n",
    "busses = '13,x,x,41,x,x,x,37,x,x,x,x,x,659,x,x,x,x,x,x,x,x,x,x,x,x,x,x,x,x,x,x,19,x,x,x,23,x,x,x,x,x,29,x,409,x,x,x,x,x,x,x,x,x,x,x,x,x,x,x,x,17'"
   ]
  },
  {
   "cell_type": "code",
   "execution_count": 4,
   "id": "intelligent-configuration",
   "metadata": {},
   "outputs": [
    {
     "data": {
      "text/plain": [
       "[13, 41, 37, 659, 19, 23, 29, 409, 17]"
      ]
     },
     "execution_count": 4,
     "metadata": {},
     "output_type": "execute_result"
    }
   ],
   "source": [
    "bus_numbers = [int(number) for number in busses.split(',') if number != 'x']\n",
    "bus_numbers"
   ]
  },
  {
   "cell_type": "code",
   "execution_count": null,
   "id": "facial-johnston",
   "metadata": {},
   "outputs": [],
   "source": [
    "start_time"
   ]
  },
  {
   "cell_type": "code",
   "execution_count": 11,
   "id": "cubic-guatemala",
   "metadata": {},
   "outputs": [
    {
     "data": {
      "text/plain": [
       "(41, 1000072)"
      ]
     },
     "execution_count": 11,
     "metadata": {},
     "output_type": "execute_result"
    }
   ],
   "source": [
    "next_arrival = []\n",
    "closest_bus = None\n",
    "closest_arrival = float('inf')\n",
    "\n",
    "for number in bus_numbers:\n",
    "    next_arrival_time = ceil(start_time/number)*number\n",
    "    \n",
    "    if next_arrival_time < closest_arrival:\n",
    "        closest_arrival = next_arrival_time\n",
    "        closest_bus = number\n",
    "\n",
    "closest_bus, closest_arrival"
   ]
  },
  {
   "cell_type": "code",
   "execution_count": 12,
   "id": "institutional-protocol",
   "metadata": {},
   "outputs": [
    {
     "data": {
      "text/plain": [
       "246"
      ]
     },
     "execution_count": 12,
     "metadata": {},
     "output_type": "execute_result"
    }
   ],
   "source": [
    "time_waited = closest_arrival - start_time\n",
    "time_waited * closest_bus"
   ]
  },
  {
   "cell_type": "code",
   "execution_count": null,
   "id": "accomplished-folks",
   "metadata": {},
   "outputs": [],
   "source": []
  }
 ],
 "metadata": {
  "kernelspec": {
   "display_name": "Python 3",
   "language": "python",
   "name": "python3"
  },
  "language_info": {
   "codemirror_mode": {
    "name": "ipython",
    "version": 3
   },
   "file_extension": ".py",
   "mimetype": "text/x-python",
   "name": "python",
   "nbconvert_exporter": "python",
   "pygments_lexer": "ipython3",
   "version": "3.7.7"
  }
 },
 "nbformat": 4,
 "nbformat_minor": 5
}
