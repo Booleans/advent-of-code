{
 "cells": [
  {
   "cell_type": "code",
   "execution_count": 37,
   "id": "uniform-alaska",
   "metadata": {},
   "outputs": [
    {
     "data": {
      "text/plain": [
       "177"
      ]
     },
     "execution_count": 37,
     "metadata": {},
     "output_type": "execute_result"
    }
   ],
   "source": [
    "import re\n",
    "\n",
    "with open('input.txt') as f:\n",
    "    RULES = tuple(line.strip() for line in f)\n",
    "    \n",
    "parent_bag_pattern = r'^(\\w+ \\w+) (?:bags.+)$'\n",
    "child_bag_pattern = r'(\\d \\w+ \\w+)'\n",
    "\n",
    "bags_inside_this = dict()\n",
    "bags_containing_this = dict()\n",
    "\n",
    "for rule in RULES:\n",
    "    parent_color = re.findall(parent_bag_pattern, rule)[0]\n",
    "    bags_inside_this[parent_color] = dict()\n",
    "    \n",
    "    bags_inside = re.findall(child_bag_pattern, rule)\n",
    "    \n",
    "    for bag in bags_inside:\n",
    "        number = int(bag[:2])\n",
    "        color = bag[2:]\n",
    "\n",
    "        bags_inside_this[parent_color][color] = number\n",
    "        \n",
    "        if color in bags_containing_this:\n",
    "            bags_containing_this[color].add(parent_color)\n",
    "        else:\n",
    "            bags_containing_this[color] = set([parent_color])\n",
    "\n",
    "can_contain_gold = set()\n",
    "\n",
    "searching = ['shiny gold']\n",
    "\n",
    "while searching:\n",
    "    current_color = searching.pop()\n",
    "\n",
    "    if current_color in bags_containing_this:\n",
    "        parent_bags = bags_containing_this[current_color]\n",
    "\n",
    "        for bag in parent_bags:\n",
    "            if bag not in can_contain_gold:\n",
    "                searching.append(bag)\n",
    "                can_contain_gold.add(bag)\n",
    "                \n",
    "len(can_contain_gold)"
   ]
  },
  {
   "cell_type": "code",
   "execution_count": 38,
   "id": "organizational-three",
   "metadata": {},
   "outputs": [
    {
     "data": {
      "text/plain": [
       "{'wavy green': 4, 'mirrored teal': 2, 'dark tomato': 4, 'faded beige': 2}"
      ]
     },
     "execution_count": 38,
     "metadata": {},
     "output_type": "execute_result"
    }
   ],
   "source": [
    "bags_inside_this['shiny gold']"
   ]
  },
  {
   "cell_type": "code",
   "execution_count": 40,
   "id": "embedded-football",
   "metadata": {},
   "outputs": [
    {
     "name": "stdout",
     "output_type": "stream",
     "text": [
      "34988\n"
     ]
    }
   ],
   "source": [
    "bag_counts = 0\n",
    "searching = ['shiny gold']\n",
    "\n",
    "while searching:\n",
    "    current_color = searching.pop()\n",
    "    if current_color in bags_inside_this:\n",
    "        bags_inside = bags_inside_this[current_color]\n",
    "        \n",
    "        for bag, count in bags_inside.items():\n",
    "            bag_counts += count\n",
    "            for _ in range(count):\n",
    "                searching.append(bag)\n",
    "            \n",
    "print(bag_counts)"
   ]
  },
  {
   "cell_type": "code",
   "execution_count": null,
   "id": "empty-excellence",
   "metadata": {},
   "outputs": [],
   "source": []
  }
 ],
 "metadata": {
  "kernelspec": {
   "display_name": "Python 3",
   "language": "python",
   "name": "python3"
  },
  "language_info": {
   "codemirror_mode": {
    "name": "ipython",
    "version": 3
   },
   "file_extension": ".py",
   "mimetype": "text/x-python",
   "name": "python",
   "nbconvert_exporter": "python",
   "pygments_lexer": "ipython3",
   "version": "3.8.5"
  }
 },
 "nbformat": 4,
 "nbformat_minor": 5
}
