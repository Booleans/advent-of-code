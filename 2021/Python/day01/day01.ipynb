{
 "cells": [
  {
   "cell_type": "code",
   "execution_count": 3,
   "id": "9b5274ae-a02f-47da-9b6f-4fa41d54e999",
   "metadata": {},
   "outputs": [
    {
     "data": {
      "text/plain": [
       "1266"
      ]
     },
     "execution_count": 3,
     "metadata": {},
     "output_type": "execute_result"
    }
   ],
   "source": [
    "with open('input.txt') as f:\n",
    "    depths = tuple(int(line.strip()) for line in f)\n",
    "    \n",
    "total = 0\n",
    "\n",
    "for i in range(1, len(depths)):\n",
    "    current_depth = depths[i]\n",
    "    previous = depths[i-1]\n",
    "    \n",
    "    if current_depth > previous:\n",
    "        total +=1 \n",
    "        \n",
    "total"
   ]
  },
  {
   "cell_type": "code",
   "execution_count": 5,
   "id": "747c3f81-5ea9-4acd-964b-485f7d2cbd49",
   "metadata": {},
   "outputs": [
    {
     "data": {
      "text/plain": [
       "3282"
      ]
     },
     "execution_count": 5,
     "metadata": {},
     "output_type": "execute_result"
    }
   ],
   "source": [
    "depths[-1]"
   ]
  },
  {
   "cell_type": "code",
   "execution_count": 11,
   "id": "d3417411-5211-4cff-8dc7-3686db10e996",
   "metadata": {},
   "outputs": [],
   "source": [
    "windows = []\n",
    "for i in range(len(depths)-2):\n",
    "    windows.append(depths[i:i+3])"
   ]
  },
  {
   "cell_type": "code",
   "execution_count": 13,
   "id": "a8bfae94-e97d-4951-9960-ba4dc799178e",
   "metadata": {},
   "outputs": [
    {
     "data": {
      "text/plain": [
       "1217"
      ]
     },
     "execution_count": 13,
     "metadata": {},
     "output_type": "execute_result"
    }
   ],
   "source": [
    "total = 0\n",
    "for i in range(1, len(windows)):\n",
    "    if sum(windows[i]) > sum(windows[i-1]):\n",
    "        total += 1\n",
    "total"
   ]
  },
  {
   "cell_type": "code",
   "execution_count": null,
   "id": "60d3fad2-9b64-45c2-a2bc-93e6dce3ad7d",
   "metadata": {},
   "outputs": [],
   "source": []
  }
 ],
 "metadata": {
  "kernelspec": {
   "display_name": "Python 3 (ipykernel)",
   "language": "python",
   "name": "python3"
  },
  "language_info": {
   "codemirror_mode": {
    "name": "ipython",
    "version": 3
   },
   "file_extension": ".py",
   "mimetype": "text/x-python",
   "name": "python",
   "nbconvert_exporter": "python",
   "pygments_lexer": "ipython3",
   "version": "3.9.15"
  }
 },
 "nbformat": 4,
 "nbformat_minor": 5
}
