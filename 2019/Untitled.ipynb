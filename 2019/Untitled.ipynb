{
 "cells": [
  {
   "cell_type": "code",
   "execution_count": 2,
   "id": "e3c7ef84-5673-4e5a-884a-8b3e381eb5cd",
   "metadata": {
    "tags": []
   },
   "outputs": [],
   "source": [
    "from dataclasses import dataclass, field\n",
    "\n",
    "@dataclass\n",
    "class Spaceship:\n",
    "    mass: int\n",
    "    fuel_for_mass: int = field(init=False, repr=True)\n",
    "    fuel_for_fuel: int = field(init=False, repr=True)\n",
    "    fuel_total:    int = field(init=False, repr=True)\n",
    "\n",
    "    def __post_init__(self):\n",
    "        self.fuel_for_mass = self.mass//3 - 2\n",
    "        self.fuel_for_fuel = 0\n",
    "        fuel_added = self.fuel_for_mass\n",
    "        while fuel_added > 0:\n",
    "            additional_fuel_needed = fuel_added//3 - 2\n",
    "            fuel_added = additional_fuel_needed\n",
    "            if additional_fuel_needed > 0:\n",
    "                self.fuel_for_fuel += additional_fuel_needed\n",
    "        \n",
    "        self.fuel_total = self.fuel_for_mass + self.fuel_for_fuel\n",
    "\n",
    "with open('inputs/day01.txt') as f:\n",
    "    masses = tuple(int(line.strip()) for line in f)\n",
    "\n",
    "ship = Spaceship(masses[0])"
   ]
  },
  {
   "cell_type": "code",
   "execution_count": 6,
   "id": "c702acdb-724e-4611-a5da-0737d05376f9",
   "metadata": {},
   "outputs": [
    {
     "ename": "KeyboardInterrupt",
     "evalue": "",
     "output_type": "error",
     "traceback": [
      "\u001b[1;31m---------------------------------------------------------------------------\u001b[0m",
      "\u001b[1;31mKeyboardInterrupt\u001b[0m                         Traceback (most recent call last)",
      "Input \u001b[1;32mIn [6]\u001b[0m, in \u001b[0;36m<cell line: 32>\u001b[1;34m()\u001b[0m\n\u001b[0;32m     30\u001b[0m days_to_simulate \u001b[38;5;241m=\u001b[39m \u001b[38;5;241m256\u001b[39m\n\u001b[0;32m     32\u001b[0m \u001b[38;5;28;01mfor\u001b[39;00m _ \u001b[38;5;129;01min\u001b[39;00m \u001b[38;5;28mrange\u001b[39m(days_to_simulate):\n\u001b[1;32m---> 33\u001b[0m     \u001b[43mschool_of_fish\u001b[49m\u001b[38;5;241;43m.\u001b[39;49m\u001b[43mincrement_day\u001b[49m\u001b[43m(\u001b[49m\u001b[43m)\u001b[49m\n\u001b[0;32m     35\u001b[0m \u001b[38;5;28mprint\u001b[39m(\u001b[38;5;28mlen\u001b[39m(school_of_fish\u001b[38;5;241m.\u001b[39mall_fish))\n",
      "Input \u001b[1;32mIn [6]\u001b[0m, in \u001b[0;36mFishSchool.increment_day\u001b[1;34m(self)\u001b[0m\n\u001b[0;32m     18\u001b[0m         fish\u001b[38;5;241m.\u001b[39mtimer \u001b[38;5;241m=\u001b[39m \u001b[38;5;241m6\u001b[39m\n\u001b[0;32m     19\u001b[0m     \u001b[38;5;28;01melse\u001b[39;00m:\n\u001b[1;32m---> 20\u001b[0m         fish\u001b[38;5;241m.\u001b[39mtimer \u001b[38;5;241m-\u001b[39m\u001b[38;5;241m=\u001b[39m \u001b[38;5;241m1\u001b[39m\n\u001b[0;32m     22\u001b[0m \u001b[38;5;28;01mfor\u001b[39;00m _ \u001b[38;5;129;01min\u001b[39;00m \u001b[38;5;28mrange\u001b[39m(num_fish_to_add):\n\u001b[0;32m     23\u001b[0m     \u001b[38;5;28mself\u001b[39m\u001b[38;5;241m.\u001b[39mall_fish\u001b[38;5;241m.\u001b[39mappend(Lanternfish(\u001b[38;5;241m8\u001b[39m))\n",
      "\u001b[1;31mKeyboardInterrupt\u001b[0m: "
     ]
    }
   ],
   "source": [
    "from dataclasses import dataclass, field\n",
    "\n",
    "\n",
    "@dataclass\n",
    "class Lanternfish:\n",
    "    timer: int\n",
    "\n",
    "\n",
    "class FishSchool:\n",
    "    def __init__(self, all_fish):\n",
    "        self.all_fish = all_fish\n",
    "\n",
    "    def increment_day(self):\n",
    "        num_fish_to_add = 0\n",
    "        for fish in self.all_fish:\n",
    "            if fish.timer == 0:\n",
    "                num_fish_to_add += 1\n",
    "                fish.timer = 6\n",
    "            else:\n",
    "                fish.timer -= 1\n",
    "\n",
    "        for _ in range(num_fish_to_add):\n",
    "            self.all_fish.append(Lanternfish(8))\n",
    "\n",
    "nums = [3, 4, 3, 1, 2]\n",
    "\n",
    "fish = [Lanternfish(num) for num in nums]\n",
    "school_of_fish = FishSchool(fish)\n",
    "\n",
    "days_to_simulate = 256\n",
    "\n",
    "for _ in range(days_to_simulate):\n",
    "    school_of_fish.increment_day()\n",
    "\n",
    "print(len(school_of_fish.all_fish))\n"
   ]
  },
  {
   "cell_type": "code",
   "execution_count": 32,
   "id": "cf806320-19ed-4a3e-ae22-6dcb4daa8cfa",
   "metadata": {},
   "outputs": [
    {
     "data": {
      "text/plain": [
       "5934"
      ]
     },
     "execution_count": 32,
     "metadata": {},
     "output_type": "execute_result"
    }
   ],
   "source": [
    "from collections import Counter\n",
    "\n",
    "fish_counts = Counter(nums)\n",
    "\n",
    "nums = [3, 4, 3, 1, 2]\n",
    "\n",
    "days_to_simulate = 80\n",
    "\n",
    "for _ in range(days_to_simulate):\n",
    "    temp_counter = Counter(fish_counts)\n",
    "    for timer in range(0, 8):\n",
    "        temp_counter[timer] = fish_counts[timer+1]\n",
    "        \n",
    "    temp_counter[8] = fish_counts[0]\n",
    "    temp_counter[6] += fish_counts[0]\n",
    "    \n",
    "    fish_counts = Counter(temp_counter)\n",
    "    \n",
    "sum(fish_counts.values())"
   ]
  },
  {
   "cell_type": "code",
   "execution_count": 37,
   "id": "309b7df5-3a9c-454b-8d15-5b478f4010de",
   "metadata": {},
   "outputs": [
    {
     "data": {
      "text/plain": [
       "2.0"
      ]
     },
     "execution_count": 37,
     "metadata": {},
     "output_type": "execute_result"
    }
   ],
   "source": [
    "import numpy as np\n",
    "\n",
    "crabs = np.array([16,1,2,0,4,2,7,1,2,14])\n",
    "np.median(crabs)"
   ]
  },
  {
   "cell_type": "code",
   "execution_count": 22,
   "id": "28c0e79a-c4ce-498e-b60c-e39645f0f453",
   "metadata": {},
   "outputs": [
    {
     "data": {
      "text/plain": [
       "Counter({3: 2, 4: 1, 1: 1, 2: 1})"
      ]
     },
     "execution_count": 22,
     "metadata": {},
     "output_type": "execute_result"
    }
   ],
   "source": [
    "fish_counts_2 = Counter(fish_counts)\n",
    "\n",
    "fish_counts_2[5] = 80\n",
    "fish_counts"
   ]
  },
  {
   "cell_type": "code",
   "execution_count": 4,
   "id": "3b34b25c-7a76-435f-a8c6-41af21b127ac",
   "metadata": {},
   "outputs": [],
   "source": [
    "from dataclasses import dataclass, field\n",
    "\n",
    "@dataclass\n",
    "class Wire:\n",
    "    path: list[str]\n",
    "    coordinates: set(tuple((int, int))) = field(init=False)\n",
    "    steps_to_reach_coordinates: dict[tuple((int, int)), int] = field(init=False)\n",
    "    \n",
    "    def __post_init__(self):\n",
    "        self.coordinates = set()\n",
    "        self.steps_to_reach_coordinates = dict()\n",
    "        x = 0\n",
    "        y = 0\n",
    "        steps = 0\n",
    "        \n",
    "        for instruction in self.path:\n",
    "            direction = instruction[0]\n",
    "            num = int(instruction[1:])\n",
    "\n",
    "            if direction == 'L':\n",
    "                for _ in range(num):\n",
    "                    steps += 1\n",
    "                    x -= 1\n",
    "                    self.coordinates.add((x, y))\n",
    "                    if (x, y) not in self.steps_to_reach_coordinates:\n",
    "                        self.steps_to_reach_coordinates[(x, y)] = steps\n",
    "            elif direction == 'R':\n",
    "                for _ in range(num):\n",
    "                    steps += 1\n",
    "                    x += 1\n",
    "                    self.coordinates.add((x, y))\n",
    "                    if (x, y) not in self.steps_to_reach_coordinates:\n",
    "                        self.steps_to_reach_coordinates[(x, y)] = steps\n",
    "            elif direction == 'U':\n",
    "                for _ in range(num):\n",
    "                    steps += 1\n",
    "                    y += 1\n",
    "                    self.coordinates.add((x, y))\n",
    "                    if (x, y) not in self.steps_to_reach_coordinates:\n",
    "                        self.steps_to_reach_coordinates[(x, y)] = steps\n",
    "            elif direction == 'D':\n",
    "                for _ in range(num):\n",
    "                    steps += 1\n",
    "                    y -= 1\n",
    "                    self.coordinates.add((x, y))\n",
    "                    if (x, y) not in self.steps_to_reach_coordinates:\n",
    "                        self.steps_to_reach_coordinates[(x, y)] = steps"
   ]
  },
  {
   "cell_type": "code",
   "execution_count": 5,
   "id": "167e4619-9da6-439c-ab28-256aaffe3d0c",
   "metadata": {},
   "outputs": [],
   "source": [
    "with open('inputs/day03.txt') as f:\n",
    "    wires = f.read().split('\\n')"
   ]
  },
  {
   "cell_type": "code",
   "execution_count": 6,
   "id": "3642e780-7201-48f1-bbb0-df7d2f164b59",
   "metadata": {},
   "outputs": [],
   "source": [
    "first_wire  = Wire(wires[0].split(','))\n",
    "second_wire = Wire(wires[1].split(','))"
   ]
  },
  {
   "cell_type": "code",
   "execution_count": 7,
   "id": "44d84052-35fd-4076-8ef7-0341bb801e99",
   "metadata": {},
   "outputs": [],
   "source": [
    "intersection_coordinates = first_wire.coordinates.intersection(second_wire.coordinates)"
   ]
  },
  {
   "cell_type": "code",
   "execution_count": 18,
   "id": "2900caee-b36e-4085-bc62-db9bbe1802f7",
   "metadata": {},
   "outputs": [
    {
     "name": "stdout",
     "output_type": "stream",
     "text": [
      "37486\n",
      "54320\n",
      "38888\n",
      "53866\n",
      "94088\n",
      "99060\n",
      "49468\n",
      "92134\n",
      "83850\n",
      "33176\n",
      "46266\n",
      "99086\n",
      "89626\n",
      "39930\n",
      "83428\n",
      "20386\n",
      "83428\n",
      "54320\n",
      "36098\n",
      "89626\n",
      "107256\n",
      "55766\n",
      "103730\n",
      "112240\n",
      "46010\n",
      "33176\n",
      "92402\n",
      "53082\n",
      "91742\n",
      "57656\n",
      "41278\n",
      "96546\n",
      "53136\n",
      "37502\n",
      "39404\n",
      "38428\n",
      "57656\n",
      "22054\n",
      "111366\n",
      "94088\n",
      "91690\n",
      "56544\n",
      "107634\n",
      "50404\n",
      "112240\n",
      "89626\n",
      "41268\n",
      "97228\n",
      "36924\n",
      "98396\n",
      "46266\n",
      "46852\n",
      "53082\n",
      "110820\n",
      "102478\n",
      "105282\n",
      "The coordinate with the lowest combined signal delay is (3109, 22) with combined steps of 105282.\n"
     ]
    }
   ],
   "source": [
    "min_steps = float('inf')\n",
    "best_coordinate = None\n",
    "\n",
    "for coordinate in intersection_coordinates:\n",
    "    wire_1_steps = first_wire.steps_to_reach_coordinates[coordinate]\n",
    "    wire_2_steps = second_wire.steps_to_reach_coordinates[coordinate]\n",
    "    combined_steps = wire_1_steps + wire_2_steps\n",
    "    print(combined_steps)\n",
    "\n",
    "    if combined_steps < min_steps:\n",
    "        min_steps = combined_steps\n",
    "        best_coordinate = coordinate\n",
    "\n",
    "# Part 2 solution.\n",
    "print(f'The coordinate with the lowest combined signal delay is {coordinate} with combined steps of {combined_steps}.')\n"
   ]
  },
  {
   "cell_type": "code",
   "execution_count": 8,
   "id": "f3324866-a9e8-477a-ba2f-7b7a3e791ccc",
   "metadata": {},
   "outputs": [
    {
     "data": {
      "text/plain": [
       "529"
      ]
     },
     "execution_count": 8,
     "metadata": {},
     "output_type": "execute_result"
    }
   ],
   "source": [
    "min_distance = float('inf')\n",
    "\n",
    "for coordinate in intersection_coordinates:\n",
    "    x, y = coordinate\n",
    "    manhattan_distance = abs(x) + abs(y)\n",
    "    \n",
    "    if manhattan_distance < min_distance:\n",
    "        min_distance = manhattan_distance\n",
    "        \n",
    "min_distance"
   ]
  },
  {
   "cell_type": "code",
   "execution_count": 15,
   "id": "0dede3d5-02d6-47e6-85f1-aaaf5b0a1576",
   "metadata": {},
   "outputs": [
    {
     "data": {
      "text/plain": [
       "23782"
      ]
     },
     "execution_count": 15,
     "metadata": {},
     "output_type": "execute_result"
    }
   ],
   "source": [
    "first_wire.steps_to_reach_coordinates[(36, -1140)]"
   ]
  },
  {
   "cell_type": "code",
   "execution_count": 1,
   "id": "d960cc5a-2ff4-42f0-b337-992373da822c",
   "metadata": {},
   "outputs": [],
   "source": [
    "from operator import add, mul\n",
    "\n",
    "op_code = {1: add, 2: mul}\n",
    "\n",
    "with open('inputs/day02.txt') as f:\n",
    "    intcode = [int(num) for num in f.readline().split(',')]"
   ]
  },
  {
   "cell_type": "code",
   "execution_count": 2,
   "id": "3b92a1d4-6de6-4fd5-b173-8d93a05d7f3e",
   "metadata": {},
   "outputs": [],
   "source": [
    "intcode = intcode\n",
    "intcode[1] = 12\n",
    "intcode[2] = 2"
   ]
  },
  {
   "cell_type": "code",
   "execution_count": 10,
   "id": "7e89b07d-cf97-4f4f-9e64-722a46f6be70",
   "metadata": {},
   "outputs": [
    {
     "ename": "KeyError",
     "evalue": "3790645",
     "output_type": "error",
     "traceback": [
      "\u001b[1;31m---------------------------------------------------------------------------\u001b[0m",
      "\u001b[1;31mKeyError\u001b[0m                                  Traceback (most recent call last)",
      "Input \u001b[1;32mIn [10]\u001b[0m, in \u001b[0;36m<cell line: 4>\u001b[1;34m()\u001b[0m\n\u001b[0;32m      5\u001b[0m \u001b[38;5;28;01mif\u001b[39;00m code \u001b[38;5;241m==\u001b[39m \u001b[38;5;241m99\u001b[39m:\n\u001b[0;32m      6\u001b[0m     \u001b[38;5;28;01mbreak\u001b[39;00m\n\u001b[1;32m----> 7\u001b[0m operation \u001b[38;5;241m=\u001b[39m \u001b[43mop_code\u001b[49m\u001b[43m[\u001b[49m\u001b[43mcode\u001b[49m\u001b[43m]\u001b[49m\n\u001b[0;32m      8\u001b[0m num1 \u001b[38;5;241m=\u001b[39m intcode[intcode[i\u001b[38;5;241m+\u001b[39m\u001b[38;5;241m1\u001b[39m]]\n\u001b[0;32m      9\u001b[0m num2 \u001b[38;5;241m=\u001b[39m intcode[intcode[i\u001b[38;5;241m+\u001b[39m\u001b[38;5;241m2\u001b[39m]]\n",
      "\u001b[1;31mKeyError\u001b[0m: 3790645"
     ]
    }
   ],
   "source": [
    "i = 0\n",
    "\n",
    "while True:\n",
    "    code = intcode[i]\n",
    "    if code == 99:\n",
    "        break\n",
    "    operation = op_code[code]\n",
    "    num1 = intcode[intcode[i+1]]\n",
    "    num2 = intcode[intcode[i+2]]\n",
    "    \n",
    "    result = operation(num1, num2)\n",
    "    intcode[intcode[i+3]] = result\n",
    "    i += 4"
   ]
  },
  {
   "cell_type": "code",
   "execution_count": 4,
   "id": "5d40b1cf-e40c-4176-8ec7-7678b4efa174",
   "metadata": {},
   "outputs": [
    {
     "name": "stdout",
     "output_type": "stream",
     "text": [
      "[1, 99, 3] [1, 99, 3]\n"
     ]
    }
   ],
   "source": [
    "x = [1, 2, 3]\n",
    "y = x\n",
    "y[1] = 99\n",
    "print(x, y)"
   ]
  },
  {
   "cell_type": "code",
   "execution_count": 14,
   "id": "cca8da67-645b-45ab-9334-98cadf5c4d35",
   "metadata": {},
   "outputs": [],
   "source": [
    "from operator import add, mul\n",
    "\n",
    "with open('inputs/day02.txt') as f:\n",
    "    intcode = [int(num) for num in f.readline().split(',')]\n",
    "    \n",
    "intcode = intcode\n",
    "intcode[1] = 12\n",
    "intcode[2] = 2\n",
    "\n",
    "class Computer:\n",
    "    def __init__(self, intcode: list[int]):\n",
    "        self.intcode = intcode\n",
    "        self.op_codes = {1: add, 2: mul}\n",
    "        self.finished_program = None\n",
    "        \n",
    "    def execute_intcode(self, noun=None, verb=None):\n",
    "        intcode = [num for num in self.intcode]\n",
    "        if noun:\n",
    "            intcode[1] = noun\n",
    "        if verb:\n",
    "            intcode[2] = verb\n",
    "            \n",
    "        i = 0\n",
    "        while True:\n",
    "            code = intcode[i]\n",
    "            if code == 99:\n",
    "                break\n",
    "            operation = self.op_codes[code]\n",
    "            num1 = intcode[intcode[i+1]]\n",
    "            num2 = intcode[intcode[i+2]]\n",
    "\n",
    "            result = operation(num1, num2)\n",
    "            intcode[intcode[i+3]] = result\n",
    "            i += 4\n",
    "        self.finished_program = intcode\n",
    "        \n",
    "    def get_result(self, noun=None, verb=None):\n",
    "        self.execute_intcode(noun, verb)\n",
    "        return self.finished_program[0]"
   ]
  },
  {
   "cell_type": "code",
   "execution_count": 15,
   "id": "b079bc10-9f93-4ce3-aad4-ffeec01e5ec2",
   "metadata": {},
   "outputs": [],
   "source": [
    "program = Computer(intcode)"
   ]
  },
  {
   "cell_type": "code",
   "execution_count": 16,
   "id": "16b01ba4-8b47-4710-9aa9-79fd03de6e29",
   "metadata": {},
   "outputs": [
    {
     "data": {
      "text/plain": [
       "3790645"
      ]
     },
     "execution_count": 16,
     "metadata": {},
     "output_type": "execute_result"
    }
   ],
   "source": [
    "program.get_result(12, 2)"
   ]
  },
  {
   "cell_type": "code",
   "execution_count": 20,
   "id": "9df5e288-ef4a-4787-ade3-ce62fdc31891",
   "metadata": {},
   "outputs": [
    {
     "data": {
      "text/plain": [
       "'001234'"
      ]
     },
     "execution_count": 20,
     "metadata": {},
     "output_type": "execute_result"
    }
   ],
   "source": [
    "''.join(sorted('123004'))"
   ]
  },
  {
   "cell_type": "code",
   "execution_count": 1,
   "id": "b100dc50-60ea-45d4-9ba9-03399857a6ee",
   "metadata": {},
   "outputs": [],
   "source": [
    "import re\n",
    "\n",
    "pattern = r'^\\d*(\\d)\\1\\d*$'\n",
    "\n",
    "repeating_adjacent_digit = re.compile(pattern)\n",
    "passwords = [str(num) for num in range(193651, 649730)]"
   ]
  },
  {
   "cell_type": "code",
   "execution_count": 2,
   "id": "1ede0b52-b827-4349-8a9e-c9fd396ab3f1",
   "metadata": {},
   "outputs": [],
   "source": [
    "valid_passwords = [password for password in passwords  if ''.join(sorted(password)) == password and repeating_adjacent_digit.match(password)]"
   ]
  },
  {
   "cell_type": "code",
   "execution_count": 3,
   "id": "e82bb3f2-6ce5-4f23-be08-53d8e6bfceca",
   "metadata": {},
   "outputs": [
    {
     "data": {
      "text/plain": [
       "1605"
      ]
     },
     "execution_count": 3,
     "metadata": {},
     "output_type": "execute_result"
    }
   ],
   "source": [
    "len(valid_passwords)"
   ]
  },
  {
   "cell_type": "code",
   "execution_count": 38,
   "id": "720cbf47-aa7b-4a2f-bb28-53ea33df72dd",
   "metadata": {},
   "outputs": [
    {
     "data": {
      "text/plain": [
       "['[^1|\\\\b]*11[^1|\\\\b]*$',\n",
       " '[^2|\\\\b]*22[^2|\\\\b]*$',\n",
       " '[^3|\\\\b]*33[^3|\\\\b]*$',\n",
       " '[^4|\\\\b]*44[^4|\\\\b]*$',\n",
       " '[^5|\\\\b]*55[^5|\\\\b]*$',\n",
       " '[^6|\\\\b]*66[^6|\\\\b]*$',\n",
       " '[^7|\\\\b]*77[^7|\\\\b]*$',\n",
       " '[^8|\\\\b]*88[^8|\\\\b]*$',\n",
       " '[^9|\\\\b]*99[^9|\\\\b]*$']"
      ]
     },
     "execution_count": 38,
     "metadata": {},
     "output_type": "execute_result"
    }
   ],
   "source": [
    "patterns = [fr'[^{num}|\\b]*{num}{num}[^{num}|\\b]*$' for num in range(1, 10)]\n",
    "patterns"
   ]
  },
  {
   "cell_type": "code",
   "execution_count": 39,
   "id": "bab01861-a1cf-43d0-acad-559455e65be5",
   "metadata": {},
   "outputs": [
    {
     "data": {
      "text/plain": [
       "'[^1|\\\\b]*11[^1|\\\\b]*$|[^2|\\\\b]*22[^2|\\\\b]*$|[^3|\\\\b]*33[^3|\\\\b]*$|[^4|\\\\b]*44[^4|\\\\b]*$|[^5|\\\\b]*55[^5|\\\\b]*$|[^6|\\\\b]*66[^6|\\\\b]*$|[^7|\\\\b]*77[^7|\\\\b]*$|[^8|\\\\b]*88[^8|\\\\b]*$|[^9|\\\\b]*99[^9|\\\\b]*$'"
      ]
     },
     "execution_count": 39,
     "metadata": {},
     "output_type": "execute_result"
    }
   ],
   "source": [
    "pattern = '|'.join(patterns)\n",
    "pattern"
   ]
  },
  {
   "cell_type": "code",
   "execution_count": 40,
   "id": "9807e3ef-9cbe-42ec-9882-b0bafe6d834b",
   "metadata": {},
   "outputs": [],
   "source": [
    "pattern = re.compile(pattern)"
   ]
  },
  {
   "cell_type": "code",
   "execution_count": 41,
   "id": "67a90019-4261-4c4c-bd08-b68e2c99830d",
   "metadata": {},
   "outputs": [
    {
     "data": {
      "text/plain": [
       "['222233', '222244', '222255', '222266', '222277']"
      ]
     },
     "execution_count": 41,
     "metadata": {},
     "output_type": "execute_result"
    }
   ],
   "source": [
    "wrong = [password for password in valid_passwords if pattern.match(password)]\n",
    "wrong[:5]"
   ]
  },
  {
   "cell_type": "code",
   "execution_count": 45,
   "id": "7993e7a7-3258-4c19-af41-f83ca64c0898",
   "metadata": {},
   "outputs": [
    {
     "data": {
      "text/plain": [
       "1102"
      ]
     },
     "execution_count": 45,
     "metadata": {},
     "output_type": "execute_result"
    }
   ],
   "source": [
    "len(wrong)"
   ]
  },
  {
   "cell_type": "code",
   "execution_count": 42,
   "id": "3f0528a1-638c-4632-b230-608343b71825",
   "metadata": {},
   "outputs": [],
   "source": [
    "valid = []\n",
    "for password in valid_passwords:\n",
    "    for num in range(1, 10):\n",
    "        if f'{num}{num}' in password and f'{num}{num}{num}' not in password:\n",
    "            valid.append(password)\n",
    "            break"
   ]
  },
  {
   "cell_type": "code",
   "execution_count": 43,
   "id": "94c064fd-419d-4e47-8bc7-6a577358affc",
   "metadata": {},
   "outputs": [
    {
     "data": {
      "text/plain": [
       "1102"
      ]
     },
     "execution_count": 43,
     "metadata": {},
     "output_type": "execute_result"
    }
   ],
   "source": [
    "len(valid)"
   ]
  },
  {
   "cell_type": "code",
   "execution_count": 44,
   "id": "7ab73d69-a0fc-47d6-a05f-ce2d33b9e501",
   "metadata": {},
   "outputs": [
    {
     "data": {
      "text/plain": [
       "[]"
      ]
     },
     "execution_count": 44,
     "metadata": {},
     "output_type": "execute_result"
    }
   ],
   "source": [
    "[password for password in valid if password not in wrong]"
   ]
  },
  {
   "cell_type": "code",
   "execution_count": 12,
   "id": "71eeb1dc-e348-4791-ae59-57aa58b37769",
   "metadata": {},
   "outputs": [],
   "source": [
    "with open('inputs/day06.txt') as f:\n",
    "    ORBITS = tuple(line.strip() for line in f)"
   ]
  },
  {
   "cell_type": "code",
   "execution_count": 13,
   "id": "14ca863c-7dea-4491-95e0-4bebe149f2fc",
   "metadata": {},
   "outputs": [
    {
     "data": {
      "text/plain": [
       "['ZR5', 'FZS']"
      ]
     },
     "execution_count": 13,
     "metadata": {},
     "output_type": "execute_result"
    }
   ],
   "source": [
    "ORBITS[0].split(')')"
   ]
  },
  {
   "cell_type": "code",
   "execution_count": 11,
   "id": "84b3f95b-77a4-489e-8dc4-60bf3d433968",
   "metadata": {},
   "outputs": [],
   "source": [
    "orbits = {'COM':None}"
   ]
  },
  {
   "cell_type": "code",
   "execution_count": 15,
   "id": "ce410faf-2272-4d41-a22b-35f96995c491",
   "metadata": {},
   "outputs": [],
   "source": [
    "for orbit in ORBITS:\n",
    "    orbiting, space_object = orbit.split(')')\n",
    "    orbits[space_object] = orbiting"
   ]
  },
  {
   "cell_type": "code",
   "execution_count": 20,
   "id": "465ff5eb-26e2-4ea1-80ad-f37d8d3d963f",
   "metadata": {},
   "outputs": [
    {
     "name": "stdout",
     "output_type": "stream",
     "text": [
      "9QB\n"
     ]
    }
   ],
   "source": [
    "for k, v in orbits.items():\n",
    "    if v == '28P':\n",
    "        print(k)"
   ]
  },
  {
   "cell_type": "code",
   "execution_count": 21,
   "id": "f9e70551-6155-4578-bbc1-405f6f60a615",
   "metadata": {},
   "outputs": [
    {
     "data": {
      "text/plain": [
       "2"
      ]
     },
     "execution_count": 21,
     "metadata": {},
     "output_type": "execute_result"
    }
   ],
   "source": [
    "space_object = '9QB'\n",
    "count = 0\n",
    "\n",
    "while space_object != 'COM':\n",
    "    count += 1\n",
    "    space_object = orbits[space_object]\n",
    "    \n",
    "count"
   ]
  },
  {
   "cell_type": "code",
   "execution_count": 22,
   "id": "e62676b5-c15c-4661-9ad9-c8ac1564d124",
   "metadata": {},
   "outputs": [
    {
     "data": {
      "text/plain": [
       "122782"
      ]
     },
     "execution_count": 22,
     "metadata": {},
     "output_type": "execute_result"
    }
   ],
   "source": [
    "count = 0\n",
    "for space_object in orbits:\n",
    "    while space_object != 'COM':\n",
    "        count += 1\n",
    "        space_object = orbits[space_object]\n",
    "count"
   ]
  },
  {
   "cell_type": "code",
   "execution_count": 24,
   "id": "8da0f4cd-fa8c-4c79-af3c-5c0d4fcedffe",
   "metadata": {},
   "outputs": [
    {
     "ename": "KeyboardInterrupt",
     "evalue": "",
     "output_type": "error",
     "traceback": [
      "\u001b[1;31m---------------------------------------------------------------------------\u001b[0m",
      "\u001b[1;31mKeyboardInterrupt\u001b[0m                         Traceback (most recent call last)",
      "Input \u001b[1;32mIn [24]\u001b[0m, in \u001b[0;36m<cell line: 3>\u001b[1;34m()\u001b[0m\n\u001b[0;32m      1\u001b[0m x \u001b[38;5;241m=\u001b[39m [\u001b[38;5;241m1\u001b[39m, \u001b[38;5;241m2\u001b[39m, \u001b[38;5;241m3\u001b[39m]\n\u001b[0;32m      3\u001b[0m \u001b[38;5;28;01mfor\u001b[39;00m n \u001b[38;5;129;01min\u001b[39;00m x:\n\u001b[1;32m----> 4\u001b[0m     \u001b[43mx\u001b[49m\u001b[38;5;241;43m.\u001b[39;49m\u001b[43mappend\u001b[49m\u001b[43m(\u001b[49m\u001b[43mn\u001b[49m\u001b[38;5;241;43m*\u001b[39;49m\u001b[38;5;241;43m*\u001b[39;49m\u001b[38;5;241;43m2\u001b[39;49m\u001b[43m)\u001b[49m\n",
      "\u001b[1;31mKeyboardInterrupt\u001b[0m: "
     ]
    }
   ],
   "source": [
    "x = [1, 2, 3]\n",
    "\n",
    "for n in x:\n",
    "    x.append(n**2)"
   ]
  },
  {
   "cell_type": "code",
   "execution_count": null,
   "id": "4131c60a-7265-4a43-aae5-e20af0056d41",
   "metadata": {},
   "outputs": [],
   "source": []
  }
 ],
 "metadata": {
  "kernelspec": {
   "display_name": "Python 3 (ipykernel)",
   "language": "python",
   "name": "python3"
  },
  "language_info": {
   "codemirror_mode": {
    "name": "ipython",
    "version": 3
   },
   "file_extension": ".py",
   "mimetype": "text/x-python",
   "name": "python",
   "nbconvert_exporter": "python",
   "pygments_lexer": "ipython3",
   "version": "3.9.13"
  }
 },
 "nbformat": 4,
 "nbformat_minor": 5
}
