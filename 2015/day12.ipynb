{
 "cells": [
  {
   "cell_type": "code",
   "execution_count": 5,
   "id": "d20ed55e-b8c3-4934-8262-341747f7f4b6",
   "metadata": {},
   "outputs": [],
   "source": [
    "import re\n",
    "\n",
    "with open('inputs/day12.txt') as f:\n",
    "    inputs = [line.strip() for line in f]"
   ]
  },
  {
   "cell_type": "code",
   "execution_count": 7,
   "id": "d199159f-13aa-4343-8b15-f39205135d89",
   "metadata": {},
   "outputs": [],
   "source": [
    "test = '{\"e\":161,\"a\":\"blue\",\"d\":{\"e\":-14,\"a\":\"red\",\"d\":{\"c\":\"yellow\",\"a\":[-35,0]'"
   ]
  },
  {
   "cell_type": "code",
   "execution_count": null,
   "id": "ec05e9e0-4c06-4957-a481-58f6217a207d",
   "metadata": {},
   "outputs": [],
   "source": [
    "re.findall("
   ]
  }
 ],
 "metadata": {
  "kernelspec": {
   "display_name": "Python 3 (ipykernel)",
   "language": "python",
   "name": "python3"
  },
  "language_info": {
   "codemirror_mode": {
    "name": "ipython",
    "version": 3
   },
   "file_extension": ".py",
   "mimetype": "text/x-python",
   "name": "python",
   "nbconvert_exporter": "python",
   "pygments_lexer": "ipython3",
   "version": "3.9.7"
  }
 },
 "nbformat": 4,
 "nbformat_minor": 5
}
