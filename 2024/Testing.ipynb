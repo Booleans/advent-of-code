{
 "cells": [
  {
   "cell_type": "code",
   "execution_count": 1,
   "metadata": {},
   "outputs": [
    {
     "data": {
      "text/plain": [
       "['123', '345', '456']"
      ]
     },
     "execution_count": 1,
     "metadata": {},
     "output_type": "execute_result"
    }
   ],
   "source": [
    "x = '''123\n",
    "345\n",
    "456'''\n",
    "\n",
    "x.split('\\n')"
   ]
  },
  {
   "cell_type": "code",
   "execution_count": 21,
   "metadata": {},
   "outputs": [
    {
     "name": "stdout",
     "output_type": "stream",
     "text": [
      "The total distance between the lists is 2742123.\n",
      "The similarity score between the two lists is 21328497.\n"
     ]
    }
   ],
   "source": [
    "from collections import Counter\n",
    "\n",
    "with open(\"inputs/day01.txt\") as f:\n",
    "    raw = f.read().split()\n",
    "\n",
    "nums = [int(num) for  num in raw]\n",
    "\n",
    "left_list = sorted(nums[0::2])\n",
    "right_list = sorted(nums[1::2])\n",
    "\n",
    "total_distance = sum(abs(left - right) for left, right in zip(left_list, right_list))\n",
    "\n",
    "print(f'The total distance between the lists is {total_distance}.')\n",
    "\n",
    "counts = Counter(right_list)\n",
    "\n",
    "similarity_score = sum(counts[num] * num for num in left_list)\n",
    "\n",
    "print(f'The similarity score between the two lists is {similarity_score}.')\n"
   ]
  },
  {
   "cell_type": "code",
   "execution_count": 28,
   "metadata": {},
   "outputs": [
    {
     "name": "stdout",
     "output_type": "stream",
     "text": [
      "The total distance between the lists is 2742123.\n",
      "The similarity score between the two lists is 21328497.\n"
     ]
    }
   ],
   "source": [
    "import re\n",
    "from collections import Counter\n",
    "\n",
    "with open(\"inputs/day01.txt\") as f:\n",
    "    raw = f.read()\n",
    "\n",
    "rows = re.findall(r'(\\d+)\\s{3}(\\d+)', raw)\n",
    "\n",
    "left_list =  sorted([int(row[0]) for row in rows])\n",
    "right_list = sorted([int(row[1]) for row in rows])\n",
    "\n",
    "total_distance = sum(abs(left - right) for left, right in zip(left_list, right_list))\n",
    "\n",
    "print(f'The total distance between the lists is {total_distance}.')\n",
    "\n",
    "counts = Counter(right_list)\n",
    "\n",
    "similarity_score = sum(counts[num] * num for num in left_list)\n",
    "\n",
    "print(f'The similarity score between the two lists is {similarity_score}.')"
   ]
  },
  {
   "cell_type": "code",
   "execution_count": 47,
   "metadata": {},
   "outputs": [
    {
     "data": {
      "text/plain": [
       "390"
      ]
     },
     "execution_count": 47,
     "metadata": {},
     "output_type": "execute_result"
    }
   ],
   "source": [
    "with open(\"inputs/day02.txt\") as f:\n",
    "    lines = f.read().split('\\n')\n",
    "\n",
    "\n",
    "reports = [line.split() for line in lines]\n",
    "reports = [[int(num) for num in report] for report in reports]\n",
    "\n",
    "valid_reports = 0\n",
    "\n",
    "for report in reports:\n",
    "    diffs = tuple(first - second for first, second in zip(report[0:], report[1:]))\n",
    "    valid_reports += all(diff in range(1, 4) for diff in diffs) or all(diff in range(-3, 0) for diff in diffs)\n",
    "\n",
    "valid_reports"
   ]
  },
  {
   "cell_type": "code",
   "execution_count": 12,
   "metadata": {},
   "outputs": [
    {
     "data": {
      "text/plain": [
       "170068701"
      ]
     },
     "execution_count": 12,
     "metadata": {},
     "output_type": "execute_result"
    }
   ],
   "source": [
    "import re \n",
    "\n",
    "with open(\"inputs/day03.txt\") as f:\n",
    "    raw = f.read()\n",
    "\n",
    "pattern = r'mul\\((\\d{1,3}),(\\d{1,3})\\)'\n",
    "\n",
    "sum(int(num1) * int(num2) for num1, num2 in re.findall(pattern, raw))\n",
    "    "
   ]
  },
  {
   "cell_type": "code",
   "execution_count": null,
   "metadata": {},
   "outputs": [
    {
     "data": {
      "text/plain": [
       "2742123"
      ]
     },
     "execution_count": 12,
     "metadata": {},
     "output_type": "execute_result"
    }
   ],
   "source": [
    "distances = sum(abs(first - second) for first, second in zip(first_list, second_list))\n",
    "zip(d)"
   ]
  },
  {
   "cell_type": "code",
   "execution_count": 14,
   "metadata": {},
   "outputs": [],
   "source": [
    "from collections import Counter\n",
    "counts = Counter(second_list)"
   ]
  },
  {
   "cell_type": "code",
   "execution_count": 19,
   "metadata": {},
   "outputs": [
    {
     "data": {
      "text/plain": [
       "21328497"
      ]
     },
     "execution_count": 19,
     "metadata": {},
     "output_type": "execute_result"
    }
   ],
   "source": [
    "total = sum(counts[num] * num for num in first_list)\n",
    "total"
   ]
  },
  {
   "cell_type": "code",
   "execution_count": null,
   "metadata": {},
   "outputs": [],
   "source": []
  }
 ],
 "metadata": {
  "kernelspec": {
   "display_name": "Python 3",
   "language": "python",
   "name": "python3"
  },
  "language_info": {
   "codemirror_mode": {
    "name": "ipython",
    "version": 3
   },
   "file_extension": ".py",
   "mimetype": "text/x-python",
   "name": "python",
   "nbconvert_exporter": "python",
   "pygments_lexer": "ipython3",
   "version": "3.11.5"
  }
 },
 "nbformat": 4,
 "nbformat_minor": 2
}
