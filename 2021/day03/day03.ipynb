{
 "cells": [
  {
   "cell_type": "code",
   "execution_count": 1,
   "id": "d6986d75-92b9-45f4-9cb0-762d213e6408",
   "metadata": {},
   "outputs": [],
   "source": [
    "import numpy as np"
   ]
  },
  {
   "cell_type": "code",
   "execution_count": 4,
   "id": "64122f97",
   "metadata": {},
   "outputs": [],
   "source": [
    "with open('input.txt') as f:\n",
    "    binary = tuple(line.strip() for line in f)"
   ]
  },
  {
   "cell_type": "code",
   "execution_count": 47,
   "id": "a0d3e95f",
   "metadata": {},
   "outputs": [],
   "source": [
    "outputs = []\n",
    "for number in binary:\n",
    "    outputs.append([int(bit) for bit in number])\n",
    "bits = np.array(outputs)"
   ]
  },
  {
   "cell_type": "code",
   "execution_count": 41,
   "id": "d2c1ba9f",
   "metadata": {},
   "outputs": [
    {
     "data": {
      "text/plain": [
       "array([[1, 1, 0, ..., 1, 0, 0],\n",
       "       [0, 1, 0, ..., 1, 0, 0],\n",
       "       [0, 0, 1, ..., 0, 1, 0],\n",
       "       ...,\n",
       "       [0, 1, 0, ..., 0, 1, 1],\n",
       "       [1, 1, 0, ..., 0, 0, 1],\n",
       "       [1, 0, 0, ..., 0, 1, 0]], dtype=uint8)"
      ]
     },
     "execution_count": 41,
     "metadata": {},
     "output_type": "execute_result"
    }
   ],
   "source": [
    "bits"
   ]
  },
  {
   "cell_type": "code",
   "execution_count": 46,
   "id": "d154a0f2",
   "metadata": {},
   "outputs": [],
   "source": [
    "most_common_bit = np.round(np.mean(bits, axis=0))\n",
    "least_common_bit = 1 - most_common_bit"
   ]
  },
  {
   "cell_type": "code",
   "execution_count": 43,
   "id": "cab7757d",
   "metadata": {},
   "outputs": [],
   "source": [
    "least_common_bit = 1 - most_common_bit"
   ]
  },
  {
   "cell_type": "code",
   "execution_count": 135,
   "id": "b9974def",
   "metadata": {},
   "outputs": [
    {
     "data": {
      "text/plain": [
       "array([0., 0., 1., 1., 0., 0., 1., 0., 0., 0., 1., 0.])"
      ]
     },
     "execution_count": 135,
     "metadata": {},
     "output_type": "execute_result"
    }
   ],
   "source": [
    "most_common_bit"
   ]
  },
  {
   "cell_type": "code",
   "execution_count": 53,
   "id": "d2dfd47b",
   "metadata": {},
   "outputs": [],
   "source": [
    "powers_of_2 = np.flip([2**i for i in range(len(most_common_bit))])"
   ]
  },
  {
   "cell_type": "code",
   "execution_count": 57,
   "id": "2d71b3ac",
   "metadata": {},
   "outputs": [],
   "source": [
    "gamma = int(np.sum(powers_of_2*most_common_bit))\n",
    "epsilon = int(np.sum(powers_of_2*least_common_bit))"
   ]
  },
  {
   "cell_type": "code",
   "execution_count": 58,
   "id": "5c05364e",
   "metadata": {},
   "outputs": [
    {
     "data": {
      "text/plain": [
       "2640986"
      ]
     },
     "execution_count": 58,
     "metadata": {},
     "output_type": "execute_result"
    }
   ],
   "source": [
    "gamma*epsilon"
   ]
  },
  {
   "cell_type": "code",
   "execution_count": 59,
   "id": "f8f9d04c",
   "metadata": {},
   "outputs": [],
   "source": [
    "def convert_bit_array_to_int(bits):\n",
    "    powers_of_2 = np.flip([2**i for i in range(len(bits))])\n",
    "    number = int(np.sum(powers_of_2 * bits))\n",
    "    return number"
   ]
  },
  {
   "cell_type": "code",
   "execution_count": 60,
   "id": "f0be949e",
   "metadata": {},
   "outputs": [
    {
     "data": {
      "text/plain": [
       "802"
      ]
     },
     "execution_count": 60,
     "metadata": {},
     "output_type": "execute_result"
    }
   ],
   "source": [
    "convert_bit_array_to_int(most_common_bit)"
   ]
  },
  {
   "cell_type": "code",
   "execution_count": 71,
   "id": "b1644388",
   "metadata": {},
   "outputs": [
    {
     "data": {
      "text/plain": [
       "array([0., 0., 1., 1., 0., 0., 1., 0., 0., 0., 1., 0.])"
      ]
     },
     "execution_count": 71,
     "metadata": {},
     "output_type": "execute_result"
    }
   ],
   "source": [
    "most_common_bit"
   ]
  },
  {
   "cell_type": "code",
   "execution_count": 97,
   "id": "b9123f19",
   "metadata": {},
   "outputs": [
    {
     "data": {
      "text/plain": [
       "array([[False, False, False, ..., False, False,  True],\n",
       "       [ True, False, False, ..., False, False,  True],\n",
       "       [ True,  True,  True, ...,  True,  True,  True],\n",
       "       ...,\n",
       "       [ True, False, False, ...,  True,  True, False],\n",
       "       [False, False, False, ...,  True, False, False],\n",
       "       [False,  True, False, ...,  True,  True,  True]])"
      ]
     },
     "execution_count": 97,
     "metadata": {},
     "output_type": "execute_result"
    }
   ],
   "source": [
    "matching_bits = bits == most_common_bit\n",
    "matching_bits"
   ]
  },
  {
   "cell_type": "code",
   "execution_count": 104,
   "id": "fe1924c3",
   "metadata": {},
   "outputs": [
    {
     "data": {
      "text/plain": [
       "array([[0, 0, 1, 1, 0, 0, 1, 0, 0, 1, 1, 1],\n",
       "       [0, 0, 1, 1, 0, 0, 1, 0, 0, 1, 0, 1]])"
      ]
     },
     "execution_count": 104,
     "metadata": {},
     "output_type": "execute_result"
    }
   ],
   "source": [
    "oxygen_matches = bits[np.argmin(matching_bits, axis=1) == np.max(np.argmin(matching_bits, axis=1))]\n",
    "oxygen_matches"
   ]
  },
  {
   "cell_type": "code",
   "execution_count": 105,
   "id": "b69f7674",
   "metadata": {},
   "outputs": [
    {
     "data": {
      "text/plain": [
       "array([[ True,  True,  True,  True,  True,  True,  True,  True,  True,\n",
       "        False,  True, False],\n",
       "       [ True,  True,  True,  True,  True,  True,  True,  True,  True,\n",
       "        False, False, False]])"
      ]
     },
     "execution_count": 105,
     "metadata": {},
     "output_type": "execute_result"
    }
   ],
   "source": [
    "oxygen_matches ==  most_common_bit"
   ]
  },
  {
   "cell_type": "code",
   "execution_count": 89,
   "id": "88a091a4",
   "metadata": {},
   "outputs": [
    {
     "data": {
      "text/plain": [
       "807"
      ]
     },
     "execution_count": 89,
     "metadata": {},
     "output_type": "execute_result"
    }
   ],
   "source": [
    "oxygen_bits = bits[np.argmax(np.argmin(matching_bits, axis=1))]\n",
    "oxygen_rating = convert_bit_array_to_int(oxygen_bits)\n",
    "oxygen_rating"
   ]
  },
  {
   "cell_type": "code",
   "execution_count": null,
   "id": "6e19a222",
   "metadata": {},
   "outputs": [],
   "source": []
  },
  {
   "cell_type": "code",
   "execution_count": 106,
   "id": "67041c01",
   "metadata": {},
   "outputs": [
    {
     "data": {
      "text/plain": [
       "3291"
      ]
     },
     "execution_count": 106,
     "metadata": {},
     "output_type": "execute_result"
    }
   ],
   "source": [
    "matching_bits = bits == least_common_bit\n",
    "scrubber_bits = bits[np.argmax(np.argmin(matching_bits, axis=1))]\n",
    "scrubber_rating = convert_bit_array_to_int(scrubber_bits)\n",
    "scrubber_rating"
   ]
  },
  {
   "cell_type": "code",
   "execution_count": 108,
   "id": "f85ca3e3",
   "metadata": {},
   "outputs": [
    {
     "data": {
      "text/plain": [
       "array([[1, 1, 0, 0, 1, 1, 0, 1, 1, 0, 1, 1],\n",
       "       [1, 1, 0, 0, 1, 1, 0, 1, 1, 0, 0, 1]])"
      ]
     },
     "execution_count": 108,
     "metadata": {},
     "output_type": "execute_result"
    }
   ],
   "source": [
    "scrubber_matches = bits[np.argmin(matching_bits, axis=1) == np.max(np.argmin(matching_bits, axis=1))]\n",
    "scrubber_matches\n"
   ]
  },
  {
   "cell_type": "code",
   "execution_count": 95,
   "id": "d23acf8d",
   "metadata": {},
   "outputs": [
    {
     "data": {
      "text/plain": [
       "array([[1, 1, 0, 0, 1, 1, 0, 1, 1, 0, 1, 1],\n",
       "       [1, 1, 0, 0, 1, 1, 0, 1, 1, 0, 0, 1]])"
      ]
     },
     "execution_count": 95,
     "metadata": {},
     "output_type": "execute_result"
    }
   ],
   "source": [
    "matching_bits = bits == least_common_bit\n",
    "bits[np.argmin(matching_bits, axis=1) == 9]\n"
   ]
  },
  {
   "cell_type": "code",
   "execution_count": 111,
   "id": "b41ef3a6",
   "metadata": {},
   "outputs": [
    {
     "data": {
      "text/plain": [
       "3291"
      ]
     },
     "execution_count": 111,
     "metadata": {},
     "output_type": "execute_result"
    }
   ],
   "source": [
    "convert_bit_array_to_int([1, 1, 0, 0, 1, 1, 0, 1, 1, 0, 1, 1])"
   ]
  },
  {
   "cell_type": "code",
   "execution_count": 112,
   "id": "e93e779a",
   "metadata": {},
   "outputs": [
    {
     "data": {
      "text/plain": [
       "2662419"
      ]
     },
     "execution_count": 112,
     "metadata": {},
     "output_type": "execute_result"
    }
   ],
   "source": [
    "3291*809"
   ]
  },
  {
   "cell_type": "code",
   "execution_count": 120,
   "id": "4993c738",
   "metadata": {},
   "outputs": [
    {
     "data": {
      "text/plain": [
       "array([[0, 0, 1, 1, 0, 0, 1, 0, 0, 1, 1, 1]])"
      ]
     },
     "execution_count": 120,
     "metadata": {},
     "output_type": "execute_result"
    }
   ],
   "source": [
    "potential_matches = bits\n",
    "\n",
    "i = 0\n",
    "while len(potential_matches) > 1:\n",
    "    if np.any(potential_matches[:, i] == most_common_bit[i]):\n",
    "        potential_matches = potential_matches[potential_matches[:, i] == most_common_bit[i]]\n",
    "    i += 1\n",
    "potential_matches"
   ]
  },
  {
   "cell_type": "code",
   "execution_count": 121,
   "id": "09a0f77c",
   "metadata": {},
   "outputs": [
    {
     "data": {
      "text/plain": [
       "807"
      ]
     },
     "execution_count": 121,
     "metadata": {},
     "output_type": "execute_result"
    }
   ],
   "source": [
    "convert_bit_array_to_int([0, 0, 1, 1, 0, 0, 1, 0, 0, 1, 1, 1])"
   ]
  },
  {
   "cell_type": "code",
   "execution_count": 143,
   "id": "be0fb9ad",
   "metadata": {},
   "outputs": [
    {
     "data": {
      "text/plain": [
       "array([[0, 0, 1, 1, 0, 0, 1, 0, 0, 1, 1, 1]])"
      ]
     },
     "execution_count": 143,
     "metadata": {},
     "output_type": "execute_result"
    }
   ],
   "source": [
    "potential_matches = bits\n",
    "\n",
    "i = 0\n",
    "while len(potential_matches) > 1:\n",
    "    mean_bit = np.mean(bits, axis=0)\n",
    "    most_common_bit = np.where(mean_bit == 0.5, 1, np.round(mean_bit))\n",
    "    if np.any(potential_matches[:, i] == most_common_bit[i]):\n",
    "        potential_matches = potential_matches[potential_matches[:, i] == most_common_bit[i]]\n",
    "    i += 1\n",
    "potential_matches"
   ]
  },
  {
   "cell_type": "code",
   "execution_count": 144,
   "id": "7a06b50f",
   "metadata": {},
   "outputs": [
    {
     "data": {
      "text/plain": [
       "807"
      ]
     },
     "execution_count": 144,
     "metadata": {},
     "output_type": "execute_result"
    }
   ],
   "source": [
    "convert_bit_array_to_int([0, 0, 1, 1, 0, 0, 1, 0, 0, 1, 1, 1])"
   ]
  },
  {
   "cell_type": "code",
   "execution_count": 125,
   "id": "b95b6ba1",
   "metadata": {},
   "outputs": [
    {
     "data": {
      "text/plain": [
       "array([0., 0., 1., 1., 0., 0., 1., 0., 0., 0., 1., 0.])"
      ]
     },
     "execution_count": 125,
     "metadata": {},
     "output_type": "execute_result"
    }
   ],
   "source": [
    "most_common_bit"
   ]
  },
  {
   "cell_type": "code",
   "execution_count": 126,
   "id": "70363dbf",
   "metadata": {},
   "outputs": [
    {
     "data": {
      "text/plain": [
       "array([0., 1., 0.])"
      ]
     },
     "execution_count": 126,
     "metadata": {},
     "output_type": "execute_result"
    }
   ],
   "source": [
    "np.round([0.5, .6, 0.3])"
   ]
  },
  {
   "cell_type": "code",
   "execution_count": 134,
   "id": "80530f5f",
   "metadata": {},
   "outputs": [
    {
     "data": {
      "text/plain": [
       "0.5"
      ]
     },
     "execution_count": 134,
     "metadata": {},
     "output_type": "execute_result"
    }
   ],
   "source": [
    "round(.5, )"
   ]
  },
  {
   "cell_type": "code",
   "execution_count": 129,
   "id": "cab0b0a1",
   "metadata": {},
   "outputs": [
    {
     "data": {
      "text/plain": [
       "0"
      ]
     },
     "execution_count": 129,
     "metadata": {},
     "output_type": "execute_result"
    }
   ],
   "source": [
    "int(.5)"
   ]
  },
  {
   "cell_type": "code",
   "execution_count": 131,
   "id": "2727da20",
   "metadata": {},
   "outputs": [
    {
     "data": {
      "text/plain": [
       "0.0"
      ]
     },
     "execution_count": 131,
     "metadata": {},
     "output_type": "execute_result"
    }
   ],
   "source": [
    "np.round(0.5, 0)"
   ]
  },
  {
   "cell_type": "code",
   "execution_count": 136,
   "id": "21974441",
   "metadata": {},
   "outputs": [
    {
     "data": {
      "text/plain": [
       "array([0.486, 0.498, 0.506, 0.507, 0.491, 0.495, 0.525, 0.485, 0.487,\n",
       "       0.498, 0.516, 0.477])"
      ]
     },
     "execution_count": 136,
     "metadata": {},
     "output_type": "execute_result"
    }
   ],
   "source": [
    "np.mean(bits, axis=0)"
   ]
  },
  {
   "cell_type": "code",
   "execution_count": 140,
   "id": "ba1f7bfd",
   "metadata": {},
   "outputs": [
    {
     "data": {
      "text/plain": [
       "array([0.486, 0.498, 0.5  , 0.507, 0.491, 0.495, 0.525, 0.485, 0.487,\n",
       "       0.498, 0.516, 0.477])"
      ]
     },
     "execution_count": 140,
     "metadata": {},
     "output_type": "execute_result"
    }
   ],
   "source": [
    "means = np.mean(bits, axis=0)\n",
    "means[2] = 0.5\n",
    "means\n"
   ]
  },
  {
   "cell_type": "code",
   "execution_count": 141,
   "id": "67e62b64",
   "metadata": {},
   "outputs": [
    {
     "data": {
      "text/plain": [
       "array([0., 0., 1., 1., 0., 0., 1., 0., 0., 0., 1., 0.])"
      ]
     },
     "execution_count": 141,
     "metadata": {},
     "output_type": "execute_result"
    }
   ],
   "source": [
    "np.where(means == 0.5, 1, np.round(means))"
   ]
  },
  {
   "cell_type": "code",
   "execution_count": null,
   "id": "097f60f1",
   "metadata": {},
   "outputs": [],
   "source": []
  }
 ],
 "metadata": {
  "kernelspec": {
   "display_name": "Python 3 (ipykernel)",
   "language": "python",
   "name": "python3"
  },
  "language_info": {
   "codemirror_mode": {
    "name": "ipython",
    "version": 3
   },
   "file_extension": ".py",
   "mimetype": "text/x-python",
   "name": "python",
   "nbconvert_exporter": "python",
   "pygments_lexer": "ipython3",
   "version": "3.9.7"
  }
 },
 "nbformat": 4,
 "nbformat_minor": 5
}
