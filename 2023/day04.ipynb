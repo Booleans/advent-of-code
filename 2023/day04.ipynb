{
 "cells": [
  {
   "cell_type": "code",
   "execution_count": 21,
   "metadata": {},
   "outputs": [
    {
     "data": {
      "text/plain": [
       "'Card   2: 94 57 54 45  9 78 71 35 48 44 |  9 56 28 57 55 95 32 48 76 47 94 35 78 91 54 49 38 30 17 63 71  8 16 45 44'"
      ]
     },
     "execution_count": 21,
     "metadata": {},
     "output_type": "execute_result"
    }
   ],
   "source": [
    "import re\n",
    "from dataclasses import dataclass, field\n",
    "\n",
    "@dataclass\n",
    "class Scratchcard:\n",
    "    winning_numbers: set[int]\n",
    "    numbers_on_card: set[int]\n",
    "    matching_numbers: set[int] = field(init=False)\n",
    "    card_value: int = 0\n",
    "\n",
    "    def __post_init__(self):\n",
    "        self.matching_numbers = self.numbers_on_card & self.winning_numbers\n",
    "        if self.matching_numbers:\n",
    "            self.card_value = 2**(len(self.matching_numbers)-1)\n",
    "\n",
    "with open(\"inputs/day04.txt\") as f:\n",
    "    cards = f.read().split('\\n')\n",
    "\n",
    "row = cards[1]\n",
    "row"
   ]
  },
  {
   "cell_type": "code",
   "execution_count": 20,
   "metadata": {},
   "outputs": [
    {
     "data": {
      "text/plain": [
       "{9, 35, 44, 45, 48, 54, 57, 71, 78, 94}"
      ]
     },
     "execution_count": 20,
     "metadata": {},
     "output_type": "execute_result"
    }
   ],
   "source": [
    "_, numbers = row.split(':')\n",
    "winning_nums, our_nums = numbers.split('|')\n",
    "\n",
    "pattern = r'(\\d+)'\n",
    "numbers = re.compile(pattern)\n",
    "\n",
    "numbers.findall(our_nums)\n",
    "\n",
    "winning_nums = {int(num) for num in numbers.findall(winning_nums)}\n",
    "our_nums = {int(num) for num in numbers.findall(our_nums)}\n",
    "\n",
    "matching_numbers = winning_nums & our_nums\n",
    "matching_numbers"
   ]
  },
  {
   "cell_type": "code",
   "execution_count": 24,
   "metadata": {},
   "outputs": [],
   "source": [
    "@dataclass\n",
    "class Scratchcard:\n",
    "    winning_numbers: set[int]\n",
    "    numbers_on_card: set[int]\n",
    "    matching_numbers: set[int] = field(init=False)\n",
    "    card_value: int = 0\n",
    "\n",
    "    def __post_init__(self):\n",
    "        self.matching_numbers = self.numbers_on_card & self.winning_numbers\n",
    "        if self.matching_numbers:\n",
    "            self.card_value = 2**(len(self.matching_numbers)-1)\n"
   ]
  },
  {
   "cell_type": "code",
   "execution_count": 25,
   "metadata": {},
   "outputs": [
    {
     "data": {
      "text/plain": [
       "Scratchcard(winning_numbers={35, 71, 9, 44, 45, 78, 48, 54, 57, 94}, numbers_on_card={8, 9, 16, 17, 28, 30, 32, 35, 38, 44, 45, 47, 48, 49, 54, 55, 56, 57, 63, 71, 76, 78, 91, 94, 95}, matching_numbers={35, 71, 9, 44, 45, 78, 48, 54, 57, 94}, card_value=512)"
      ]
     },
     "execution_count": 25,
     "metadata": {},
     "output_type": "execute_result"
    }
   ],
   "source": [
    "Scratchcard(winning_nums,our_nums)"
   ]
  },
  {
   "cell_type": "code",
   "execution_count": null,
   "metadata": {},
   "outputs": [],
   "source": []
  }
 ],
 "metadata": {
  "kernelspec": {
   "display_name": "Python 3",
   "language": "python",
   "name": "python3"
  },
  "language_info": {
   "codemirror_mode": {
    "name": "ipython",
    "version": 3
   },
   "file_extension": ".py",
   "mimetype": "text/x-python",
   "name": "python",
   "nbconvert_exporter": "python",
   "pygments_lexer": "ipython3",
   "version": "3.11.5"
  },
  "orig_nbformat": 4
 },
 "nbformat": 4,
 "nbformat_minor": 2
}
