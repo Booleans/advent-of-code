{
 "cells": [
  {
   "cell_type": "code",
   "execution_count": null,
   "id": "e66478be-ccc8-4a21-aee6-2885f15015a4",
   "metadata": {},
   "outputs": [],
   "source": [
    "with open(\"../inputs/day06.txt\") as f:\n",
    "    fish = [int(fish) for fish in f.read().split(\"\\n\")]\n",
    "    \n",
    "with open('input.txt') as f:\n",
    "    depths = tuple(int(line.strip()) for line in f)\n",
    "    \n",
    "with open(\"inputs/day01.txt\") as f:\n",
    "    frequency_changes = tuple(line.strip() for line in f)    "
   ]
  },
  {
   "cell_type": "code",
   "execution_count": 8,
   "id": "7c6a4d31-a7ca-4929-bdd8-ae3c3e516f7d",
   "metadata": {},
   "outputs": [],
   "source": [
    "with open(\"inputs/day01.txt\") as f:\n",
    "    inputs = tuple(line.strip() for line in f)"
   ]
  },
  {
   "cell_type": "code",
   "execution_count": 11,
   "id": "9654b25a-0d91-4814-af40-1b68dc36dcc2",
   "metadata": {},
   "outputs": [],
   "source": [
    "max_calories = 0\n",
    "calories = 0\n",
    "list_cals = []\n",
    "\n",
    "for cal in inputs:\n",
    "    if len(cal) > 0:\n",
    "        cals = int(cal)\n",
    "        calories += cals\n",
    "    else:\n",
    "        list_cals.append(calories)\n",
    "        calories = 0"
   ]
  },
  {
   "cell_type": "code",
   "execution_count": 15,
   "id": "e78eb517-130e-46fa-8b83-f2719dc2af82",
   "metadata": {},
   "outputs": [
    {
     "data": {
      "text/plain": [
       "210367"
      ]
     },
     "execution_count": 15,
     "metadata": {},
     "output_type": "execute_result"
    }
   ],
   "source": [
    "sum(sorted(list_cals)[-3:])"
   ]
  },
  {
   "cell_type": "code",
   "execution_count": null,
   "id": "16a7d2c8-3dd0-45d3-bccf-7502d5c08844",
   "metadata": {},
   "outputs": [],
   "source": []
  }
 ],
 "metadata": {
  "kernelspec": {
   "display_name": "Python 3 (ipykernel)",
   "language": "python",
   "name": "python3"
  },
  "language_info": {
   "codemirror_mode": {
    "name": "ipython",
    "version": 3
   },
   "file_extension": ".py",
   "mimetype": "text/x-python",
   "name": "python",
   "nbconvert_exporter": "python",
   "pygments_lexer": "ipython3",
   "version": "3.9.15"
  }
 },
 "nbformat": 4,
 "nbformat_minor": 5
}
