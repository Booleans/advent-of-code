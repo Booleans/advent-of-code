{
 "cells": [
  {
   "cell_type": "code",
   "execution_count": 16,
   "metadata": {},
   "outputs": [],
   "source": [
    "import re"
   ]
  },
  {
   "cell_type": "code",
   "execution_count": 17,
   "metadata": {},
   "outputs": [],
   "source": [
    "with open('input.txt') as f:\n",
    "    raw = f.read()"
   ]
  },
  {
   "cell_type": "code",
   "execution_count": 18,
   "metadata": {},
   "outputs": [],
   "source": [
    "passports = raw.split('\\n\\n')"
   ]
  },
  {
   "cell_type": "code",
   "execution_count": null,
   "metadata": {},
   "outputs": [],
   "source": [
    "FIELDS = ('byr', 'iyr', 'eyr', 'hgt', 'hcl', 'pid', 'cid')"
   ]
  },
  {
   "cell_type": "code",
   "execution_count": 132,
   "metadata": {},
   "outputs": [],
   "source": [
    "pattern = '^.*(?=.*byr)(?=.*iyr)(?=.*eyr)(?=.*hgt)(?=.*hcl)(?=.*ecl)(?=.*pid).*$'\n",
    "valid = re.compile(pattern)"
   ]
  },
  {
   "cell_type": "code",
   "execution_count": 133,
   "metadata": {},
   "outputs": [
    {
     "data": {
      "text/plain": [
       "25"
      ]
     },
     "execution_count": 133,
     "metadata": {},
     "output_type": "execute_result"
    }
   ],
   "source": [
    "valid_passports = sum((bool(valid.match(passport.replace('\\n', ''))) for passport in passports))\n",
    "valid_passports"
   ]
  },
  {
   "cell_type": "code",
   "execution_count": 163,
   "metadata": {},
   "outputs": [
    {
     "data": {
      "text/plain": [
       "True"
      ]
     },
     "execution_count": 163,
     "metadata": {},
     "output_type": "execute_result"
    }
   ],
   "source": [
    "test = 'ecl:hzl byr:20000 iyr:2020 pid:000445492 cid:61 hgt:186cm eyr:2030 hcl:#7d3b0f'\n",
    "\n",
    "pattern = r'^(?=.*byr:(19[2-9][0-9]|200[0-2])\\b).*$'\n",
    "pattern = r'^(?=.*iyr:(201[0-9]|2020)\\b).*$'\n",
    "pattern = r'^(?=.*eyr:(202[0-9]|2030)\\b).*$'\n",
    "pattern = r'^(?=.*hcl:#[\\d|a-f]{6}\\b).*$'\n",
    "pattern = r'^(?=.*ecl:(amb|blu|brn|gry|grn|hzl|oth)\\b).*$'\n",
    "pattern = r'^(?=.*pid:\\d{9}\\b).*$'\n",
    "\n",
    "valid = re.compile(pattern)\n",
    "\n",
    "bool(valid.match(test.replace('\\n', '')))"
   ]
  },
  {
   "cell_type": "code",
   "execution_count": 28,
   "metadata": {},
   "outputs": [
    {
     "data": {
      "text/plain": [
       "290"
      ]
     },
     "execution_count": 28,
     "metadata": {},
     "output_type": "execute_result"
    }
   ],
   "source": [
    "len(passports)"
   ]
  },
  {
   "cell_type": "code",
   "execution_count": 22,
   "metadata": {},
   "outputs": [
    {
     "ename": "SyntaxError",
     "evalue": "unexpected EOF while parsing (<ipython-input-22-3ec0a0fdb3a7>, line 2)",
     "output_type": "error",
     "traceback": [
      "\u001b[1;36m  File \u001b[1;32m\"<ipython-input-22-3ec0a0fdb3a7>\"\u001b[1;36m, line \u001b[1;32m2\u001b[0m\n\u001b[1;33m    #print(bool(valid.match(passport)))\u001b[0m\n\u001b[1;37m                                       ^\u001b[0m\n\u001b[1;31mSyntaxError\u001b[0m\u001b[1;31m:\u001b[0m unexpected EOF while parsing\n"
     ]
    }
   ],
   "source": [
    "for passport in passports:\n",
    "    #print(bool(valid.match(passport)))"
   ]
  },
  {
   "cell_type": "code",
   "execution_count": 23,
   "metadata": {},
   "outputs": [],
   "source": [
    "from string import printable\n",
    "from typing import Dict, List, NamedTuple, Set\n",
    "import string\n",
    "\n",
    "''' Expected fields:\n",
    "byr (Birth Year)\n",
    "iyr (Issue Year)\n",
    "eyr (Expiration Year)\n",
    "hgt (Height)\n",
    "hcl (Hair Color)\n",
    "ecl (Eye Color)\n",
    "pid (Passport ID)\n",
    "cid (Country ID)\n",
    "'''\n",
    "\n",
    "with open('input.txt') as f:\n",
    "    readout = f.read()\n",
    "\n",
    "FIELDS = {'byr', 'iyr','eyr', 'hgt', 'hcl', 'ecl', 'pid','cid'}\n",
    "\n",
    "def make_passports(readout: str) -> List[Dict[str, str]]:\n",
    "    elf_ids = readout.split('\\n\\n')\n",
    "\n",
    "    passports = []\n",
    "\n",
    "    for line in elf_ids:\n",
    "        passport = {}\n",
    "        for ids in line.split():\n",
    "            k, v = ids.split(':')\n",
    "            passport[k] = v\n",
    "        passports.append(passport)\n",
    "\n",
    "    return passports\n",
    "\n",
    "def is_valid(fields: Set[str], passport: Dict[str, str], unnecessary_field: str) -> bool:\n",
    "    valid = fields\n",
    "    if unnecessary_field:\n",
    "        valid -= {unnecessary_field}\n",
    "    return valid == {key for key in passport.keys() if key != unnecessary_field}"
   ]
  },
  {
   "cell_type": "code",
   "execution_count": 25,
   "metadata": {},
   "outputs": [
    {
     "name": "stdout",
     "output_type": "stream",
     "text": [
      "237\n"
     ]
    }
   ],
   "source": [
    "#assert sum(is_valid(FIELDS, passport, 'cid') for passport in make_passports(example)) == 2\n",
    "\n",
    "print(sum(is_valid(FIELDS, passport, 'cid') for passport in make_passports(readout)))"
   ]
  },
  {
   "cell_type": "code",
   "execution_count": 27,
   "metadata": {},
   "outputs": [
    {
     "data": {
      "text/plain": [
       "290"
      ]
     },
     "execution_count": 27,
     "metadata": {},
     "output_type": "execute_result"
    }
   ],
   "source": [
    "len(make_passports(readout))"
   ]
  },
  {
   "cell_type": "code",
   "execution_count": 31,
   "metadata": {},
   "outputs": [
    {
     "ename": "SyntaxError",
     "evalue": "unexpected EOF while parsing (<ipython-input-31-785e9bf9a449>, line 4)",
     "output_type": "error",
     "traceback": [
      "\u001b[1;36m  File \u001b[1;32m\"<ipython-input-31-785e9bf9a449>\"\u001b[1;36m, line \u001b[1;32m4\u001b[0m\n\u001b[1;33m    #print(is_valid(FIELDS, passport, 'cid'))\u001b[0m\n\u001b[1;37m                                             ^\u001b[0m\n\u001b[1;31mSyntaxError\u001b[0m\u001b[1;31m:\u001b[0m unexpected EOF while parsing\n"
     ]
    }
   ],
   "source": [
    "roberts = make_passports(readout)\n",
    "\n",
    "for passport in roberts:\n",
    "    #print(is_valid(FIELDS, passport, 'cid'))"
   ]
  },
  {
   "cell_type": "code",
   "execution_count": 32,
   "metadata": {},
   "outputs": [
    {
     "data": {
      "text/plain": [
       "{'ecl': 'hzl',\n",
       " 'byr': '1926',\n",
       " 'iyr': '2010',\n",
       " 'pid': '221225902',\n",
       " 'cid': '61',\n",
       " 'hgt': '186cm',\n",
       " 'eyr': '2021',\n",
       " 'hcl': '#7d3b0c'}"
      ]
     },
     "execution_count": 32,
     "metadata": {},
     "output_type": "execute_result"
    }
   ],
   "source": [
    "roberts[0]"
   ]
  },
  {
   "cell_type": "code",
   "execution_count": 33,
   "metadata": {},
   "outputs": [
    {
     "data": {
      "text/plain": [
       "'ecl:hzl byr:1926 iyr:2010\\npid:221225902 cid:61 hgt:186cm eyr:2021 hcl:#7d3b0c'"
      ]
     },
     "execution_count": 33,
     "metadata": {},
     "output_type": "execute_result"
    }
   ],
   "source": [
    "passports[0]"
   ]
  },
  {
   "cell_type": "code",
   "execution_count": 37,
   "metadata": {},
   "outputs": [
    {
     "data": {
      "text/plain": [
       "False"
      ]
     },
     "execution_count": 37,
     "metadata": {},
     "output_type": "execute_result"
    }
   ],
   "source": [
    "bool(valid.match(passports[0]))"
   ]
  },
  {
   "cell_type": "code",
   "execution_count": 96,
   "metadata": {},
   "outputs": [
    {
     "data": {
      "text/plain": [
       "'ecl:hzl byr:1926 iyr:2010pid:221225902 cid:61 hgt:186cm eyr:2021 hcl:#7d3b0c'"
      ]
     },
     "execution_count": 96,
     "metadata": {},
     "output_type": "execute_result"
    }
   ],
   "source": [
    "test.replace('\\n', '')"
   ]
  },
  {
   "cell_type": "code",
   "execution_count": null,
   "metadata": {},
   "outputs": [],
   "source": [
    "test.replace"
   ]
  },
  {
   "cell_type": "code",
   "execution_count": 82,
   "metadata": {},
   "outputs": [
    {
     "name": "stdout",
     "output_type": "stream",
     "text": [
      "iyr:2019 hcl:#a97842 hgt:182cm eyr:2024 ecl:gry pid:917294399 byr:1974\n"
     ]
    }
   ],
   "source": [
    "for passport in passports:\n",
    "    pattern = '^(?=.*byr)(?=.*iyr)(?=.*eyr)(?=.*hgt)(?=.*hcl)(?=.*ecl)(?=.*pid).*$'\n",
    "    #pattern = '^(?=.*byr)(?=.*iyr)(?=.*ecl)'\n",
    "    valid = re.compile(pattern)\n",
    "    if bool(valid.match(passport)):\n",
    "        print(passport)\n",
    "        break"
   ]
  },
  {
   "cell_type": "code",
   "execution_count": null,
   "metadata": {},
   "outputs": [],
   "source": []
  }
 ],
 "metadata": {
  "kernelspec": {
   "display_name": "Python 3",
   "language": "python",
   "name": "python3"
  },
  "language_info": {
   "codemirror_mode": {
    "name": "ipython",
    "version": 3
   },
   "file_extension": ".py",
   "mimetype": "text/x-python",
   "name": "python",
   "nbconvert_exporter": "python",
   "pygments_lexer": "ipython3",
   "version": "3.8.5"
  }
 },
 "nbformat": 4,
 "nbformat_minor": 4
}
