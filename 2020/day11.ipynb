{
 "cells": [
  {
   "cell_type": "code",
   "execution_count": 1,
   "id": "c1dacb87-37ad-4ee6-ba51-770622280354",
   "metadata": {},
   "outputs": [
    {
     "name": "stdout",
     "output_type": "stream",
     "text": [
      "37\n"
     ]
    }
   ],
   "source": [
    "import numpy as np\n",
    "from scipy.signal import convolve2d\n",
    "\n",
    "with open(\"inputs/day11_test.txt\") as f:\n",
    "    waiting_area = tuple(line.strip() for line in f)\n",
    "\n",
    "is_seat = np.array(\n",
    "    [[1 if space != \".\" else 0 for space in row] for row in waiting_area]\n",
    ")\n",
    "\n",
    "seats_occupied = np.array(\n",
    "    [[1 if space == \"#\" else 0 for space in row] for row in waiting_area]\n",
    ")\n",
    "\n",
    "\n",
    "c = np.ones(shape=(3, 3), dtype=np.int8)\n",
    "c[1, 1] = 0\n",
    "\n",
    "while True:\n",
    "    previous_state = np.copy(seats_occupied)\n",
    "    adjacent_seats_occupied = np.uint8(convolve2d(seats_occupied, c, mode=\"same\"))\n",
    "    seats_becoming_occupied = is_seat & (adjacent_seats_occupied == 0)\n",
    "    seats_becoming_empty = is_seat & (adjacent_seats_occupied >= 4)\n",
    "    seats_occupied = np.where(seats_becoming_occupied, 1, seats_occupied)\n",
    "    seats_occupied = np.where(seats_becoming_empty, 0, seats_occupied)\n",
    "    if np.all(seats_occupied == previous_state):\n",
    "        break\n",
    "        \n",
    "\n",
    "print(np.sum(seats_occupied))"
   ]
  },
  {
   "cell_type": "code",
   "execution_count": 2,
   "id": "27a2ab85-fbd0-4fea-a05e-8bc7e68c879b",
   "metadata": {},
   "outputs": [
    {
     "data": {
      "text/plain": [
       "array([[1, 1, 1],\n",
       "       [1, 0, 1],\n",
       "       [1, 1, 1]], dtype=int8)"
      ]
     },
     "execution_count": 2,
     "metadata": {},
     "output_type": "execute_result"
    }
   ],
   "source": [
    "c"
   ]
  },
  {
   "cell_type": "code",
   "execution_count": 38,
   "id": "8c24ed26-9888-4b10-9005-d7c4be4d190d",
   "metadata": {},
   "outputs": [
    {
     "data": {
      "text/plain": [
       "array([[1, 0, 1, 0, 0, 0, 1, 0, 1, 1],\n",
       "       [1, 0, 0, 0, 1, 0, 0, 0, 0, 1],\n",
       "       [0, 0, 1, 0, 0, 0, 0, 1, 0, 0],\n",
       "       [1, 0, 1, 1, 0, 1, 1, 0, 0, 1],\n",
       "       [1, 0, 1, 0, 0, 0, 0, 0, 0, 0],\n",
       "       [1, 0, 1, 0, 1, 0, 1, 0, 1, 1],\n",
       "       [0, 0, 0, 0, 0, 0, 0, 0, 0, 0],\n",
       "       [1, 0, 1, 0, 1, 1, 0, 1, 0, 1],\n",
       "       [1, 0, 0, 0, 0, 0, 0, 0, 0, 0],\n",
       "       [1, 0, 1, 0, 1, 0, 1, 0, 1, 1]])"
      ]
     },
     "execution_count": 38,
     "metadata": {},
     "output_type": "execute_result"
    }
   ],
   "source": [
    "seats_occupied = np.where(seats_becoming_occupied, 1, seats_occupied)\n",
    "seats_occupied = np.where(seats_becoming_empty, 0, seats_occupied)\n",
    "seats_occupied"
   ]
  },
  {
   "cell_type": "code",
   "execution_count": 39,
   "id": "0e323606-6abb-4be0-a252-c1daa485297a",
   "metadata": {},
   "outputs": [
    {
     "data": {
      "text/plain": [
       "array([[0, 1, 1, 1, 1, 1, 1, 1, 1, 1],\n",
       "       [0, 1, 1, 1, 1, 1, 1, 1, 1, 1],\n",
       "       [0, 0, 0, 1, 1, 1, 1, 1, 1, 1],\n",
       "       [0, 1, 1, 1, 1, 1, 1, 1, 1, 1],\n",
       "       [0, 1, 1, 1, 1, 1, 1, 1, 1, 1],\n",
       "       [0, 1, 1, 1, 1, 1, 1, 1, 1, 1],\n",
       "       [0, 0, 0, 0, 0, 0, 0, 0, 0, 0],\n",
       "       [0, 1, 1, 1, 1, 1, 1, 1, 1, 1],\n",
       "       [0, 1, 1, 1, 1, 1, 1, 1, 1, 1],\n",
       "       [0, 1, 1, 1, 1, 1, 1, 1, 1, 1]])"
      ]
     },
     "execution_count": 39,
     "metadata": {},
     "output_type": "execute_result"
    }
   ],
   "source": [
    "left = np.cumsum(seats_occupied, axis=1) - seats_occupied\n",
    "left = np.where(left > 0, 1, 0)\n",
    "left"
   ]
  },
  {
   "cell_type": "code",
   "execution_count": 40,
   "id": "9057223d-1a4e-405a-9446-e7594a421d78",
   "metadata": {},
   "outputs": [
    {
     "data": {
      "text/plain": [
       "array([[1, 1, 1, 1, 1, 1, 1, 1, 1, 0],\n",
       "       [1, 1, 1, 1, 1, 1, 1, 1, 1, 0],\n",
       "       [1, 1, 1, 1, 1, 1, 1, 0, 0, 0],\n",
       "       [1, 1, 1, 1, 1, 1, 1, 1, 1, 0],\n",
       "       [1, 1, 0, 0, 0, 0, 0, 0, 0, 0],\n",
       "       [1, 1, 1, 1, 1, 1, 1, 1, 1, 0],\n",
       "       [0, 0, 0, 0, 0, 0, 0, 0, 0, 0],\n",
       "       [1, 1, 1, 1, 1, 1, 1, 1, 1, 0],\n",
       "       [0, 0, 0, 0, 0, 0, 0, 0, 0, 0],\n",
       "       [1, 1, 1, 1, 1, 1, 1, 1, 1, 0]])"
      ]
     },
     "execution_count": 40,
     "metadata": {},
     "output_type": "execute_result"
    }
   ],
   "source": [
    "right = np.cumsum(seats_occupied[:, ::-1], axis=1)[:, ::-1] - seats_occupied\n",
    "right = np.where(right > 0, 1, 0)\n",
    "right"
   ]
  },
  {
   "cell_type": "code",
   "execution_count": 41,
   "id": "99652bdb-41f1-41e1-b205-928dc3180e43",
   "metadata": {},
   "outputs": [
    {
     "data": {
      "text/plain": [
       "array([[0, 0, 0, 0, 0, 0, 0, 0, 0, 0],\n",
       "       [1, 0, 1, 0, 0, 0, 1, 0, 1, 1],\n",
       "       [1, 0, 1, 0, 1, 0, 1, 0, 1, 1],\n",
       "       [1, 0, 1, 0, 1, 0, 1, 1, 1, 1],\n",
       "       [1, 0, 1, 1, 1, 1, 1, 1, 1, 1],\n",
       "       [1, 0, 1, 1, 1, 1, 1, 1, 1, 1],\n",
       "       [1, 0, 1, 1, 1, 1, 1, 1, 1, 1],\n",
       "       [1, 0, 1, 1, 1, 1, 1, 1, 1, 1],\n",
       "       [1, 0, 1, 1, 1, 1, 1, 1, 1, 1],\n",
       "       [1, 0, 1, 1, 1, 1, 1, 1, 1, 1]])"
      ]
     },
     "execution_count": 41,
     "metadata": {},
     "output_type": "execute_result"
    }
   ],
   "source": [
    "up = np.cumsum(seats_occupied, axis=0) - seats_occupied\n",
    "up = np.where(up > 0, 1, 0)\n",
    "up"
   ]
  },
  {
   "cell_type": "code",
   "execution_count": 42,
   "id": "d15a8f8a-a4b1-4373-9872-bc59d1393bb3",
   "metadata": {},
   "outputs": [
    {
     "data": {
      "text/plain": [
       "array([[1, 0, 1, 1, 1, 1, 1, 1, 1, 1],\n",
       "       [1, 0, 1, 1, 1, 1, 1, 1, 1, 1],\n",
       "       [1, 0, 1, 1, 1, 1, 1, 1, 1, 1],\n",
       "       [1, 0, 1, 0, 1, 1, 1, 1, 1, 1],\n",
       "       [1, 0, 1, 0, 1, 1, 1, 1, 1, 1],\n",
       "       [1, 0, 1, 0, 1, 1, 1, 1, 1, 1],\n",
       "       [1, 0, 1, 0, 1, 1, 1, 1, 1, 1],\n",
       "       [1, 0, 1, 0, 1, 0, 1, 0, 1, 1],\n",
       "       [1, 0, 1, 0, 1, 0, 1, 0, 1, 1],\n",
       "       [0, 0, 0, 0, 0, 0, 0, 0, 0, 0]])"
      ]
     },
     "execution_count": 42,
     "metadata": {},
     "output_type": "execute_result"
    }
   ],
   "source": [
    "down = np.cumsum(seats_occupied[::-1, :], axis=0)[::-1, :] - seats_occupied\n",
    "down = np.where(down > 0, 1, 0)\n",
    "down"
   ]
  },
  {
   "cell_type": "code",
   "execution_count": 43,
   "id": "5a6ce8ab-0b2a-4c32-ab94-2e6981166817",
   "metadata": {},
   "outputs": [
    {
     "data": {
      "text/plain": [
       "array([[1, 0, 1, 0, 0, 0, 1, 0, 1, 1],\n",
       "       [1, 0, 0, 0, 1, 0, 0, 0, 0, 1],\n",
       "       [0, 0, 1, 0, 0, 0, 0, 1, 0, 0],\n",
       "       [1, 0, 1, 1, 0, 1, 1, 0, 0, 1],\n",
       "       [1, 0, 1, 0, 0, 0, 0, 0, 0, 0],\n",
       "       [1, 0, 1, 0, 1, 0, 1, 0, 1, 1],\n",
       "       [0, 0, 0, 0, 0, 0, 0, 0, 0, 0],\n",
       "       [1, 0, 1, 0, 1, 1, 0, 1, 0, 1],\n",
       "       [1, 0, 0, 0, 0, 0, 0, 0, 0, 0],\n",
       "       [1, 0, 1, 0, 1, 0, 1, 0, 1, 1]])"
      ]
     },
     "execution_count": 43,
     "metadata": {},
     "output_type": "execute_result"
    }
   ],
   "source": [
    "seats_occupied"
   ]
  },
  {
   "cell_type": "code",
   "execution_count": 44,
   "id": "3a0ad0c3-8ae5-40b8-82e3-15145b5aafd7",
   "metadata": {},
   "outputs": [],
   "source": [
    "num_rows = len(seats_occupied)\n",
    "num_cols = len(seats_occupied[0])"
   ]
  },
  {
   "cell_type": "code",
   "execution_count": 45,
   "id": "b1dccb7a-b55d-40ab-bccf-5e38ff742aa0",
   "metadata": {},
   "outputs": [
    {
     "data": {
      "text/plain": [
       "array([[1, 0, 1, 1, 0, 1, 1, 0, 1, 1],\n",
       "       [1, 1, 1, 1, 1, 1, 1, 0, 1, 1],\n",
       "       [1, 0, 1, 0, 1, 0, 0, 1, 0, 0],\n",
       "       [1, 1, 1, 1, 0, 1, 1, 0, 1, 1],\n",
       "       [1, 0, 1, 1, 0, 1, 1, 0, 1, 1],\n",
       "       [1, 0, 1, 1, 1, 1, 1, 0, 1, 1],\n",
       "       [0, 0, 1, 0, 1, 0, 0, 0, 0, 0],\n",
       "       [1, 1, 1, 1, 1, 1, 1, 1, 1, 1],\n",
       "       [1, 0, 1, 1, 1, 1, 1, 1, 0, 1],\n",
       "       [1, 0, 1, 1, 1, 1, 1, 0, 1, 1]])"
      ]
     },
     "execution_count": 45,
     "metadata": {},
     "output_type": "execute_result"
    }
   ],
   "source": [
    "is_seat"
   ]
  },
  {
   "cell_type": "code",
   "execution_count": 46,
   "id": "f02dab44-678d-4e72-b171-a7dab974faff",
   "metadata": {},
   "outputs": [
    {
     "data": {
      "text/plain": [
       "{}"
      ]
     },
     "execution_count": 46,
     "metadata": {},
     "output_type": "execute_result"
    }
   ],
   "source": [
    "x = 0\n",
    "y = 0\n",
    "\n",
    "down_right = dict()\n",
    "coord = (x, y)\n",
    "down_right"
   ]
  },
  {
   "cell_type": "code",
   "execution_count": 47,
   "id": "c97feafa-c488-4617-9f95-934c3eebb041",
   "metadata": {},
   "outputs": [],
   "source": [
    "seat_coords = tuple((row, col) for row in range(num_rows) for col in range(num_cols) if is_seat[row, col])\n",
    "down_right = {coord:[] for coord in seat_coords}\n",
    "\n",
    "for coord in seat_coords:\n",
    "    x, y = coord\n",
    "    x += 1\n",
    "    y += 1\n",
    "    while x < num_rows and y < num_cols:\n",
    "        if is_seat[x, y]:\n",
    "            down_right[coord].append((x, y))\n",
    "        x += 1\n",
    "        y += 1"
   ]
  },
  {
   "cell_type": "code",
   "execution_count": 48,
   "id": "a99f4c0c-bdd7-45f5-8fb4-47a6e418c335",
   "metadata": {},
   "outputs": [],
   "source": [
    "down_right = {k:v for k, v in down_right.items() if v}"
   ]
  },
  {
   "cell_type": "code",
   "execution_count": 49,
   "id": "c3b10962-a66d-4989-a4e1-362b827ea039",
   "metadata": {},
   "outputs": [],
   "source": [
    "up_left = {coord:[] for coord in seat_coords}\n",
    "\n",
    "for coord in seat_coords:\n",
    "    x, y = coord\n",
    "    x -= 1\n",
    "    y -= 1\n",
    "    while (0 <= x < num_rows) and (0 <= y < num_cols):\n",
    "        if is_seat[x, y]:\n",
    "            up_left[coord].append((x, y))\n",
    "        x -= 1\n",
    "        y -= 1\n",
    "        \n",
    "up_left = {k:v for k, v in up_left.items() if v}"
   ]
  },
  {
   "cell_type": "code",
   "execution_count": 50,
   "id": "45dbac79-82fa-44b6-bcec-aca71f618065",
   "metadata": {},
   "outputs": [
    {
     "data": {
      "text/plain": [
       "array([[1, 0, 1, 1, 0, 1, 1, 0, 1, 1],\n",
       "       [1, 1, 1, 1, 1, 1, 1, 0, 1, 1],\n",
       "       [1, 0, 1, 0, 1, 0, 0, 1, 0, 0],\n",
       "       [1, 1, 1, 1, 0, 1, 1, 0, 1, 1],\n",
       "       [1, 0, 1, 1, 0, 1, 1, 0, 1, 1],\n",
       "       [1, 0, 1, 1, 1, 1, 1, 0, 1, 1],\n",
       "       [0, 0, 1, 0, 1, 0, 0, 0, 0, 0],\n",
       "       [1, 1, 1, 1, 1, 1, 1, 1, 1, 1],\n",
       "       [1, 0, 1, 1, 1, 1, 1, 1, 0, 1],\n",
       "       [1, 0, 1, 1, 1, 1, 1, 0, 1, 1]])"
      ]
     },
     "execution_count": 50,
     "metadata": {},
     "output_type": "execute_result"
    }
   ],
   "source": [
    "is_seat"
   ]
  },
  {
   "cell_type": "code",
   "execution_count": 51,
   "id": "4b122ddd-f6a0-4aca-8888-de19a36baf0f",
   "metadata": {},
   "outputs": [],
   "source": [
    "up_right = {coord:[] for coord in seat_coords}\n",
    "\n",
    "for coord in seat_coords:\n",
    "    x, y = coord\n",
    "    x -= 1\n",
    "    y += 1\n",
    "    while (0 <= x < num_rows) and (0 <= y < num_cols):\n",
    "        if is_seat[x, y]:\n",
    "            up_right[coord].append((x, y))\n",
    "        x -= 1\n",
    "        y += 1\n",
    "        \n",
    "up_right = {k:v for k, v in up_right.items() if v}"
   ]
  },
  {
   "cell_type": "code",
   "execution_count": 52,
   "id": "fb554d82-dee1-46e6-bc8b-ec15e44e4980",
   "metadata": {},
   "outputs": [
    {
     "data": {
      "text/plain": [
       "{(0, 2): [(1, 1), (2, 0)],\n",
       " (0, 3): [(1, 2), (3, 0)],\n",
       " (0, 5): [(1, 4), (3, 2), (5, 0)],\n",
       " (0, 6): [(1, 5), (2, 4), (3, 3), (4, 2)],\n",
       " (0, 8): [(3, 5), (5, 3), (6, 2), (7, 1), (8, 0)],\n",
       " (0, 9): [(1, 8), (2, 7), (3, 6), (4, 5), (5, 4), (7, 2), (9, 0)],\n",
       " (1, 1): [(2, 0)],\n",
       " (1, 2): [(3, 0)],\n",
       " (1, 3): [(2, 2), (3, 1), (4, 0)],\n",
       " (1, 4): [(3, 2), (5, 0)],\n",
       " (1, 5): [(2, 4), (3, 3), (4, 2)],\n",
       " (1, 6): [(4, 3), (5, 2), (7, 0)],\n",
       " (1, 8): [(2, 7), (3, 6), (4, 5), (5, 4), (7, 2), (9, 0)],\n",
       " (1, 9): [(4, 6), (5, 5), (6, 4), (7, 3), (8, 2)],\n",
       " (2, 2): [(3, 1), (4, 0)],\n",
       " (2, 4): [(3, 3), (4, 2)],\n",
       " (2, 7): [(3, 6), (4, 5), (5, 4), (7, 2), (9, 0)],\n",
       " (3, 1): [(4, 0)],\n",
       " (3, 2): [(5, 0)],\n",
       " (3, 3): [(4, 2)],\n",
       " (3, 5): [(5, 3), (6, 2), (7, 1), (8, 0)],\n",
       " (3, 6): [(4, 5), (5, 4), (7, 2), (9, 0)],\n",
       " (3, 8): [(5, 6), (7, 4), (8, 3), (9, 2)],\n",
       " (3, 9): [(4, 8), (7, 5), (8, 4), (9, 3)],\n",
       " (4, 3): [(5, 2), (7, 0)],\n",
       " (4, 5): [(5, 4), (7, 2), (9, 0)],\n",
       " (4, 6): [(5, 5), (6, 4), (7, 3), (8, 2)],\n",
       " (4, 8): [(7, 5), (8, 4), (9, 3)],\n",
       " (4, 9): [(5, 8), (7, 6), (8, 5), (9, 4)],\n",
       " (5, 2): [(7, 0)],\n",
       " (5, 3): [(6, 2), (7, 1), (8, 0)],\n",
       " (5, 4): [(7, 2), (9, 0)],\n",
       " (5, 5): [(6, 4), (7, 3), (8, 2)],\n",
       " (5, 6): [(7, 4), (8, 3), (9, 2)],\n",
       " (5, 8): [(7, 6), (8, 5), (9, 4)],\n",
       " (5, 9): [(7, 7), (8, 6), (9, 5)],\n",
       " (6, 2): [(7, 1), (8, 0)],\n",
       " (6, 4): [(7, 3), (8, 2)],\n",
       " (7, 1): [(8, 0)],\n",
       " (7, 2): [(9, 0)],\n",
       " (7, 3): [(8, 2)],\n",
       " (7, 4): [(8, 3), (9, 2)],\n",
       " (7, 5): [(8, 4), (9, 3)],\n",
       " (7, 6): [(8, 5), (9, 4)],\n",
       " (7, 7): [(8, 6), (9, 5)],\n",
       " (7, 8): [(8, 7), (9, 6)],\n",
       " (8, 3): [(9, 2)],\n",
       " (8, 4): [(9, 3)],\n",
       " (8, 5): [(9, 4)],\n",
       " (8, 6): [(9, 5)],\n",
       " (8, 7): [(9, 6)],\n",
       " (8, 9): [(9, 8)]}"
      ]
     },
     "execution_count": 52,
     "metadata": {},
     "output_type": "execute_result"
    }
   ],
   "source": [
    "down_left = {coord:[] for coord in seat_coords}\n",
    "\n",
    "for coord in seat_coords:\n",
    "    x, y = coord\n",
    "    x += 1\n",
    "    y -= 1\n",
    "    while (0 <= x < num_rows) and (0 <= y < num_cols):\n",
    "        if is_seat[x, y]:\n",
    "            down_left[coord].append((x, y))\n",
    "        x += 1\n",
    "        y -= 1\n",
    "        \n",
    "down_left = {k:v for k, v in down_left.items() if v}\n",
    "down_left"
   ]
  },
  {
   "cell_type": "code",
   "execution_count": 53,
   "id": "d88a4af2-c1f0-44fe-8d79-00f849ab0525",
   "metadata": {},
   "outputs": [
    {
     "data": {
      "text/plain": [
       "array([[1, 0, 1, 0, 0, 0, 1, 0, 1, 1],\n",
       "       [1, 0, 0, 0, 1, 0, 0, 0, 0, 1],\n",
       "       [0, 0, 1, 0, 0, 0, 0, 1, 0, 0],\n",
       "       [1, 0, 1, 1, 0, 1, 1, 0, 0, 1],\n",
       "       [1, 0, 1, 0, 0, 0, 0, 0, 0, 0],\n",
       "       [1, 0, 1, 0, 1, 0, 1, 0, 1, 1],\n",
       "       [0, 0, 0, 0, 0, 0, 0, 0, 0, 0],\n",
       "       [1, 0, 1, 0, 1, 1, 0, 1, 0, 1],\n",
       "       [1, 0, 0, 0, 0, 0, 0, 0, 0, 0],\n",
       "       [1, 0, 1, 0, 1, 0, 1, 0, 1, 1]])"
      ]
     },
     "execution_count": 53,
     "metadata": {},
     "output_type": "execute_result"
    }
   ],
   "source": [
    "seats_occupied"
   ]
  },
  {
   "cell_type": "code",
   "execution_count": 54,
   "id": "ada92722-5ad3-4ba8-a1b1-c69ec7f42b55",
   "metadata": {},
   "outputs": [],
   "source": [
    "directions = (up_left, up_right, down_left, down_right)\n",
    "coord = (2, 2)\n",
    "\n",
    "for direction in directions:\n",
    "    if coord in direction:\n",
    "        coords_to_check = direction[coord]\n",
    "        any(seats_occupied[coords2] for coords2 in coords_to_check)"
   ]
  },
  {
   "cell_type": "code",
   "execution_count": 55,
   "id": "80f63d52-4f6f-4860-8a32-3cd0dd6179ff",
   "metadata": {},
   "outputs": [
    {
     "data": {
      "text/plain": [
       "{(1, 1): [(0, 2)],\n",
       " (1, 2): [(0, 3)],\n",
       " (1, 4): [(0, 5)],\n",
       " (1, 5): [(0, 6)],\n",
       " (1, 8): [(0, 9)],\n",
       " (2, 0): [(1, 1), (0, 2)],\n",
       " (2, 2): [(1, 3)],\n",
       " (2, 4): [(1, 5), (0, 6)],\n",
       " (2, 7): [(1, 8), (0, 9)],\n",
       " (3, 0): [(1, 2), (0, 3)],\n",
       " (3, 1): [(2, 2), (1, 3)],\n",
       " (3, 2): [(1, 4), (0, 5)],\n",
       " (3, 3): [(2, 4), (1, 5), (0, 6)],\n",
       " (3, 5): [(0, 8)],\n",
       " (3, 6): [(2, 7), (1, 8), (0, 9)],\n",
       " (4, 0): [(3, 1), (2, 2), (1, 3)],\n",
       " (4, 2): [(3, 3), (2, 4), (1, 5), (0, 6)],\n",
       " (4, 3): [(1, 6)],\n",
       " (4, 5): [(3, 6), (2, 7), (1, 8), (0, 9)],\n",
       " (4, 6): [(1, 9)],\n",
       " (4, 8): [(3, 9)],\n",
       " (5, 0): [(3, 2), (1, 4), (0, 5)],\n",
       " (5, 2): [(4, 3), (1, 6)],\n",
       " (5, 3): [(3, 5), (0, 8)],\n",
       " (5, 4): [(4, 5), (3, 6), (2, 7), (1, 8), (0, 9)],\n",
       " (5, 5): [(4, 6), (1, 9)],\n",
       " (5, 6): [(3, 8)],\n",
       " (5, 8): [(4, 9)],\n",
       " (6, 2): [(5, 3), (3, 5), (0, 8)],\n",
       " (6, 4): [(5, 5), (4, 6), (1, 9)],\n",
       " (7, 0): [(5, 2), (4, 3), (1, 6)],\n",
       " (7, 1): [(6, 2), (5, 3), (3, 5), (0, 8)],\n",
       " (7, 2): [(5, 4), (4, 5), (3, 6), (2, 7), (1, 8), (0, 9)],\n",
       " (7, 3): [(6, 4), (5, 5), (4, 6), (1, 9)],\n",
       " (7, 4): [(5, 6), (3, 8)],\n",
       " (7, 5): [(4, 8), (3, 9)],\n",
       " (7, 6): [(5, 8), (4, 9)],\n",
       " (7, 7): [(5, 9)],\n",
       " (8, 0): [(7, 1), (6, 2), (5, 3), (3, 5), (0, 8)],\n",
       " (8, 2): [(7, 3), (6, 4), (5, 5), (4, 6), (1, 9)],\n",
       " (8, 3): [(7, 4), (5, 6), (3, 8)],\n",
       " (8, 4): [(7, 5), (4, 8), (3, 9)],\n",
       " (8, 5): [(7, 6), (5, 8), (4, 9)],\n",
       " (8, 6): [(7, 7), (5, 9)],\n",
       " (8, 7): [(7, 8)],\n",
       " (9, 0): [(7, 2), (5, 4), (4, 5), (3, 6), (2, 7), (1, 8), (0, 9)],\n",
       " (9, 2): [(8, 3), (7, 4), (5, 6), (3, 8)],\n",
       " (9, 3): [(8, 4), (7, 5), (4, 8), (3, 9)],\n",
       " (9, 4): [(8, 5), (7, 6), (5, 8), (4, 9)],\n",
       " (9, 5): [(8, 6), (7, 7), (5, 9)],\n",
       " (9, 6): [(8, 7), (7, 8)],\n",
       " (9, 8): [(8, 9)]}"
      ]
     },
     "execution_count": 55,
     "metadata": {},
     "output_type": "execute_result"
    }
   ],
   "source": [
    "up_right"
   ]
  },
  {
   "cell_type": "code",
   "execution_count": 56,
   "id": "763ba65c-b9ad-4fd0-8b36-5c35f9510271",
   "metadata": {},
   "outputs": [
    {
     "data": {
      "text/plain": [
       "array([[0, 0, 0, 0, 0, 0, 0, 0, 0, 0],\n",
       "       [0, 0, 0, 0, 0, 0, 0, 0, 0, 0],\n",
       "       [0, 0, 0, 0, 0, 0, 0, 0, 0, 0],\n",
       "       [0, 0, 0, 0, 0, 0, 0, 0, 0, 0],\n",
       "       [0, 0, 0, 0, 0, 0, 0, 0, 0, 0],\n",
       "       [0, 0, 0, 0, 0, 0, 0, 0, 0, 0],\n",
       "       [0, 0, 0, 0, 0, 0, 0, 0, 0, 0],\n",
       "       [0, 0, 0, 0, 0, 0, 0, 0, 0, 0],\n",
       "       [0, 0, 0, 0, 0, 0, 0, 0, 0, 0],\n",
       "       [0, 0, 0, 0, 0, 0, 0, 0, 0, 0]])"
      ]
     },
     "execution_count": 56,
     "metadata": {},
     "output_type": "execute_result"
    }
   ],
   "source": [
    "num_diagonal_neighbors = np.where(is_seat, 0, 0)\n",
    "num_diagonal_neighbors"
   ]
  },
  {
   "cell_type": "code",
   "execution_count": 57,
   "id": "96c8423e-c4ae-44fd-a0d3-5d47d44f0610",
   "metadata": {},
   "outputs": [],
   "source": [
    "for direction in directions:\n",
    "    for seat, coords_to_check in direction.items():\n",
    "        num_diagonal_neighbors[seat] += any(seats_occupied[coord] for coord in coords_to_check)"
   ]
  },
  {
   "cell_type": "code",
   "execution_count": 58,
   "id": "96f33eb6-c836-412d-a61d-0a3977ecdb6c",
   "metadata": {},
   "outputs": [
    {
     "data": {
      "text/plain": [
       "array([[1, 0, 1, 2, 0, 2, 2, 0, 2, 1],\n",
       "       [1, 3, 2, 3, 2, 3, 2, 0, 2, 1],\n",
       "       [2, 0, 3, 0, 4, 0, 0, 2, 0, 0],\n",
       "       [1, 3, 4, 4, 0, 4, 4, 0, 2, 2],\n",
       "       [1, 0, 2, 3, 0, 3, 3, 0, 3, 2],\n",
       "       [2, 0, 3, 4, 4, 3, 1, 0, 2, 1],\n",
       "       [0, 0, 3, 0, 3, 0, 0, 0, 0, 0],\n",
       "       [2, 2, 4, 2, 4, 2, 4, 3, 2, 1],\n",
       "       [1, 0, 1, 4, 2, 4, 2, 3, 0, 2],\n",
       "       [1, 0, 2, 1, 2, 2, 1, 0, 1, 1]])"
      ]
     },
     "execution_count": 58,
     "metadata": {},
     "output_type": "execute_result"
    }
   ],
   "source": [
    "num_diagonal_neighbors"
   ]
  },
  {
   "cell_type": "code",
   "execution_count": 59,
   "id": "f8417707-95b2-4b61-a621-da33abd0654b",
   "metadata": {},
   "outputs": [],
   "source": [
    "with open(\"inputs/day11.txt\") as f:\n",
    "    waiting_area = tuple(line.strip() for line in f)\n",
    "\n",
    "is_seat = np.array(\n",
    "    [[1 if space != \".\" else 0 for space in row] for row in waiting_area]\n",
    ")\n",
    "\n",
    "seats_occupied = np.array(\n",
    "    [[1 if space == \"#\" else 0 for space in row] for row in waiting_area]\n",
    ")\n"
   ]
  },
  {
   "cell_type": "code",
   "execution_count": 60,
   "id": "a309e827-f8b6-43e4-b681-9677abbf347d",
   "metadata": {},
   "outputs": [],
   "source": [
    "while True:\n",
    "    previous_state = np.copy(seats_occupied)\n",
    "\n",
    "    left = np.cumsum(seats_occupied, axis=1) - seats_occupied\n",
    "    left = np.where(left > 0, 1, 0)\n",
    "    right = np.cumsum(seats_occupied[:, ::-1], axis=1)[:, ::-1] - seats_occupied\n",
    "    right = np.where(right > 0, 1, 0)\n",
    "    up = np.cumsum(seats_occupied, axis=0) - seats_occupied\n",
    "    up = np.where(up > 0, 1, 0)\n",
    "    down = np.cumsum(seats_occupied[::-1, :], axis=0)[::-1, :] - seats_occupied\n",
    "    down = np.where(down > 0, 1, 0)\n",
    "\n",
    "    num_diagonal_neighbors = np.where(is_seat, 0, 0)\n",
    "    for direction in directions:\n",
    "        for seat, coords_to_check in direction.items():\n",
    "            num_diagonal_neighbors[seat] += any(seats_occupied[coord] for coord in coords_to_check)\n",
    "\n",
    "    total_neighbors = left + right + up + down + num_diagonal_neighbors\n",
    "    seats_becoming_occupied = is_seat & (total_neighbors == 0)\n",
    "    seats_becoming_empty = is_seat & (total_neighbors >= 5)\n",
    "    seats_occupied = np.where(seats_becoming_occupied, 1, seats_occupied)\n",
    "    seats_occupied = np.where(seats_becoming_empty, 0, seats_occupied)\n",
    "\n",
    "    if np.all(seats_occupied == previous_state):\n",
    "        break\n",
    "        \n"
   ]
  },
  {
   "cell_type": "code",
   "execution_count": 61,
   "id": "be2a8a79-b43b-446b-befa-97c23195753b",
   "metadata": {},
   "outputs": [
    {
     "data": {
      "text/plain": [
       "8170"
      ]
     },
     "execution_count": 61,
     "metadata": {},
     "output_type": "execute_result"
    }
   ],
   "source": [
    "np.sum(seats_occupied)"
   ]
  },
  {
   "cell_type": "code",
   "execution_count": null,
   "id": "fbdd14c1-c87c-486e-a56d-ebd6e3b88193",
   "metadata": {},
   "outputs": [],
   "source": []
  }
 ],
 "metadata": {
  "kernelspec": {
   "display_name": "Python 3 (ipykernel)",
   "language": "python",
   "name": "python3"
  },
  "language_info": {
   "codemirror_mode": {
    "name": "ipython",
    "version": 3
   },
   "file_extension": ".py",
   "mimetype": "text/x-python",
   "name": "python",
   "nbconvert_exporter": "python",
   "pygments_lexer": "ipython3",
   "version": "3.9.13"
  }
 },
 "nbformat": 4,
 "nbformat_minor": 5
}
