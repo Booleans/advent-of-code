{
 "cells": [
  {
   "cell_type": "code",
   "execution_count": 2,
   "id": "e77318a0-b3d5-4703-8238-4339870f3b5a",
   "metadata": {},
   "outputs": [],
   "source": [
    "from dataclasses import dataclass, field\n",
    "\n",
    "\n",
    "@dataclass\n",
    "class Elf:\n",
    "    foods: list[int]\n",
    "    calories: int = field(init=False)\n",
    "\n",
    "    def __post_init__(self):\n",
    "        self.calories = sum(self.foods)\n",
    "\n",
    "\n"
   ]
  },
  {
   "cell_type": "code",
   "execution_count": 6,
   "id": "f2dc7734-96ff-4d1e-991b-90fcce18a2eb",
   "metadata": {},
   "outputs": [
    {
     "ename": "ValueError",
     "evalue": "invalid literal for int() with base 10: ''",
     "output_type": "error",
     "traceback": [
      "\u001b[1;31m---------------------------------------------------------------------------\u001b[0m",
      "\u001b[1;31mValueError\u001b[0m                                Traceback (most recent call last)",
      "Cell \u001b[1;32mIn [6], line 20\u001b[0m\n\u001b[0;32m     14\u001b[0m     \u001b[38;5;28;01mreturn\u001b[39;00m [\n\u001b[0;32m     15\u001b[0m         Elf([\u001b[38;5;28mint\u001b[39m(food) \u001b[38;5;28;01mfor\u001b[39;00m food \u001b[38;5;129;01min\u001b[39;00m line\u001b[38;5;241m.\u001b[39msplit(\u001b[38;5;124m\"\u001b[39m\u001b[38;5;130;01m\\n\u001b[39;00m\u001b[38;5;124m\"\u001b[39m)]) \u001b[38;5;28;01mfor\u001b[39;00m line \u001b[38;5;129;01min\u001b[39;00m f\u001b[38;5;241m.\u001b[39mread()\u001b[38;5;241m.\u001b[39msplit(\u001b[38;5;124m\"\u001b[39m\u001b[38;5;130;01m\\n\u001b[39;00m\u001b[38;5;130;01m\\n\u001b[39;00m\u001b[38;5;124m\"\u001b[39m)\n\u001b[0;32m     16\u001b[0m     ]\n\u001b[0;32m     19\u001b[0m \u001b[38;5;28;01mwith\u001b[39;00m \u001b[38;5;28mopen\u001b[39m(\u001b[38;5;124m\"\u001b[39m\u001b[38;5;124minputs/day01.txt\u001b[39m\u001b[38;5;124m\"\u001b[39m) \u001b[38;5;28;01mas\u001b[39;00m f:\n\u001b[1;32m---> 20\u001b[0m     elves \u001b[38;5;241m=\u001b[39m \u001b[43mparse\u001b[49m\u001b[43m(\u001b[49m\u001b[43mf\u001b[49m\u001b[38;5;241;43m.\u001b[39;49m\u001b[43mread\u001b[49m\u001b[43m(\u001b[49m\u001b[43m)\u001b[49m\u001b[43m)\u001b[49m\n\u001b[0;32m     22\u001b[0m calories_carried \u001b[38;5;241m=\u001b[39m \u001b[38;5;28msorted\u001b[39m([elf\u001b[38;5;241m.\u001b[39mcalories \u001b[38;5;28;01mfor\u001b[39;00m elf \u001b[38;5;129;01min\u001b[39;00m elves], reverse\u001b[38;5;241m=\u001b[39m\u001b[38;5;28;01mTrue\u001b[39;00m)\n\u001b[0;32m     24\u001b[0m \u001b[38;5;66;03m# Part 1 solution.\u001b[39;00m\n",
      "Cell \u001b[1;32mIn [6], line 14\u001b[0m, in \u001b[0;36mparse\u001b[1;34m(raw)\u001b[0m\n\u001b[0;32m     13\u001b[0m \u001b[38;5;28;01mdef\u001b[39;00m \u001b[38;5;21mparse\u001b[39m(raw: \u001b[38;5;28mstr\u001b[39m) \u001b[38;5;241m-\u001b[39m\u001b[38;5;241m>\u001b[39m \u001b[38;5;28mlist\u001b[39m[Elf]:\n\u001b[1;32m---> 14\u001b[0m     \u001b[38;5;28;01mreturn\u001b[39;00m [\n\u001b[0;32m     15\u001b[0m         Elf([\u001b[38;5;28mint\u001b[39m(food) \u001b[38;5;28;01mfor\u001b[39;00m food \u001b[38;5;129;01min\u001b[39;00m line\u001b[38;5;241m.\u001b[39msplit(\u001b[38;5;124m\"\u001b[39m\u001b[38;5;130;01m\\n\u001b[39;00m\u001b[38;5;124m\"\u001b[39m)]) \u001b[38;5;28;01mfor\u001b[39;00m line \u001b[38;5;129;01min\u001b[39;00m f\u001b[38;5;241m.\u001b[39mread()\u001b[38;5;241m.\u001b[39msplit(\u001b[38;5;124m\"\u001b[39m\u001b[38;5;130;01m\\n\u001b[39;00m\u001b[38;5;130;01m\\n\u001b[39;00m\u001b[38;5;124m\"\u001b[39m)\n\u001b[0;32m     16\u001b[0m     ]\n",
      "Cell \u001b[1;32mIn [6], line 15\u001b[0m, in \u001b[0;36m<listcomp>\u001b[1;34m(.0)\u001b[0m\n\u001b[0;32m     13\u001b[0m \u001b[38;5;28;01mdef\u001b[39;00m \u001b[38;5;21mparse\u001b[39m(raw: \u001b[38;5;28mstr\u001b[39m) \u001b[38;5;241m-\u001b[39m\u001b[38;5;241m>\u001b[39m \u001b[38;5;28mlist\u001b[39m[Elf]:\n\u001b[0;32m     14\u001b[0m     \u001b[38;5;28;01mreturn\u001b[39;00m [\n\u001b[1;32m---> 15\u001b[0m         Elf([\u001b[38;5;28mint\u001b[39m(food) \u001b[38;5;28;01mfor\u001b[39;00m food \u001b[38;5;129;01min\u001b[39;00m line\u001b[38;5;241m.\u001b[39msplit(\u001b[38;5;124m\"\u001b[39m\u001b[38;5;130;01m\\n\u001b[39;00m\u001b[38;5;124m\"\u001b[39m)]) \u001b[38;5;28;01mfor\u001b[39;00m line \u001b[38;5;129;01min\u001b[39;00m f\u001b[38;5;241m.\u001b[39mread()\u001b[38;5;241m.\u001b[39msplit(\u001b[38;5;124m\"\u001b[39m\u001b[38;5;130;01m\\n\u001b[39;00m\u001b[38;5;130;01m\\n\u001b[39;00m\u001b[38;5;124m\"\u001b[39m)\n\u001b[0;32m     16\u001b[0m     ]\n",
      "Cell \u001b[1;32mIn [6], line 15\u001b[0m, in \u001b[0;36m<listcomp>\u001b[1;34m(.0)\u001b[0m\n\u001b[0;32m     13\u001b[0m \u001b[38;5;28;01mdef\u001b[39;00m \u001b[38;5;21mparse\u001b[39m(raw: \u001b[38;5;28mstr\u001b[39m) \u001b[38;5;241m-\u001b[39m\u001b[38;5;241m>\u001b[39m \u001b[38;5;28mlist\u001b[39m[Elf]:\n\u001b[0;32m     14\u001b[0m     \u001b[38;5;28;01mreturn\u001b[39;00m [\n\u001b[1;32m---> 15\u001b[0m         Elf([\u001b[38;5;28;43mint\u001b[39;49m\u001b[43m(\u001b[49m\u001b[43mfood\u001b[49m\u001b[43m)\u001b[49m \u001b[38;5;28;01mfor\u001b[39;00m food \u001b[38;5;129;01min\u001b[39;00m line\u001b[38;5;241m.\u001b[39msplit(\u001b[38;5;124m\"\u001b[39m\u001b[38;5;130;01m\\n\u001b[39;00m\u001b[38;5;124m\"\u001b[39m)]) \u001b[38;5;28;01mfor\u001b[39;00m line \u001b[38;5;129;01min\u001b[39;00m f\u001b[38;5;241m.\u001b[39mread()\u001b[38;5;241m.\u001b[39msplit(\u001b[38;5;124m\"\u001b[39m\u001b[38;5;130;01m\\n\u001b[39;00m\u001b[38;5;130;01m\\n\u001b[39;00m\u001b[38;5;124m\"\u001b[39m)\n\u001b[0;32m     16\u001b[0m     ]\n",
      "\u001b[1;31mValueError\u001b[0m: invalid literal for int() with base 10: ''"
     ]
    }
   ],
   "source": [
    "from dataclasses import dataclass, field\n",
    "\n",
    "\n",
    "@dataclass\n",
    "class Elf:\n",
    "    foods: list[int]\n",
    "    calories: int = field(init=False)\n",
    "\n",
    "    def __post_init__(self):\n",
    "        self.calories = sum(self.foods)\n",
    "\n",
    "\n",
    "def parse(raw: str) -> list[Elf]:\n",
    "    return [\n",
    "        Elf([int(food) for food in line.split(\"\\n\")]) for line in f.read().split(\"\\n\\n\")\n",
    "    ]\n",
    "\n",
    "\n",
    "with open(\"inputs/day01.txt\") as f:\n",
    "    elves = parse(f.read())\n",
    "\n",
    "calories_carried = sorted([elf.calories for elf in elves], reverse=True)\n",
    "\n",
    "# Part 1 solution.\n",
    "print(f\"The elf carrying the most calories is carrying {calories_carried[0]} calories.\")\n",
    "\n",
    "# Part 2 solution.\n",
    "print(f\"The top three elves are carrying {sum(calories_carried[:3])} calories.\")"
   ]
  },
  {
   "cell_type": "code",
   "execution_count": 18,
   "id": "bfdb9b9f-ee7b-4a4c-8932-4e579fcb2b48",
   "metadata": {},
   "outputs": [],
   "source": [
    "from dataclasses import dataclass, field\n",
    "\n",
    "@dataclass\n",
    "class RPSGame:\n",
    "    strategy: str\n",
    "    opponent_choice: str = field(init=False)\n",
    "    my_choice: str = field(init=False)\n",
    "    result: str = field(init=False)\n",
    "    score: int = field(init=False)\n",
    "    \n",
    "    def __post_init__(self):\n",
    "        choice_mapper = {'A':'rock', 'B':'paper', 'C':'scissors', 'X':'rock', 'Y':'paper', 'Z':'scissors'}\n",
    "        points_for_result = {'loss':0, 'draw':3, 'win':6}\n",
    "        points_for_choice = {'rock':1, 'paper':2, 'scissors':3}\n",
    "        choice_values = {'rock':0, 'paper':1, 'scissors':2}\n",
    "        \n",
    "        self.opponent_choice = choice_mapper[self.strategy[0]]\n",
    "        self.my_choice = choice_mapper[self.strategy[-1]]\n",
    "        \n",
    "        winner = (3 + choice_values[self.my_choice] - choice_values[self.opponent_choice]) % 3\n",
    "        \n",
    "        if winner == 1:\n",
    "            self.result = 'win'\n",
    "        elif winner == 2:\n",
    "            self.result = 'loss'\n",
    "        else:\n",
    "            self.result = 'draw'\n",
    "            \n",
    "        self.score = points_for_choice[self.my_choice] + points_for_result[self.result]"
   ]
  },
  {
   "cell_type": "code",
   "execution_count": 22,
   "id": "23c354e8-1864-4ee3-821a-58d06db9adaa",
   "metadata": {},
   "outputs": [],
   "source": [
    "with open(\"inputs/day02.txt\") as f:\n",
    "    games = [RPSGame(line) for line in f.read().split('\\n')]"
   ]
  },
  {
   "cell_type": "code",
   "execution_count": 24,
   "id": "25e109e8-dd7f-473e-91f9-74099e5d9109",
   "metadata": {},
   "outputs": [
    {
     "data": {
      "text/plain": [
       "15572"
      ]
     },
     "execution_count": 24,
     "metadata": {},
     "output_type": "execute_result"
    }
   ],
   "source": [
    "sum(game.score for game in games)"
   ]
  },
  {
   "cell_type": "code",
   "execution_count": 27,
   "id": "2b9388d2-a9a9-4308-b84c-5d7c513e5c83",
   "metadata": {},
   "outputs": [],
   "source": [
    "from enum import Enum\n",
    "\n",
    "class RPS(Enum):\n",
    "    ROCK = 1\n",
    "    PAPER = 2\n",
    "    SCISSORS = 3\n",
    "    \n",
    "    def parse("
   ]
  },
  {
   "cell_type": "code",
   "execution_count": 28,
   "id": "79e00f3b-0522-4820-a923-57fa6f0de881",
   "metadata": {},
   "outputs": [],
   "source": [
    "scoring = {'A': {'X':4, 'Y':8, 'Z':3}, \n",
    "           'B': {'X':1, 'Y':5, 'Z':9}, \n",
    "           'C': {'X':7, 'Y':2, 'Z':6}\n",
    "           }"
   ]
  },
  {
   "cell_type": "code",
   "execution_count": null,
   "id": "b7ec2201-7b68-4287-93f0-72a1533f89db",
   "metadata": {},
   "outputs": [],
   "source": []
  }
 ],
 "metadata": {
  "kernelspec": {
   "display_name": "Python 3 (ipykernel)",
   "language": "python",
   "name": "python3"
  },
  "language_info": {
   "codemirror_mode": {
    "name": "ipython",
    "version": 3
   },
   "file_extension": ".py",
   "mimetype": "text/x-python",
   "name": "python",
   "nbconvert_exporter": "python",
   "pygments_lexer": "ipython3",
   "version": "3.9.15"
  }
 },
 "nbformat": 4,
 "nbformat_minor": 5
}
