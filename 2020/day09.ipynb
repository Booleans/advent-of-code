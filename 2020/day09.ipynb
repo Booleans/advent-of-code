{
 "cells": [
  {
   "cell_type": "code",
   "execution_count": 43,
   "id": "forty-creation",
   "metadata": {},
   "outputs": [],
   "source": [
    "with open('input.txt') as f:\n",
    "    nums = [int(line.strip()) for line in f]"
   ]
  },
  {
   "cell_type": "code",
   "execution_count": 44,
   "id": "purple-delay",
   "metadata": {},
   "outputs": [
    {
     "name": "stdout",
     "output_type": "stream",
     "text": [
      "32321523\n"
     ]
    }
   ],
   "source": [
    "search_nums = nums[:25]\n",
    "target_nums = nums[25:]\n",
    "\n",
    "for target in target_nums:\n",
    "    search_set = set(search_nums)\n",
    "    two_sum_found = any((target - num) in search_set for num in search_set)\n",
    "    \n",
    "    if two_sum_found:\n",
    "        search_nums.pop(0)\n",
    "        search_nums.append(target)\n",
    "    else:\n",
    "        print(target)\n",
    "        break"
   ]
  },
  {
   "cell_type": "code",
   "execution_count": 47,
   "id": "mechanical-kingdom",
   "metadata": {},
   "outputs": [
    {
     "name": "stdout",
     "output_type": "stream",
     "text": [
      "4794981\n"
     ]
    }
   ],
   "source": [
    "idx_left  = 0\n",
    "idx_right = 0\n",
    "target = 32321523\n",
    "\n",
    "total = sum(nums[idx_left:idx_right+1])\n",
    "\n",
    "while total != target:\n",
    "    if total < target:\n",
    "        idx_right += 1\n",
    "    else:\n",
    "        idx_left += 1\n",
    "        \n",
    "    total = sum(nums[idx_left:idx_right+1])\n",
    "        \n",
    "contiguous_nums = nums[idx_left:idx_right+1]\n",
    "result = min(contiguous_nums) + max(contiguous_nums)\n",
    "print(result)"
   ]
  },
  {
   "cell_type": "code",
   "execution_count": null,
   "id": "unexpected-stereo",
   "metadata": {},
   "outputs": [],
   "source": []
  }
 ],
 "metadata": {
  "kernelspec": {
   "display_name": "Python 3",
   "language": "python",
   "name": "python3"
  },
  "language_info": {
   "codemirror_mode": {
    "name": "ipython",
    "version": 3
   },
   "file_extension": ".py",
   "mimetype": "text/x-python",
   "name": "python",
   "nbconvert_exporter": "python",
   "pygments_lexer": "ipython3",
   "version": "3.8.8"
  }
 },
 "nbformat": 4,
 "nbformat_minor": 5
}
