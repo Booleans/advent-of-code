{
 "cells": [
  {
   "cell_type": "code",
   "execution_count": 14,
   "id": "brief-shepherd",
   "metadata": {},
   "outputs": [],
   "source": [
    "with open('input.txt') as f:\n",
    "    INSTRUCTIONS = tuple(line.strip() for line in f)"
   ]
  },
  {
   "cell_type": "code",
   "execution_count": 22,
   "id": "adjustable-spokesman",
   "metadata": {},
   "outputs": [
    {
     "name": "stdout",
     "output_type": "stream",
     "text": [
      "1186\n"
     ]
    }
   ],
   "source": [
    "facing = 'E'\n",
    "\n",
    "turns = {'R': {'N':'E', 'S':'W', 'E':'S', 'W':'N'},\n",
    "         'L': {'N':'W', 'S':'E', 'E':'N', 'W':'S'}}\n",
    "\n",
    "position_x = 0\n",
    "position_y = 0\n",
    "\n",
    "for instruction in INSTRUCTIONS:\n",
    "    direction, number = instruction[0], int(instruction[1:])\n",
    "    \n",
    "    if direction in ('R', 'L'):\n",
    "        number //= 90\n",
    "        for _ in range(number):\n",
    "            facing = turns[direction][facing]\n",
    "        continue\n",
    "    \n",
    "    if direction == 'F':\n",
    "        direction = facing\n",
    "        \n",
    "    if direction == 'N':\n",
    "        position_y += number\n",
    "    elif direction == 'S':\n",
    "        position_y -= number\n",
    "    elif direction == 'E':\n",
    "        position_x += number\n",
    "    elif direction == 'W':\n",
    "        position_x -= number\n",
    "        \n",
    "manhattan_distance = abs(position_x) + abs(position_y)\n",
    "print(manhattan_distance)"
   ]
  },
  {
   "cell_type": "code",
   "execution_count": null,
   "id": "neutral-arnold",
   "metadata": {},
   "outputs": [],
   "source": []
  }
 ],
 "metadata": {
  "kernelspec": {
   "display_name": "Python 3",
   "language": "python",
   "name": "python3"
  },
  "language_info": {
   "codemirror_mode": {
    "name": "ipython",
    "version": 3
   },
   "file_extension": ".py",
   "mimetype": "text/x-python",
   "name": "python",
   "nbconvert_exporter": "python",
   "pygments_lexer": "ipython3",
   "version": "3.7.7"
  }
 },
 "nbformat": 4,
 "nbformat_minor": 5
}
