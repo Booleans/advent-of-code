{
 "cells": [
  {
   "cell_type": "code",
   "execution_count": 1,
   "metadata": {},
   "outputs": [
    {
     "data": {
      "text/plain": [
       "['mxmkjvgsdzfhseightonetwoeight7',\n",
       " '3five4s84four9rtbzllggz',\n",
       " '75sevenzdrpkv1onetwo',\n",
       " '3q7ctkghhqkpb5four',\n",
       " 'ccxpblrgrjxcgrhjxfmtwonine8eightzzrdn4']"
      ]
     },
     "execution_count": 1,
     "metadata": {},
     "output_type": "execute_result"
    }
   ],
   "source": [
    "with open(\"inputs/day01.txt\") as f:\n",
    "    instructions = f.read().split()\n",
    "\n",
    "instructions[:5]"
   ]
  },
  {
   "cell_type": "code",
   "execution_count": 2,
   "metadata": {},
   "outputs": [
    {
     "data": {
      "text/plain": [
       "['3', '4', '8', '4', '9']"
      ]
     },
     "execution_count": 2,
     "metadata": {},
     "output_type": "execute_result"
    }
   ],
   "source": [
    "import re\n",
    "\n",
    "pattern = r'(\\d)'\n",
    "\n",
    "digits = re.compile(pattern)\n",
    "\n",
    "digits.findall(instructions[1])"
   ]
  },
  {
   "cell_type": "code",
   "execution_count": 3,
   "metadata": {},
   "outputs": [],
   "source": [
    "total = 0\n",
    "\n",
    "for instruction in instructions:\n",
    "    numbers = digits.findall(instruction)\n",
    "    total += int(f'{numbers[0]}{numbers[-1]}')"
   ]
  },
  {
   "cell_type": "code",
   "execution_count": 4,
   "metadata": {},
   "outputs": [
    {
     "data": {
      "text/plain": [
       "'mxmkjvgsdzfhseightonetwoeight7'"
      ]
     },
     "execution_count": 4,
     "metadata": {},
     "output_type": "execute_result"
    }
   ],
   "source": [
    "instructions[0]"
   ]
  },
  {
   "cell_type": "code",
   "execution_count": 18,
   "metadata": {},
   "outputs": [
    {
     "data": {
      "text/plain": [
       "['eight', 'one', 'two', 'eight', '7']"
      ]
     },
     "execution_count": 18,
     "metadata": {},
     "output_type": "execute_result"
    }
   ],
   "source": [
    "pattern = r'(?=(\\d|zero|one|two|three|four|five|six|seven|eight|nine))'\n",
    "\n",
    "digits = re.compile(pattern)\n",
    "\n",
    "digits.findall(instructions[0])"
   ]
  },
  {
   "cell_type": "code",
   "execution_count": 19,
   "metadata": {},
   "outputs": [
    {
     "data": {
      "text/plain": [
       "53592"
      ]
     },
     "execution_count": 19,
     "metadata": {},
     "output_type": "execute_result"
    }
   ],
   "source": [
    "mapper = {'zero':0, 'one':1, 'two':2, 'three':3, 'four':4, 'five':5, 'six':6, 'seven':7, 'eight':8, 'nine':9}\n",
    "total = 0\n",
    "\n",
    "for instruction in instructions:\n",
    "    numbers = digits.findall(instruction)\n",
    "    first = numbers[0]\n",
    "    last = numbers[-1]\n",
    "\n",
    "    if first in mapper:\n",
    "        first = mapper[first]\n",
    "    if last in mapper:\n",
    "        last = mapper[last]\n",
    "\n",
    "    total += int(f'{first}{last}')\n",
    "total"
   ]
  },
  {
   "cell_type": "code",
   "execution_count": 17,
   "metadata": {},
   "outputs": [
    {
     "data": {
      "text/plain": [
       "['one', 'eight']"
      ]
     },
     "execution_count": 17,
     "metadata": {},
     "output_type": "execute_result"
    }
   ],
   "source": [
    "pattern = r'(?=(\\d|zero|one|two|three|four|five|six|seven|eight|nine))'\n",
    "\n",
    "digits = re.compile(pattern)\n",
    "\n",
    "digits.findall('oneight')"
   ]
  },
  {
   "cell_type": "code",
   "execution_count": 49,
   "metadata": {},
   "outputs": [],
   "source": [
    "from dataclasses import dataclass\n",
    "import re\n",
    "\n",
    "reds = re.compile(f'(\\d+) red')\n",
    "greens = re.compile(f'(\\d+) green')\n",
    "blues = re.compile(f'(\\d+) blue')\n",
    "\n",
    "@dataclass\n",
    "class game:\n",
    "    id: int\n",
    "    games: list[str]\n",
    "    max_blue: int = 0\n",
    "    max_green: int = 0\n",
    "    max_red: int = 0\n",
    "\n",
    "    def __post_init__(self):\n",
    "        global reds\n",
    "        global greens\n",
    "        global blues\n",
    "\n",
    "        games = self.games[0].split(';')\n",
    "        for game in games:\n",
    "            if reds.findall(game):\n",
    "                num_reds = int(reds.findall(game)[0])\n",
    "                self.max_red = max(self.max_red, num_reds)\n",
    "            if blues.findall(game):\n",
    "                num_blues = int(blues.findall(game)[0])\n",
    "                self.max_blue = max(self.max_blue, num_blues)\n",
    "            if greens.findall(game):\n",
    "                num_greens = int(greens.findall(game)[0])\n",
    "                self.max_green = max(self.max_green, num_greens)\n",
    "\n",
    "with open(\"inputs/day02.txt\") as f:\n",
    "    games = f.read().split('\\n')\n",
    "\n",
    "for i, game in enumerate(games):\n"
   ]
  },
  {
   "cell_type": "code",
   "execution_count": 50,
   "metadata": {},
   "outputs": [
    {
     "data": {
      "text/plain": [
       "game(id=55, games=['3 blue, 7 green, 10 red; 4 green, 4 red; 1 green, 7 blue, 5 red; 8 blue, 10 red; 7 blue, 19 red, 1 green'], max_blue=8, max_green=7, max_red=19)"
      ]
     },
     "execution_count": 50,
     "metadata": {},
     "output_type": "execute_result"
    }
   ],
   "source": [
    "game(55, ['3 blue, 7 green, 10 red; 4 green, 4 red; 1 green, 7 blue, 5 red; 8 blue, 10 red; 7 blue, 19 red, 1 green'])"
   ]
  },
  {
   "cell_type": "code",
   "execution_count": 51,
   "metadata": {},
   "outputs": [
    {
     "data": {
      "text/plain": [
       "['Game 1',\n",
       " ' 3 blue, 7 green, 10 red; 4 green, 4 red; 1 green, 7 blue, 5 red; 8 blue, 10 red; 7 blue, 19 red, 1 green']"
      ]
     },
     "execution_count": 51,
     "metadata": {},
     "output_type": "execute_result"
    }
   ],
   "source": [
    "games[0].split(':')"
   ]
  },
  {
   "cell_type": "code",
   "execution_count": 45,
   "metadata": {},
   "outputs": [
    {
     "data": {
      "text/plain": [
       "[]"
      ]
     },
     "execution_count": 45,
     "metadata": {},
     "output_type": "execute_result"
    }
   ],
   "source": [
    "reds = re.compile('(\\d+) reddf')\n",
    "reds.findall(games[0])\n"
   ]
  },
  {
   "cell_type": "code",
   "execution_count": null,
   "metadata": {},
   "outputs": [],
   "source": []
  }
 ],
 "metadata": {
  "kernelspec": {
   "display_name": "Python 3 (ipykernel)",
   "language": "python",
   "name": "python3"
  },
  "language_info": {
   "codemirror_mode": {
    "name": "ipython",
    "version": 3
   },
   "file_extension": ".py",
   "mimetype": "text/x-python",
   "name": "python",
   "nbconvert_exporter": "python",
   "pygments_lexer": "ipython3",
   "version": "3.9.18"
  }
 },
 "nbformat": 4,
 "nbformat_minor": 4
}
