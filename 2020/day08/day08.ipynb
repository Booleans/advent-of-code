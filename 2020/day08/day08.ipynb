{
 "cells": [
  {
   "cell_type": "code",
   "execution_count": 31,
   "id": "racial-church",
   "metadata": {},
   "outputs": [],
   "source": [
    "with open('input.txt') as f:\n",
    "    lines = tuple(line.strip() for line in f)"
   ]
  },
  {
   "cell_type": "code",
   "execution_count": 35,
   "id": "arabic-official",
   "metadata": {},
   "outputs": [],
   "source": [
    "INSTRUCTIONS = []\n",
    "\n",
    "for line in lines:\n",
    "    operation, num = line.split()\n",
    "    INSTRUCTIONS.append([operation, int(num)])\n",
    "    \n",
    "# INSTRUCTIONS"
   ]
  },
  {
   "cell_type": "code",
   "execution_count": 41,
   "id": "bound-relative",
   "metadata": {},
   "outputs": [
    {
     "data": {
      "text/plain": [
       "1744"
      ]
     },
     "execution_count": 41,
     "metadata": {},
     "output_type": "execute_result"
    }
   ],
   "source": [
    "accumulator = 0\n",
    "idx = 0\n",
    "\n",
    "executed_indices = set()\n",
    "\n",
    "while idx not in executed_indices:\n",
    "    executed_indices.add(idx)\n",
    "    operation, number = INSTRUCTIONS[idx]\n",
    "    \n",
    "    if operation == 'nop':\n",
    "        idx += 1\n",
    "    elif operation == 'acc':\n",
    "        accumulator += number\n",
    "        idx += 1\n",
    "    elif operation == 'jmp':\n",
    "        idx += number\n",
    "\n",
    "accumulator"
   ]
  },
  {
   "cell_type": "code",
   "execution_count": 37,
   "id": "weekly-daughter",
   "metadata": {},
   "outputs": [],
   "source": [
    "operation, number = INSTRUCTIONS[0]"
   ]
  },
  {
   "cell_type": "code",
   "execution_count": 38,
   "id": "virgin-township",
   "metadata": {},
   "outputs": [
    {
     "data": {
      "text/plain": [
       "[['acc', 18], ['nop', 222], ['acc', -16], ['acc', 28], ['jmp', 475]]"
      ]
     },
     "execution_count": 38,
     "metadata": {},
     "output_type": "execute_result"
    }
   ],
   "source": [
    "INSTRUCTIONS[:5]"
   ]
  },
  {
   "cell_type": "code",
   "execution_count": 39,
   "id": "photographic-meter",
   "metadata": {},
   "outputs": [
    {
     "data": {
      "text/plain": [
       "612"
      ]
     },
     "execution_count": 39,
     "metadata": {},
     "output_type": "execute_result"
    }
   ],
   "source": [
    "len(INSTRUCTIONS)"
   ]
  },
  {
   "cell_type": "code",
   "execution_count": null,
   "id": "documented-practitioner",
   "metadata": {},
   "outputs": [],
   "source": []
  }
 ],
 "metadata": {
  "kernelspec": {
   "display_name": "Python 3",
   "language": "python",
   "name": "python3"
  },
  "language_info": {
   "codemirror_mode": {
    "name": "ipython",
    "version": 3
   },
   "file_extension": ".py",
   "mimetype": "text/x-python",
   "name": "python",
   "nbconvert_exporter": "python",
   "pygments_lexer": "ipython3",
   "version": "3.8.5"
  }
 },
 "nbformat": 4,
 "nbformat_minor": 5
}
