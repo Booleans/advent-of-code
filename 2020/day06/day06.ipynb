{
 "cells": [
  {
   "cell_type": "code",
   "execution_count": 3,
   "id": "personalized-tablet",
   "metadata": {},
   "outputs": [],
   "source": [
    "with open('input.txt') as f:\n",
    "    inputs = [line.strip().split() for line in f]"
   ]
  },
  {
   "cell_type": "code",
   "execution_count": 26,
   "id": "portuguese-diploma",
   "metadata": {},
   "outputs": [
    {
     "data": {
      "text/plain": [
       "[['c', 'jc', 'ck', 'cue', 'c'],\n",
       " ['ysjircxtgfzpb',\n",
       "  'ynsxpgtcifz',\n",
       "  'riydpzsfxutcg',\n",
       "  'gsyitzdvpfcrox',\n",
       "  'yclxfzietsmghwp'],\n",
       " ['bacqdjhsf', 'fhbdjacsq', 'tbjmcxlqashdfo', 'hebjascfdq', 'bgqjscdfha'],\n",
       " ['pt', 'tp', 'xtzn', 'tu', 'pt'],\n",
       " ['zjn', 'nzj']]"
      ]
     },
     "execution_count": 26,
     "metadata": {},
     "output_type": "execute_result"
    }
   ],
   "source": [
    "with open('input.txt') as f:\n",
    "    raw = f.read()\n",
    "\n",
    "# Passports are separated by '\\n\\n'.\n",
    "groups = [passport.split('\\n') for passport in raw.split('\\n\\n')]\n",
    "groups[:5]"
   ]
  },
  {
   "cell_type": "code",
   "execution_count": 32,
   "id": "attended-north",
   "metadata": {},
   "outputs": [],
   "source": [
    "yes_counts = (len(set(''.join(group))) for group in groups)"
   ]
  },
  {
   "cell_type": "code",
   "execution_count": 33,
   "id": "intelligent-possibility",
   "metadata": {},
   "outputs": [
    {
     "data": {
      "text/plain": [
       "6351"
      ]
     },
     "execution_count": 33,
     "metadata": {},
     "output_type": "execute_result"
    }
   ],
   "source": [
    "sum(yes_counts)"
   ]
  },
  {
   "cell_type": "code",
   "execution_count": 35,
   "id": "social-extent",
   "metadata": {},
   "outputs": [
    {
     "data": {
      "text/plain": [
       "set()"
      ]
     },
     "execution_count": 35,
     "metadata": {},
     "output_type": "execute_result"
    }
   ],
   "source": [
    "x = set()\n",
    "x"
   ]
  },
  {
   "cell_type": "code",
   "execution_count": 41,
   "id": "given-margin",
   "metadata": {},
   "outputs": [
    {
     "data": {
      "text/plain": [
       "{'c', 'ck', 'cue', 'jc'}"
      ]
     },
     "execution_count": 41,
     "metadata": {},
     "output_type": "execute_result"
    }
   ],
   "source": [
    "set(groups[0])"
   ]
  },
  {
   "cell_type": "code",
   "execution_count": 49,
   "id": "employed-surge",
   "metadata": {},
   "outputs": [
    {
     "data": {
      "text/plain": [
       "3143"
      ]
     },
     "execution_count": 49,
     "metadata": {},
     "output_type": "execute_result"
    }
   ],
   "source": [
    "num_questions_all_answered_yes = []\n",
    "\n",
    "for group in groups:\n",
    "    all_yes = set(group[0])\n",
    "    for person in group:\n",
    "        all_yes.intersection_update(set(person))\n",
    "    num_questions_all_answered_yes.append(len(all_yes))\n",
    "\n",
    "print(sum(num_questions_all_answered_yes))"
   ]
  },
  {
   "cell_type": "code",
   "execution_count": null,
   "id": "convinced-original",
   "metadata": {},
   "outputs": [],
   "source": []
  }
 ],
 "metadata": {
  "kernelspec": {
   "display_name": "Python 3",
   "language": "python",
   "name": "python3"
  },
  "language_info": {
   "codemirror_mode": {
    "name": "ipython",
    "version": 3
   },
   "file_extension": ".py",
   "mimetype": "text/x-python",
   "name": "python",
   "nbconvert_exporter": "python",
   "pygments_lexer": "ipython3",
   "version": "3.8.5"
  }
 },
 "nbformat": 4,
 "nbformat_minor": 5
}
