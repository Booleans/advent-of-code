{
 "cells": [
  {
   "cell_type": "code",
   "execution_count": 49,
   "metadata": {},
   "outputs": [],
   "source": [
    "from dataclasses import dataclass\n",
    "\n",
    "with open('inputs/day02.txt') as f:\n",
    "    presents = [line.strip().split('x') for line in f]\n",
    "\n"
   ]
  },
  {
   "cell_type": "code",
   "execution_count": 50,
   "metadata": {},
   "outputs": [],
   "source": [
    "@dataclass\n",
    "class Present:\n",
    "    length: int\n",
    "    width: int\n",
    "    height: int\n",
    "\n",
    "    def __post_init__(self):\n",
    "        self.length = int(self.length)\n",
    "        self.width = int(self.width)\n",
    "        self.height = int(self.height)\n",
    "        self.volume = self.length * self.width * self.height\n",
    "        self.surface_area = 2 * ((self.length * self.width) + (self.length * self.height) + (self.width * self.height))\n",
    "        self.extra_paper = min((self.length * self.width), (self.length * self.height), (self.width * self.height))\n",
    "        self.paper_required = self.surface_area + self.extra_paper\n",
    "        self.smallest_perimeter = 2 * min(((self.length + self.width), (self.length + self.height), (self.width + self.height)))\n",
    "        self.ribbon_needed = self.smallest_perimeter + self.volume\n",
    "\n",
    "\n"
   ]
  },
  {
   "cell_type": "code",
   "execution_count": 51,
   "metadata": {},
   "outputs": [],
   "source": [
    "presents = [Present(*dimensions) for dimensions in presents]"
   ]
  },
  {
   "cell_type": "code",
   "execution_count": 52,
   "metadata": {},
   "outputs": [],
   "source": [
    "wrapping_paper_needed = sum(present.paper_required for present in presents)"
   ]
  },
  {
   "cell_type": "code",
   "execution_count": 54,
   "metadata": {},
   "outputs": [
    {
     "data": {
      "text/plain": [
       "3783758"
      ]
     },
     "execution_count": 54,
     "metadata": {},
     "output_type": "execute_result"
    }
   ],
   "source": [
    "sum(present.ribbon_needed for present in presents)"
   ]
  },
  {
   "cell_type": "code",
   "execution_count": null,
   "metadata": {},
   "outputs": [],
   "source": []
  }
 ],
 "metadata": {
  "interpreter": {
   "hash": "a91bc8a063c3c2ea66956a02b877c5d73840bc36afc8b1449b0f86f6d67fc53a"
  },
  "kernelspec": {
   "display_name": "Python 3.9.7 64-bit",
   "language": "python",
   "name": "python3"
  },
  "language_info": {
   "codemirror_mode": {
    "name": "ipython",
    "version": 3
   },
   "file_extension": ".py",
   "mimetype": "text/x-python",
   "name": "python",
   "nbconvert_exporter": "python",
   "pygments_lexer": "ipython3",
   "version": "3.9.7"
  },
  "orig_nbformat": 4
 },
 "nbformat": 4,
 "nbformat_minor": 2
}
