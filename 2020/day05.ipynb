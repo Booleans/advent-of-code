{
 "cells": [
  {
   "cell_type": "code",
   "execution_count": 1,
   "metadata": {},
   "outputs": [],
   "source": [
    "translator = str.maketrans({'F':'0', 'R':'0', 'B':'1', 'L':'1'})"
   ]
  },
  {
   "cell_type": "code",
   "execution_count": 13,
   "metadata": {},
   "outputs": [],
   "source": [
    "with open('input.txt') as f:\n",
    "    boarding_passes = [line.strip() for line in f]\n",
    "    \n",
    "translator = str.maketrans({'F':'0', 'R':'1', 'B':'1', 'L':'0'})\n",
    "\n",
    "boarding_passes = [seat.translate(translator) for seat in boarding_passes]"
   ]
  },
  {
   "cell_type": "code",
   "execution_count": 16,
   "metadata": {},
   "outputs": [],
   "source": [
    "highest_ID = 0\n",
    "\n",
    "for seat in boarding_passes:\n",
    "    row = int(seat[:7], 2)\n",
    "    column = int(seat[-3:], 2)\n",
    "    ID = row*8 + column\n",
    "    \n",
    "    if ID > highest_ID:\n",
    "        highest_ID = ID"
   ]
  },
  {
   "cell_type": "code",
   "execution_count": 17,
   "metadata": {},
   "outputs": [
    {
     "data": {
      "text/plain": [
       "994"
      ]
     },
     "execution_count": 17,
     "metadata": {},
     "output_type": "execute_result"
    }
   ],
   "source": [
    "highest_ID"
   ]
  },
  {
   "cell_type": "code",
   "execution_count": 14,
   "metadata": {},
   "outputs": [],
   "source": [
    "seat = 'BFFFBBFRRR'.translate(translator)\n",
    "\n",
    "row = int(seat[:7], 2)\n",
    "column = int(seat[-3:], 2)\n",
    "ID = row*8 + column"
   ]
  },
  {
   "cell_type": "code",
   "execution_count": 15,
   "metadata": {},
   "outputs": [
    {
     "data": {
      "text/plain": [
       "(70, 7, 567)"
      ]
     },
     "execution_count": 15,
     "metadata": {},
     "output_type": "execute_result"
    }
   ],
   "source": [
    "row, column, ID"
   ]
  },
  {
   "cell_type": "code",
   "execution_count": null,
   "metadata": {},
   "outputs": [],
   "source": []
  }
 ],
 "metadata": {
  "kernelspec": {
   "display_name": "Python 3",
   "language": "python",
   "name": "python3"
  },
  "language_info": {
   "codemirror_mode": {
    "name": "ipython",
    "version": 3
   },
   "file_extension": ".py",
   "mimetype": "text/x-python",
   "name": "python",
   "nbconvert_exporter": "python",
   "pygments_lexer": "ipython3",
   "version": "3.8.5"
  }
 },
 "nbformat": 4,
 "nbformat_minor": 4
}
